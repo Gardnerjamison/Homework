{
 "cells": [
  {
   "cell_type": "markdown",
   "metadata": {},
   "source": [
    "# San Francisco Rental Prices Dashboard\n",
    "\n",
    "In this notebook, you will compile the visualizations from the previous analysis into functions that can be used for a Panel dashboard."
   ]
  },
  {
   "cell_type": "code",
   "execution_count": 21,
   "metadata": {},
   "outputs": [],
   "source": [
    "# imports\n",
    "import panel as pn\n",
    "pn.extension('plotly')\n",
    "import plotly.express as px\n",
    "import pandas as pd\n",
    "import hvplot.pandas\n",
    "import matplotlib.pyplot as plt\n",
    "import os\n",
    "from pathlib import Path\n",
    "from dotenv import load_dotenv"
   ]
  },
  {
   "cell_type": "code",
   "execution_count": 22,
   "metadata": {},
   "outputs": [],
   "source": [
    "# Read the Mapbox API key\n",
    "load_dotenv()\n",
    "map_box_api = os.getenv(\"MAP_BOX_API_KEY\")\n",
    "px.set_mapbox_access_token(map_box_api)"
   ]
  },
  {
   "cell_type": "markdown",
   "metadata": {},
   "source": [
    "# Import Data"
   ]
  },
  {
   "cell_type": "code",
   "execution_count": 23,
   "metadata": {},
   "outputs": [],
   "source": [
    "# Import the necessary CSVs to Pandas DataFrames\n",
    "file_path = Path(\"Data/sfo_neighborhoods_census_data.csv\")\n",
    "sf = pd.read_csv(file_path, index_col=\"year\")\n",
    "\n",
    "file_path = Path(\"Data/neighborhoods_coordinates.csv\")\n",
    "neighborhood_locations = pd.read_csv(file_path)"
   ]
  },
  {
   "cell_type": "markdown",
   "metadata": {},
   "source": [
    "- - -"
   ]
  },
  {
   "cell_type": "markdown",
   "metadata": {},
   "source": [
    "## Panel Visualizations\n",
    "\n",
    "In this section, you will copy the code for each plot type from your analysis notebook and place it into separate functions that Panel can use to create panes for the dashboard. \n",
    "\n",
    "These functions will convert the plot object to a Panel pane.\n",
    "\n",
    "Be sure to include any DataFrame transformation/manipulation code required along with the plotting code.\n",
    "\n",
    "Return a Panel pane object from each function that can be used to build the dashboard.\n",
    "\n",
    "Note: Remove any `.show()` lines from the code. We want to return the plots instead of showing them. The Panel dashboard will then display the plots."
   ]
  },
  {
   "cell_type": "code",
   "execution_count": 164,
   "metadata": {},
   "outputs": [],
   "source": [
    "# Define Panel Visualization Functions\n",
    "def housing_units_per_year():\n",
    "    \"\"\"Housing Units Per Year.\"\"\"\n",
    "    \n",
    "    housing = sf[\"housing_units\"]\n",
    "    housing = housing.groupby([sf.index]).mean()\n",
    "    \n",
    "    housing_fig = plt.figure()\n",
    "    housing_plot = housing.plot.bar(x='year', ylim=[370000, 385000], title=\"Average Number of Housing Units Sold per Year\")\n",
    "    plt.close(housing_fig)\n",
    "    \n",
    "    return pn.pane.Matplotlib(housing_fig)\n",
    "\n",
    "\n",
    "def average_gross_rent():\n",
    "    \"\"\"Average Gross Rent in San Francisco Per Year.\"\"\"\n",
    "    \n",
    "   \n",
    "    average_rent_sqr_foot = sf[\"gross_rent\"].groupby([sf.index]).mean()\n",
    "    gross_rent_fig = plt.figure()\n",
    "    average_rent_plot = (average_rent_sqr_foot.plot.line(x='year', y='gross_rent', title=\"Average Goss Rent per Year\"))\n",
    "    plt.close(gross_rent_fig)\n",
    "    \n",
    "    return pn.pane.Matplotlib(gross_rent_fig)\n",
    "\n",
    "\n",
    "\n",
    "def average_sales_price():\n",
    "    \"\"\"Average Sales Price Per Year.\"\"\"\n",
    "    \n",
    "    average_price_sqr_foot = sf[\"sale_price_sqr_foot\"].groupby([sf.index]).mean()\n",
    "    sales_price_fig = plt.figure()\n",
    "    average_price_plot = (average_price_sqr_foot.plot.line(x='year', y='sale_price_sqr_foot', title=\"Average Sales Price per Year\"))\n",
    "    plt.close(sales_price_fig)\n",
    "    \n",
    "    return pn.pane.Matplotlib(sales_price_fig)\n",
    "\n",
    "\n",
    "\n",
    "def average_price_by_neighborhood():\n",
    "    \"\"\"Average Prices by Neighborhood.\"\"\"\n",
    "    \n",
    "    sf_data_new = sf.groupby([sf.index, \"neighborhood\"]).mean()\n",
    "    sfo_sales = sf_data_new[\"sale_price_sqr_foot\"]\n",
    "    sfo_sales_df = pd.DataFrame(sfo_sales).reset_index()\n",
    "     \n",
    "    \n",
    "    return sfo_sales_df.loc[sfo_sales_df['neighborhood']==\"neighborhood\",:].hvplot.line(\n",
    "        x=\"year\",\n",
    "        y=\"sale_price_sqr_foot\",\n",
    "        colormap=\"coolwarm\",\n",
    "        title=\"SF Sale per Square foot per Year\",\n",
    "    )\n",
    "\n",
    "sf_data_new = sf.groupby([sf.index, \"neighborhood\"]).mean()\n",
    "sfo_sales = sf_data_new[\"sale_price_sqr_foot\"]\n",
    "sfo_sales_df = pd.DataFrame(sfo_sales).reset_index()\n",
    "neighborhood_choice = sfo_sales_df[\"neighborhood\"].unique()\n",
    "\n",
    "\n",
    "\n",
    "\n",
    "def top_most_expensive_neighborhoods():\n",
    "    \"\"\"Top 10 Most Expensive Neighborhoods.\"\"\"\n",
    "\n",
    "    avg_value_per_neighborhood = sf.groupby([sf[\"neighborhood\"]]).mean()\n",
    "    avg_value_per_neighborhood = avg_value_per_neighborhood.reset_index()\n",
    "    top_10_most_expensive = avg_value_per_neighborhood.nlargest(10, 'sale_price_sqr_foot').reset_index()\n",
    "    top10_plot = px.bar(top_10_most_expensive,\n",
    "    x=\"neighborhood\", \n",
    "    y=\"sale_price_sqr_foot\", \n",
    "    title=\"Top 10 Most Expensive\", \n",
    "    )\n",
    "\n",
    "    return top10_plot\n",
    "\n",
    "\n",
    "def most_expensive_neighborhoods_rent_sales():\n",
    "    \"\"\"Comparison of Rent and Sales Prices of Most Expensive Neighborhoods.\"\"\"   \n",
    "    \n",
    "    top_neighborhood = sf.groupby([sf[\"neighborhood\"]]).mean()\n",
    "    top_neighborhood = top_neighborhood.reset_index()\n",
    "    most_expensive_neighbo = top_neighborhood.nlargest(10, 'gross_rent').reset_index()\n",
    "    expneigh_plot = px.bar(most_expensive_neighbo,\n",
    "    x=\"neighborhood\", \n",
    "    y=\"sale_price_sqr_foot\", \n",
    "    title=\"Top 10 Most Expensive Rent\", \n",
    "    )\n",
    "\n",
    "    return expneigh_plot\n",
    "\n",
    "    \n",
    "    \n",
    "def parallel_coordinates():\n",
    "    \"\"\"Parallel Coordinates Plot.\"\"\"\n",
    "\n",
    "    avg_value_per_neighborhood = sf.groupby([sf[\"neighborhood\"]]).mean()    \n",
    "    top_10_most_expensive = avg_value_per_neighborhood.nlargest(10, 'sale_price_sqr_foot').reset_index()\n",
    "    top_10_parallel = px.parallel_coordinates(\n",
    "    top_10_most_expensive, \n",
    "    color='sale_price_sqr_foot')\n",
    "\n",
    "    return top_10_parallel\n",
    "\n",
    "\n",
    "\n",
    "def parallel_categories():\n",
    "    \"\"\"Parallel Categories Plot.\"\"\"\n",
    "    \n",
    "    avg_value_per_neighborhood = sf.groupby([sf[\"neighborhood\"]]).mean()  \n",
    "    top_10_ex_neighborhood = avg_value_per_neighborhood.nlargest(10, 'sale_price_sqr_foot').reset_index()\n",
    "    top_10_parallel_categories = px.parallel_categories(\n",
    "    top_10_ex_neighborhood,\n",
    "    dimensions=[\"neighborhood\", \"sale_price_sqr_foot\", \"housing_units\", \"gross_rent\"],\n",
    "    color=\"sale_price_sqr_foot\",\n",
    "    color_continuous_scale=px.colors.sequential.Inferno,\n",
    ")\n",
    "\n",
    "    return top_10_parallel_categories\n",
    "\n",
    "\n",
    "\n",
    "def neighborhood_map():\n",
    "    \"\"\"Neighborhood Map.\"\"\"\n",
    "\n",
    "    df_neighborhoods = sf.groupby(by=\"neighborhood\").mean()\n",
    "    df_neighborhoods = df_neighborhoods.sort_values(by=\"sale_price_sqr_foot\", ascending=False)\n",
    "    df_neighborhoods = df_neighborhoods.reset_index()\n",
    "    df_all_neighborhoods=pd.concat([neighborhood_locations,\n",
    "                                df_neighborhoods['sale_price_sqr_foot'],\n",
    "                                df_neighborhoods['housing_units'],\n",
    "                                df_neighborhoods['gross_rent']\n",
    "                               ], axis=1).dropna()\n",
    "    \n",
    "    \n",
    "    px.set_mapbox_access_token(map_box_api)\n",
    "    map = px.scatter_mapbox(\n",
    "        df_all_neighborhoods,\n",
    "        lat=\"Lat\",\n",
    "        lon=\"Lon\",\n",
    "        size=\"sale_price_sqr_foot\",\n",
    "        color=\"gross_rent\",\n",
    "        color_continuous_scale=px.colors.cyclical.IceFire,\n",
    "        size_max=15,\n",
    "        zoom=11,\n",
    "        hover_name=\"Neighborhood\",\n",
    "        title=\"Average Sale Price Per SqFt & Gross Rent in San Francisco\",\n",
    "        width=960,\n",
    "        height=600\n",
    "    )\n",
    "    plotly_panel = pn.pane.Plotly(map)\n",
    "    plotly_panel._updates = True\n",
    "    return plotly_panel\n",
    "\n",
    "\n",
    "def sunburst():\n",
    "    \"\"\"Sunburst Plot.\"\"\"\n",
    "    \n",
    "    px.sunburst(\n",
    "       sf_data_new, path=['neighborhood', 'housing_units'],\n",
    "        values='sale_price_sqr_foot',\n",
    "        color='gross_rent')\n"
   ]
  },
  {
   "cell_type": "markdown",
   "metadata": {},
   "source": [
    "## Panel Dashboard\n",
    "\n",
    "In this section, you will combine all of the plots into a single dashboard view using Panel. Be creative with your dashboard design!"
   ]
  },
  {
   "cell_type": "code",
   "execution_count": 148,
   "metadata": {},
   "outputs": [],
   "source": [
    "# Create a Title for the Dashboard\n",
    "title = pn.pane.Markdown(\n",
    "    \"\"\"\n",
    "# Real Estate in San Francisco from 2010 to 2016\n",
    "\"\"\",\n",
    "    width=800,\n",
    ")\n",
    "\n",
    "\n",
    "# Create a tab layout for the dashboard\n",
    "tabs = pn.Tabs(\n",
    "    (\"Introduction\", pn.Column(neighborhood_map())),\n",
    "    (\"Year Over Year\", pn.Row(housing_units_per_year(), average_gross_rent(), average_sales_price())),\n",
    "    (\"Neighborhoods and You\", pn.Column(average_price_by_neighborhood(), top_most_expensive_neighborhoods())),\n",
    "    (\n",
    "        \"Parallel Plots\",\n",
    "        pn.Column(parallel_coordinates(), parallel_categories(), width=960),\n",
    "    ),\n",
    ")\n",
    "panel = pn.Column(pn.Row(title), tabs, width=900)\n",
    "\n",
    "\n",
    "# Create the dashboard\n",
    "panel = pn.Column(pn.Row(title), tabs, width=900)"
   ]
  },
  {
   "cell_type": "markdown",
   "metadata": {},
   "source": [
    "## Serve the Panel Dashboard"
   ]
  },
  {
   "cell_type": "code",
   "execution_count": 149,
   "metadata": {},
   "outputs": [
    {
     "data": {},
     "metadata": {},
     "output_type": "display_data"
    },
    {
     "data": {},
     "metadata": {},
     "output_type": "display_data"
    },
    {
     "data": {
      "application/vnd.holoviews_exec.v0+json": "",
      "text/html": [
       "<div id='4391'>\n",
       "\n",
       "\n",
       "\n",
       "\n",
       "\n",
       "  <div class=\"bk-root\" id=\"1494ac60-e023-400d-a201-f0820fedf1a1\" data-root-id=\"4391\"></div>\n",
       "</div>\n",
       "<script type=\"application/javascript\">(function(root) {\n",
       "  function embed_document(root) {\n",
       "    var docs_json = {\"a9d630fd-7324-45e7-be4e-3d38ca2b2b29\":{\"defs\":[],\"roots\":{\"references\":[{\"attributes\":{\"bottom_units\":\"screen\",\"fill_alpha\":0.5,\"fill_color\":\"lightgrey\",\"left_units\":\"screen\",\"level\":\"overlay\",\"line_alpha\":1.0,\"line_color\":\"black\",\"line_dash\":[4,4],\"line_width\":2,\"right_units\":\"screen\",\"syncable\":false,\"top_units\":\"screen\"},\"id\":\"4430\",\"type\":\"BoxAnnotation\"},{\"attributes\":{},\"id\":\"4426\",\"type\":\"PanTool\"},{\"attributes\":{\"axis\":{\"id\":\"4421\"},\"dimension\":1,\"grid_line_color\":null,\"ticker\":null},\"id\":\"4424\",\"type\":\"Grid\"},{\"attributes\":{},\"id\":\"4427\",\"type\":\"WheelZoomTool\"},{\"attributes\":{\"active_multi\":null,\"tools\":[{\"id\":\"4407\"},{\"id\":\"4425\"},{\"id\":\"4426\"},{\"id\":\"4427\"},{\"id\":\"4428\"},{\"id\":\"4429\"}]},\"id\":\"4431\",\"type\":\"Toolbar\"},{\"attributes\":{\"data\":{\"sale_price_sqr_foot\":{\"__ndarray__\":\"\",\"dtype\":\"float64\",\"order\":\"little\",\"shape\":[0]},\"year\":[]},\"selected\":{\"id\":\"4439\"},\"selection_policy\":{\"id\":\"4461\"}},\"id\":\"4438\",\"type\":\"ColumnDataSource\"},{\"attributes\":{},\"id\":\"4425\",\"type\":\"SaveTool\"},{\"attributes\":{\"margin\":[0,0,0,0],\"tabs\":[{\"id\":\"4398\"},{\"id\":\"4403\"},{\"id\":\"4475\"},{\"id\":\"4481\"}]},\"id\":\"4394\",\"type\":\"Tabs\"},{\"attributes\":{\"overlay\":{\"id\":\"4430\"}},\"id\":\"4428\",\"type\":\"BoxZoomTool\"},{\"attributes\":{\"data\":{\"x\":[[\"Union Square District\",\"Merced Heights\",\"Miraloma Park\",\"Pacific Heights\",\"Westwood Park\",\"Telegraph Hill\",\"Presidio Heights\",\"Cow Hollow\",\"Potrero Hill\",\"South Beach\"]],\"y\":[{\"__ndarray__\":\"JRAUMfI/jEB9IrkvwqaIQFx/3pp8XohAFZsVUHKMhUBr0ERas3iFQLsKhXgNJIVAy835O80ahUALV25bts+EQJrMCuEbsIRAya3y7v5QhEA=\",\"dtype\":\"float64\",\"order\":\"little\",\"shape\":[10]}]},\"selected\":{\"id\":\"4492\"},\"selection_policy\":{\"id\":\"4491\"}},\"id\":\"4473\",\"type\":\"ColumnDataSource\"},{\"attributes\":{},\"id\":\"4429\",\"type\":\"ResetTool\"},{\"attributes\":{\"child\":{\"id\":\"4404\"},\"name\":\"Column05154\",\"title\":\"Neighborhoods and You\"},\"id\":\"4475\",\"type\":\"Panel\"},{\"attributes\":{\"children\":[{\"id\":\"4397\"}],\"margin\":[0,0,0,0],\"name\":\"Column05064\"},\"id\":\"4395\",\"type\":\"Column\"},{\"attributes\":{\"children\":[{\"id\":\"4400\"},{\"id\":\"4401\"},{\"id\":\"4402\"}],\"margin\":[0,0,0,0],\"name\":\"Row05071\"},\"id\":\"4399\",\"type\":\"Row\"},{\"attributes\":{\"line_alpha\":0.2,\"line_color\":\"#30a2da\",\"line_width\":2,\"x\":{\"field\":\"year\"},\"y\":{\"field\":\"sale_price_sqr_foot\"}},\"id\":\"4443\",\"type\":\"Line\"},{\"attributes\":{\"data\":[{\"hovertemplate\":\"<b>%{hovertext}</b><br><br>sale_price_sqr_foot=%{marker.size}<br>Lat=%{lat}<br>Lon=%{lon}<br>gross_rent=%{marker.color}<extra></extra>\",\"legendgroup\":\"\",\"marker\":{\"coloraxis\":\"coloraxis\",\"sizemode\":\"area\",\"sizeref\":4.017747811875842},\"mode\":\"markers\",\"name\":\"\",\"showlegend\":false,\"subplot\":\"mapbox\",\"type\":\"scattermapbox\"}],\"data_sources\":[{\"id\":\"4396\"}],\"layout\":{\"coloraxis\":{\"colorbar\":{\"title\":{\"text\":\"gross_rent\"}},\"colorscale\":[[0.0,\"#000000\"],[0.0625,\"#001f4d\"],[0.125,\"#003786\"],[0.1875,\"#0e58a8\"],[0.25,\"#217eb8\"],[0.3125,\"#30a4ca\"],[0.375,\"#54c8df\"],[0.4375,\"#9be4ef\"],[0.5,\"#e1e9d1\"],[0.5625,\"#f3d573\"],[0.625,\"#e7b000\"],[0.6875,\"#da8200\"],[0.75,\"#c65400\"],[0.8125,\"#ac2301\"],[0.875,\"#820000\"],[0.9375,\"#4c0000\"],[1.0,\"#000000\"]]},\"height\":600,\"legend\":{\"itemsizing\":\"constant\",\"tracegroupgap\":0},\"mapbox\":{\"center\":{\"lat\":37.76019350684932,\"lon\":-122.43912380821916},\"domain\":{\"x\":[0.0,1.0],\"y\":[0.0,1.0]},\"zoom\":11},\"template\":{\"data\":{\"bar\":[{\"error_x\":{\"color\":\"#2a3f5f\"},\"error_y\":{\"color\":\"#2a3f5f\"},\"marker\":{\"line\":{\"color\":\"#E5ECF6\",\"width\":0.5}},\"type\":\"bar\"}],\"barpolar\":[{\"marker\":{\"line\":{\"color\":\"#E5ECF6\",\"width\":0.5}},\"type\":\"barpolar\"}],\"carpet\":[{\"aaxis\":{\"endlinecolor\":\"#2a3f5f\",\"gridcolor\":\"white\",\"linecolor\":\"white\",\"minorgridcolor\":\"white\",\"startlinecolor\":\"#2a3f5f\"},\"baxis\":{\"endlinecolor\":\"#2a3f5f\",\"gridcolor\":\"white\",\"linecolor\":\"white\",\"minorgridcolor\":\"white\",\"startlinecolor\":\"#2a3f5f\"},\"type\":\"carpet\"}],\"choropleth\":[{\"colorbar\":{\"outlinewidth\":0,\"ticks\":\"\"},\"type\":\"choropleth\"}],\"contour\":[{\"colorbar\":{\"outlinewidth\":0,\"ticks\":\"\"},\"colorscale\":[[0.0,\"#0d0887\"],[0.1111111111111111,\"#46039f\"],[0.2222222222222222,\"#7201a8\"],[0.3333333333333333,\"#9c179e\"],[0.4444444444444444,\"#bd3786\"],[0.5555555555555556,\"#d8576b\"],[0.6666666666666666,\"#ed7953\"],[0.7777777777777778,\"#fb9f3a\"],[0.8888888888888888,\"#fdca26\"],[1.0,\"#f0f921\"]],\"type\":\"contour\"}],\"contourcarpet\":[{\"colorbar\":{\"outlinewidth\":0,\"ticks\":\"\"},\"type\":\"contourcarpet\"}],\"heatmap\":[{\"colorbar\":{\"outlinewidth\":0,\"ticks\":\"\"},\"colorscale\":[[0.0,\"#0d0887\"],[0.1111111111111111,\"#46039f\"],[0.2222222222222222,\"#7201a8\"],[0.3333333333333333,\"#9c179e\"],[0.4444444444444444,\"#bd3786\"],[0.5555555555555556,\"#d8576b\"],[0.6666666666666666,\"#ed7953\"],[0.7777777777777778,\"#fb9f3a\"],[0.8888888888888888,\"#fdca26\"],[1.0,\"#f0f921\"]],\"type\":\"heatmap\"}],\"heatmapgl\":[{\"colorbar\":{\"outlinewidth\":0,\"ticks\":\"\"},\"colorscale\":[[0.0,\"#0d0887\"],[0.1111111111111111,\"#46039f\"],[0.2222222222222222,\"#7201a8\"],[0.3333333333333333,\"#9c179e\"],[0.4444444444444444,\"#bd3786\"],[0.5555555555555556,\"#d8576b\"],[0.6666666666666666,\"#ed7953\"],[0.7777777777777778,\"#fb9f3a\"],[0.8888888888888888,\"#fdca26\"],[1.0,\"#f0f921\"]],\"type\":\"heatmapgl\"}],\"histogram\":[{\"marker\":{\"colorbar\":{\"outlinewidth\":0,\"ticks\":\"\"}},\"type\":\"histogram\"}],\"histogram2d\":[{\"colorbar\":{\"outlinewidth\":0,\"ticks\":\"\"},\"colorscale\":[[0.0,\"#0d0887\"],[0.1111111111111111,\"#46039f\"],[0.2222222222222222,\"#7201a8\"],[0.3333333333333333,\"#9c179e\"],[0.4444444444444444,\"#bd3786\"],[0.5555555555555556,\"#d8576b\"],[0.6666666666666666,\"#ed7953\"],[0.7777777777777778,\"#fb9f3a\"],[0.8888888888888888,\"#fdca26\"],[1.0,\"#f0f921\"]],\"type\":\"histogram2d\"}],\"histogram2dcontour\":[{\"colorbar\":{\"outlinewidth\":0,\"ticks\":\"\"},\"colorscale\":[[0.0,\"#0d0887\"],[0.1111111111111111,\"#46039f\"],[0.2222222222222222,\"#7201a8\"],[0.3333333333333333,\"#9c179e\"],[0.4444444444444444,\"#bd3786\"],[0.5555555555555556,\"#d8576b\"],[0.6666666666666666,\"#ed7953\"],[0.7777777777777778,\"#fb9f3a\"],[0.8888888888888888,\"#fdca26\"],[1.0,\"#f0f921\"]],\"type\":\"histogram2dcontour\"}],\"mesh3d\":[{\"colorbar\":{\"outlinewidth\":0,\"ticks\":\"\"},\"type\":\"mesh3d\"}],\"parcoords\":[{\"line\":{\"colorbar\":{\"outlinewidth\":0,\"ticks\":\"\"}},\"type\":\"parcoords\"}],\"pie\":[{\"automargin\":true,\"type\":\"pie\"}],\"scatter\":[{\"marker\":{\"colorbar\":{\"outlinewidth\":0,\"ticks\":\"\"}},\"type\":\"scatter\"}],\"scatter3d\":[{\"line\":{\"colorbar\":{\"outlinewidth\":0,\"ticks\":\"\"}},\"marker\":{\"colorbar\":{\"outlinewidth\":0,\"ticks\":\"\"}},\"type\":\"scatter3d\"}],\"scattercarpet\":[{\"marker\":{\"colorbar\":{\"outlinewidth\":0,\"ticks\":\"\"}},\"type\":\"scattercarpet\"}],\"scattergeo\":[{\"marker\":{\"colorbar\":{\"outlinewidth\":0,\"ticks\":\"\"}},\"type\":\"scattergeo\"}],\"scattergl\":[{\"marker\":{\"colorbar\":{\"outlinewidth\":0,\"ticks\":\"\"}},\"type\":\"scattergl\"}],\"scattermapbox\":[{\"marker\":{\"colorbar\":{\"outlinewidth\":0,\"ticks\":\"\"}},\"type\":\"scattermapbox\"}],\"scatterpolar\":[{\"marker\":{\"colorbar\":{\"outlinewidth\":0,\"ticks\":\"\"}},\"type\":\"scatterpolar\"}],\"scatterpolargl\":[{\"marker\":{\"colorbar\":{\"outlinewidth\":0,\"ticks\":\"\"}},\"type\":\"scatterpolargl\"}],\"scatterternary\":[{\"marker\":{\"colorbar\":{\"outlinewidth\":0,\"ticks\":\"\"}},\"type\":\"scatterternary\"}],\"surface\":[{\"colorbar\":{\"outlinewidth\":0,\"ticks\":\"\"},\"colorscale\":[[0.0,\"#0d0887\"],[0.1111111111111111,\"#46039f\"],[0.2222222222222222,\"#7201a8\"],[0.3333333333333333,\"#9c179e\"],[0.4444444444444444,\"#bd3786\"],[0.5555555555555556,\"#d8576b\"],[0.6666666666666666,\"#ed7953\"],[0.7777777777777778,\"#fb9f3a\"],[0.8888888888888888,\"#fdca26\"],[1.0,\"#f0f921\"]],\"type\":\"surface\"}],\"table\":[{\"cells\":{\"fill\":{\"color\":\"#EBF0F8\"},\"line\":{\"color\":\"white\"}},\"header\":{\"fill\":{\"color\":\"#C8D4E3\"},\"line\":{\"color\":\"white\"}},\"type\":\"table\"}]},\"layout\":{\"annotationdefaults\":{\"arrowcolor\":\"#2a3f5f\",\"arrowhead\":0,\"arrowwidth\":1},\"autotypenumbers\":\"strict\",\"coloraxis\":{\"colorbar\":{\"outlinewidth\":0,\"ticks\":\"\"}},\"colorscale\":{\"diverging\":[[0,\"#8e0152\"],[0.1,\"#c51b7d\"],[0.2,\"#de77ae\"],[0.3,\"#f1b6da\"],[0.4,\"#fde0ef\"],[0.5,\"#f7f7f7\"],[0.6,\"#e6f5d0\"],[0.7,\"#b8e186\"],[0.8,\"#7fbc41\"],[0.9,\"#4d9221\"],[1,\"#276419\"]],\"sequential\":[[0.0,\"#0d0887\"],[0.1111111111111111,\"#46039f\"],[0.2222222222222222,\"#7201a8\"],[0.3333333333333333,\"#9c179e\"],[0.4444444444444444,\"#bd3786\"],[0.5555555555555556,\"#d8576b\"],[0.6666666666666666,\"#ed7953\"],[0.7777777777777778,\"#fb9f3a\"],[0.8888888888888888,\"#fdca26\"],[1.0,\"#f0f921\"]],\"sequentialminus\":[[0.0,\"#0d0887\"],[0.1111111111111111,\"#46039f\"],[0.2222222222222222,\"#7201a8\"],[0.3333333333333333,\"#9c179e\"],[0.4444444444444444,\"#bd3786\"],[0.5555555555555556,\"#d8576b\"],[0.6666666666666666,\"#ed7953\"],[0.7777777777777778,\"#fb9f3a\"],[0.8888888888888888,\"#fdca26\"],[1.0,\"#f0f921\"]]},\"colorway\":[\"#636efa\",\"#EF553B\",\"#00cc96\",\"#ab63fa\",\"#FFA15A\",\"#19d3f3\",\"#FF6692\",\"#B6E880\",\"#FF97FF\",\"#FECB52\"],\"font\":{\"color\":\"#2a3f5f\"},\"geo\":{\"bgcolor\":\"white\",\"lakecolor\":\"white\",\"landcolor\":\"#E5ECF6\",\"showlakes\":true,\"showland\":true,\"subunitcolor\":\"white\"},\"hoverlabel\":{\"align\":\"left\"},\"hovermode\":\"closest\",\"mapbox\":{\"style\":\"light\"},\"paper_bgcolor\":\"white\",\"plot_bgcolor\":\"#E5ECF6\",\"polar\":{\"angularaxis\":{\"gridcolor\":\"white\",\"linecolor\":\"white\",\"ticks\":\"\"},\"bgcolor\":\"#E5ECF6\",\"radialaxis\":{\"gridcolor\":\"white\",\"linecolor\":\"white\",\"ticks\":\"\"}},\"scene\":{\"xaxis\":{\"backgroundcolor\":\"#E5ECF6\",\"gridcolor\":\"white\",\"gridwidth\":2,\"linecolor\":\"white\",\"showbackground\":true,\"ticks\":\"\",\"zerolinecolor\":\"white\"},\"yaxis\":{\"backgroundcolor\":\"#E5ECF6\",\"gridcolor\":\"white\",\"gridwidth\":2,\"linecolor\":\"white\",\"showbackground\":true,\"ticks\":\"\",\"zerolinecolor\":\"white\"},\"zaxis\":{\"backgroundcolor\":\"#E5ECF6\",\"gridcolor\":\"white\",\"gridwidth\":2,\"linecolor\":\"white\",\"showbackground\":true,\"ticks\":\"\",\"zerolinecolor\":\"white\"}},\"shapedefaults\":{\"line\":{\"color\":\"#2a3f5f\"}},\"ternary\":{\"aaxis\":{\"gridcolor\":\"white\",\"linecolor\":\"white\",\"ticks\":\"\"},\"baxis\":{\"gridcolor\":\"white\",\"linecolor\":\"white\",\"ticks\":\"\"},\"bgcolor\":\"#E5ECF6\",\"caxis\":{\"gridcolor\":\"white\",\"linecolor\":\"white\",\"ticks\":\"\"}},\"title\":{\"x\":0.05},\"xaxis\":{\"automargin\":true,\"gridcolor\":\"white\",\"linecolor\":\"white\",\"ticks\":\"\",\"title\":{\"standoff\":15},\"zerolinecolor\":\"white\",\"zerolinewidth\":2},\"yaxis\":{\"automargin\":true,\"gridcolor\":\"white\",\"linecolor\":\"white\",\"ticks\":\"\",\"title\":{\"standoff\":15},\"zerolinecolor\":\"white\",\"zerolinewidth\":2}}},\"title\":{\"text\":\"Average Sale Price Per SqFt & Gross Rent in San Francisco\"},\"width\":960},\"margin\":[5,5,5,5],\"name\":\"Plotly05062\",\"viewport_update_throttle\":200},\"id\":\"4397\",\"type\":\"panel.models.plotly.PlotlyPlot\"},{\"attributes\":{\"css_classes\":[\"markdown\"],\"margin\":[5,5,5,5],\"name\":\"Markdown05060\",\"text\":\"&lt;h1&gt;Real Estate in San Francisco from 2010 to 2016&lt;/h1&gt;\",\"width\":800},\"id\":\"4393\",\"type\":\"panel.models.markup.HTML\"},{\"attributes\":{\"data\":{\"hovertext\":[[\"Alamo Square\",\"Anza Vista\",\"Bayview\",\"Bayview Heights\",\"Bernal Heights\",\"Buena Vista Park\",\"Central Richmond\",\"Central Sunset\",\"Clarendon Heights\",\"Corona Heights\",\"Cow Hollow\",\"Croker Amazon\",\"Diamond Heights\",\"Downtown\",\"Duboce Triangle\",\"Eureka Valley/Dolores Heights\",\"Excelsior\",\"Financial District North\",\"Financial District South\",\"Forest Knolls\",\"Glen Park\",\"Golden Gate Heights\",\"Haight Ashbury\",\"Hayes Valley\",\"Hunters Point\",\"Ingleside\",\"Ingleside Heights\",\"Inner Mission\",\"Inner Parkside\",\"Inner Richmond\",\"Inner Sunset\",\"Jordan Park/Laurel Heights\",\"Lake --The Presidio\",\"Lone Mountain\",\"Lower Pacific Heights\",\"Marina\",\"Merced Heights\",\"Midtown Terrace\",\"Miraloma Park\",\"Mission Bay\",\"Mission Dolores\",\"Mission Terrace\",\"Nob Hill\",\"Noe Valley\",\"North Beach\",\"North Waterfront\",\"Oceanview\",\"Outer Mission\",\"Outer Parkside\",\"Outer Richmond\",\"Outer Sunset\",\"Pacific Heights\",\"Park North\",\"Parkside\",\"Parnassus/Ashbury Heights\",\"Portola\",\"Potrero Hill\",\"Presidio Heights\",\"Russian Hill\",\"Silver Terrace\",\"South Beach\",\"South of Market\",\"Sunnyside\",\"Telegraph Hill\",\"Twin Peaks\",\"Union Square District\",\"Van Ness/ Civic Center\",\"Visitacion Valley\",\"West Portal\",\"Western Addition\",\"Westwood Highlands\",\"Westwood Park\",\"Yerba Buena\"]],\"lat\":[{\"__ndarray__\":\"LV+X4T/lQkB1AwXeyeNCQBmto6oJ3kJAvqQxWkfdQkA3cXK/Q91CQDUMHxFT4kJAVvFG5pHjQkCVYHE4899CQPjfSnZs4EJAcQM+P4zkQkDoMF9egOVCQD/G3LWE3EJAN3Fyv0PdQkCMZ9DQP+VCQMPYQpCD4kJA8WjjiLXgQkC+pDFaR91CQIxn0NA/5UJAjGfQ0D/lQkANjpJX5+BCQDdxcr9D3UJAe5+qQgPhQkDLoUW28+FCQMuhRbbz4UJA4nX9gt3cQkBJE+8AT9xCQHiXi/hO3EJAxvmbUIjgQkCVYHE4899CQAd7E0Ny4kJAlWBxOPPfQkBxAz4/jORCQIKLFTWY5kJAXW3F/rLjQkDoMF9egOVCQIP6ljld5kJAY7SOqibcQkD430p2bOBCQOAtkKD43UJAgJ9x4UDkQkCO6QlLPOBCQDdxcr9D3UJA6DBfXoDlQkD430p2bOBCQApoImx45kJACmgibHjmQkBjtI6qJtxCQD/G3LWE3EJAnDOitDfgQkBmg0wycuJCQJVgcTjz30JA6DBfXoDlQkC+h0uOO91CQJVgcTjz30JAL26jAbzhQkAZraOqCd5CQHb9gt2w3UJAcQM+P4zkQkDoMF9egOVCQBmto6oJ3kJAgJ9x4UDkQkCMZ9DQP+VCQOAtkKD43UJACmgibHjmQkDIW65+bOBCQIxn0NA/5UJA1nPS+8bjQkC+pDFaR91CQLtE9dbA3kJA6DBfXoDlQkCDL0ymCt5CQOAtkKD43UJA6DBfXoDlQkA=\",\"dtype\":\"float64\",\"order\":\"little\",\"shape\":[73]}],\"lon\":[{\"__ndarray__\":\"L26jAbyZXsA5mE2AYZxewPbuj/eqmV7A2NMOf02aXsCKH2PuWpxewLWJk/sdnF7AQ8pPqn2cXsB+VwT/W59ewC2VtyOcnF7Ad76fGi+dXsAge73745tewEPFOH8TnF7Aih9j7lqcXsAvbqMBvJlewOif4GJFm17ABCFZwAScXsDY0w5/TZpewC9uowG8mV7AL26jAbyZXsAlr84xIJ1ewIofY+5anF7AKCzxgLKdXsBOl8XE5ptewE6XxcTmm17ApFNXPsuXXsBmu0IfLJ9ewDc3picsn17AzemymNiaXsB+VwT/W59ewEjdzr7ynl7AWoEhq1ufXsB3vp8aL51ewInvxKwXnV7APj+MEB6dXsAge73745tewBY1mIbhnV7Aj+TyH9KdXsAtlbcjnJxewGiR7Xw/nV7AHcnlP6SZXsC6ZvLNNptewIofY+5anF7AIHu9++ObXsAtlbcjnJxewKuy74rgmV7Aq7LviuCZXsCP5PIf0p1ewEPFOH8TnF7ABoGVQ4ucXsDp1JXP8p5ewH5XBP9bn17AIHu9++ObXsDGM2jon55ewH5XBP9bn17A7MA5I0qdXsD27o/3qplewDihEAGHmF7Ad76fGi+dXsAge73745tewPbuj/eqmV7AHcnlP6SZXsAvbqMBvJlewGiR7Xw/nV7Aq7LviuCZXsBF14UfnJxewC9uowG8mV7AAkht4uSaXsDY0w5/TZpewC9RvTWwnV7AIHu9++ObXsD/Qo8YPZ1ewGiR7Xw/nV7AU1xV9l2ZXsA=\",\"dtype\":\"float64\",\"order\":\"little\",\"shape\":[73]}],\"marker.color\":[{\"__ndarray__\":\"VVVVVVX2o0AAAAAAAKyqQAAAAACA1qBASZIkSZICpkAAAAAAAO6uQEmSJEmSAqZASZIkSZICpkBJkiRJkgKmQEmSJEmSAqZAAAAAAABmoEBJkiRJkgKmQM3MzMzMUqRASZIkSZICpkAAAAAAAKemQEmSJEmSAqZAAAAAAAA2rUAAAAAAAFCjQEmSJEmSAqZAq6qqqqoQqEBVVVVVVfajQEmSJEmSAqZAVVVVVVXPpEAAAAAAAK+kQEmSJEmSAqZASZIkSZICpkAAAAAAAJWhQEmSJEmSAqZAAAAAAACnpkDNzMzMzMqoQAAAAAAAMKlAAAAAAIC4pUAAAAAAAKejQM3MzMzMBKZAAAAAAACVoUBJkiRJkgKmQFVVVVVV9qNASZIkSZICpkBJkiRJkgKmQEmSJEmSAqZAAAAAAABQo0CrqqqqqhWlQEmSJEmSAqZAAAAAAACAn0BJkiRJkgKmQFVVVVVV9qNASZIkSZICpkCamZmZmV2nQFVVVVVV9qNASZIkSZICpkBJkiRJkgKmQEmSJEmSAqZASZIkSZICpkBJkiRJkgKmQEmSJEmSAqZAq6qqqqqvp0AAAAAAACCnQEmSJEmSAqZASZIkSZICpkCrqqqqqq+nQAAAAAAAmqNASZIkSZICpkBJkiRJkgKmQFVVVVVV9qNAAAAAAAAEo0DNzMzMzByiQAAAAAAA1ptAVVVVVVX2o0CrqqqqqhWlQAAAAAAAkqxAAAAAAIBnp0DNzMzMzByiQAAAAAAAcqNAAAAAAACQq0A=\",\"dtype\":\"float64\",\"order\":\"little\",\"shape\":[73]}],\"marker.size\":[{\"__ndarray__\":\"JRAUMfI/jEB9IrkvwqaIQFx/3pp8XohAFZsVUHKMhUBr0ERas3iFQLsKhXgNJIVAy835O80ahUALV25bts+EQJrMCuEbsIRAya3y7v5QhEDNvwdH/RGEQGrkdwEm+4NAYJzjcuzFg0DI//cCnH6DQG+9/6DdB4NA/23ou1d2gkB2II0CUFyCQOp1/4D+PYJAsYnCzvgFgkCDjvzErQWCQIfhwuEr0oFAcr9Bp4mxgUDjM3wxFTSBQDPB3xWL84BAAi86XOfZgEBA3+aooa2AQKjens8Si4BA/2F/8YuCgEAGm8LHuluAQKsDebcVO4BABPQiJJZpf0DJ9HfV0Cd/QDaMoOpQJH9AYSCcDetzfkBOlMakblB+QNWCNieo431ALlxIkWmefUCLIC7GYFZ9QIUKlPhDo3xARl0VIGF9fEDg3lCz40p8QEKNqFi3GHxADjYuKt4ve0DxRHrAAXt6QL0dyWOmLnpAyXixJK7aeUANRoaaWbp5QBsbzgZFn3lAR1RQI2dCeUB+aBqJx9p4QJIjOSXCpnhAYnD/J4GjeEA/Exo283Z4QEysfO/MdXhAiyCsPEFMeED4qkpQxAx4QN85W0+CqXdAMlaax7lbd0Ak1Xd7HVZ3QJi3moJS/nZAcJyd1VTgdkA/m//c7D52QBQ4ODjDAnVANFc2446hdECTVGKj0nF0QOcoDRF0HXRAX2t0xv44c0AtmqsjEfByQKAIInl113JAYo3F1t5LbkDLu6f/1ZJpQAU/9Vf/U2VA0ym0jlxJZUA=\",\"dtype\":\"float64\",\"order\":\"little\",\"shape\":[73]}]},\"selected\":{\"id\":\"4484\"},\"selection_policy\":{\"id\":\"4483\"}},\"id\":\"4396\",\"type\":\"ColumnDataSource\"},{\"attributes\":{\"child\":{\"id\":\"4395\"},\"name\":\"Column05064\",\"title\":\"Introduction\"},\"id\":\"4398\",\"type\":\"Panel\"},{\"attributes\":{\"data\":[{\"dimensions\":[{\"label\":\"sale_price_sqr_foot\"},{\"label\":\"housing_units\"},{\"label\":\"gross_rent\"}],\"domain\":{\"x\":[0.0,1.0],\"y\":[0.0,1.0]},\"line\":{\"coloraxis\":\"coloraxis\"},\"name\":\"\",\"type\":\"parcoords\"}],\"data_sources\":[{\"id\":\"4477\"}],\"layout\":{\"coloraxis\":{\"colorbar\":{\"title\":{\"text\":\"sale_price_sqr_foot\"}},\"colorscale\":[[0.0,\"#0d0887\"],[0.1111111111111111,\"#46039f\"],[0.2222222222222222,\"#7201a8\"],[0.3333333333333333,\"#9c179e\"],[0.4444444444444444,\"#bd3786\"],[0.5555555555555556,\"#d8576b\"],[0.6666666666666666,\"#ed7953\"],[0.7777777777777778,\"#fb9f3a\"],[0.8888888888888888,\"#fdca26\"],[1.0,\"#f0f921\"]]},\"legend\":{\"tracegroupgap\":0},\"margin\":{\"t\":60},\"template\":{\"data\":{\"bar\":[{\"error_x\":{\"color\":\"#2a3f5f\"},\"error_y\":{\"color\":\"#2a3f5f\"},\"marker\":{\"line\":{\"color\":\"#E5ECF6\",\"width\":0.5}},\"type\":\"bar\"}],\"barpolar\":[{\"marker\":{\"line\":{\"color\":\"#E5ECF6\",\"width\":0.5}},\"type\":\"barpolar\"}],\"carpet\":[{\"aaxis\":{\"endlinecolor\":\"#2a3f5f\",\"gridcolor\":\"white\",\"linecolor\":\"white\",\"minorgridcolor\":\"white\",\"startlinecolor\":\"#2a3f5f\"},\"baxis\":{\"endlinecolor\":\"#2a3f5f\",\"gridcolor\":\"white\",\"linecolor\":\"white\",\"minorgridcolor\":\"white\",\"startlinecolor\":\"#2a3f5f\"},\"type\":\"carpet\"}],\"choropleth\":[{\"colorbar\":{\"outlinewidth\":0,\"ticks\":\"\"},\"type\":\"choropleth\"}],\"contour\":[{\"colorbar\":{\"outlinewidth\":0,\"ticks\":\"\"},\"colorscale\":[[0.0,\"#0d0887\"],[0.1111111111111111,\"#46039f\"],[0.2222222222222222,\"#7201a8\"],[0.3333333333333333,\"#9c179e\"],[0.4444444444444444,\"#bd3786\"],[0.5555555555555556,\"#d8576b\"],[0.6666666666666666,\"#ed7953\"],[0.7777777777777778,\"#fb9f3a\"],[0.8888888888888888,\"#fdca26\"],[1.0,\"#f0f921\"]],\"type\":\"contour\"}],\"contourcarpet\":[{\"colorbar\":{\"outlinewidth\":0,\"ticks\":\"\"},\"type\":\"contourcarpet\"}],\"heatmap\":[{\"colorbar\":{\"outlinewidth\":0,\"ticks\":\"\"},\"colorscale\":[[0.0,\"#0d0887\"],[0.1111111111111111,\"#46039f\"],[0.2222222222222222,\"#7201a8\"],[0.3333333333333333,\"#9c179e\"],[0.4444444444444444,\"#bd3786\"],[0.5555555555555556,\"#d8576b\"],[0.6666666666666666,\"#ed7953\"],[0.7777777777777778,\"#fb9f3a\"],[0.8888888888888888,\"#fdca26\"],[1.0,\"#f0f921\"]],\"type\":\"heatmap\"}],\"heatmapgl\":[{\"colorbar\":{\"outlinewidth\":0,\"ticks\":\"\"},\"colorscale\":[[0.0,\"#0d0887\"],[0.1111111111111111,\"#46039f\"],[0.2222222222222222,\"#7201a8\"],[0.3333333333333333,\"#9c179e\"],[0.4444444444444444,\"#bd3786\"],[0.5555555555555556,\"#d8576b\"],[0.6666666666666666,\"#ed7953\"],[0.7777777777777778,\"#fb9f3a\"],[0.8888888888888888,\"#fdca26\"],[1.0,\"#f0f921\"]],\"type\":\"heatmapgl\"}],\"histogram\":[{\"marker\":{\"colorbar\":{\"outlinewidth\":0,\"ticks\":\"\"}},\"type\":\"histogram\"}],\"histogram2d\":[{\"colorbar\":{\"outlinewidth\":0,\"ticks\":\"\"},\"colorscale\":[[0.0,\"#0d0887\"],[0.1111111111111111,\"#46039f\"],[0.2222222222222222,\"#7201a8\"],[0.3333333333333333,\"#9c179e\"],[0.4444444444444444,\"#bd3786\"],[0.5555555555555556,\"#d8576b\"],[0.6666666666666666,\"#ed7953\"],[0.7777777777777778,\"#fb9f3a\"],[0.8888888888888888,\"#fdca26\"],[1.0,\"#f0f921\"]],\"type\":\"histogram2d\"}],\"histogram2dcontour\":[{\"colorbar\":{\"outlinewidth\":0,\"ticks\":\"\"},\"colorscale\":[[0.0,\"#0d0887\"],[0.1111111111111111,\"#46039f\"],[0.2222222222222222,\"#7201a8\"],[0.3333333333333333,\"#9c179e\"],[0.4444444444444444,\"#bd3786\"],[0.5555555555555556,\"#d8576b\"],[0.6666666666666666,\"#ed7953\"],[0.7777777777777778,\"#fb9f3a\"],[0.8888888888888888,\"#fdca26\"],[1.0,\"#f0f921\"]],\"type\":\"histogram2dcontour\"}],\"mesh3d\":[{\"colorbar\":{\"outlinewidth\":0,\"ticks\":\"\"},\"type\":\"mesh3d\"}],\"parcoords\":[{\"line\":{\"colorbar\":{\"outlinewidth\":0,\"ticks\":\"\"}},\"type\":\"parcoords\"}],\"pie\":[{\"automargin\":true,\"type\":\"pie\"}],\"scatter\":[{\"marker\":{\"colorbar\":{\"outlinewidth\":0,\"ticks\":\"\"}},\"type\":\"scatter\"}],\"scatter3d\":[{\"line\":{\"colorbar\":{\"outlinewidth\":0,\"ticks\":\"\"}},\"marker\":{\"colorbar\":{\"outlinewidth\":0,\"ticks\":\"\"}},\"type\":\"scatter3d\"}],\"scattercarpet\":[{\"marker\":{\"colorbar\":{\"outlinewidth\":0,\"ticks\":\"\"}},\"type\":\"scattercarpet\"}],\"scattergeo\":[{\"marker\":{\"colorbar\":{\"outlinewidth\":0,\"ticks\":\"\"}},\"type\":\"scattergeo\"}],\"scattergl\":[{\"marker\":{\"colorbar\":{\"outlinewidth\":0,\"ticks\":\"\"}},\"type\":\"scattergl\"}],\"scattermapbox\":[{\"marker\":{\"colorbar\":{\"outlinewidth\":0,\"ticks\":\"\"}},\"type\":\"scattermapbox\"}],\"scatterpolar\":[{\"marker\":{\"colorbar\":{\"outlinewidth\":0,\"ticks\":\"\"}},\"type\":\"scatterpolar\"}],\"scatterpolargl\":[{\"marker\":{\"colorbar\":{\"outlinewidth\":0,\"ticks\":\"\"}},\"type\":\"scatterpolargl\"}],\"scatterternary\":[{\"marker\":{\"colorbar\":{\"outlinewidth\":0,\"ticks\":\"\"}},\"type\":\"scatterternary\"}],\"surface\":[{\"colorbar\":{\"outlinewidth\":0,\"ticks\":\"\"},\"colorscale\":[[0.0,\"#0d0887\"],[0.1111111111111111,\"#46039f\"],[0.2222222222222222,\"#7201a8\"],[0.3333333333333333,\"#9c179e\"],[0.4444444444444444,\"#bd3786\"],[0.5555555555555556,\"#d8576b\"],[0.6666666666666666,\"#ed7953\"],[0.7777777777777778,\"#fb9f3a\"],[0.8888888888888888,\"#fdca26\"],[1.0,\"#f0f921\"]],\"type\":\"surface\"}],\"table\":[{\"cells\":{\"fill\":{\"color\":\"#EBF0F8\"},\"line\":{\"color\":\"white\"}},\"header\":{\"fill\":{\"color\":\"#C8D4E3\"},\"line\":{\"color\":\"white\"}},\"type\":\"table\"}]},\"layout\":{\"annotationdefaults\":{\"arrowcolor\":\"#2a3f5f\",\"arrowhead\":0,\"arrowwidth\":1},\"autotypenumbers\":\"strict\",\"coloraxis\":{\"colorbar\":{\"outlinewidth\":0,\"ticks\":\"\"}},\"colorscale\":{\"diverging\":[[0,\"#8e0152\"],[0.1,\"#c51b7d\"],[0.2,\"#de77ae\"],[0.3,\"#f1b6da\"],[0.4,\"#fde0ef\"],[0.5,\"#f7f7f7\"],[0.6,\"#e6f5d0\"],[0.7,\"#b8e186\"],[0.8,\"#7fbc41\"],[0.9,\"#4d9221\"],[1,\"#276419\"]],\"sequential\":[[0.0,\"#0d0887\"],[0.1111111111111111,\"#46039f\"],[0.2222222222222222,\"#7201a8\"],[0.3333333333333333,\"#9c179e\"],[0.4444444444444444,\"#bd3786\"],[0.5555555555555556,\"#d8576b\"],[0.6666666666666666,\"#ed7953\"],[0.7777777777777778,\"#fb9f3a\"],[0.8888888888888888,\"#fdca26\"],[1.0,\"#f0f921\"]],\"sequentialminus\":[[0.0,\"#0d0887\"],[0.1111111111111111,\"#46039f\"],[0.2222222222222222,\"#7201a8\"],[0.3333333333333333,\"#9c179e\"],[0.4444444444444444,\"#bd3786\"],[0.5555555555555556,\"#d8576b\"],[0.6666666666666666,\"#ed7953\"],[0.7777777777777778,\"#fb9f3a\"],[0.8888888888888888,\"#fdca26\"],[1.0,\"#f0f921\"]]},\"colorway\":[\"#636efa\",\"#EF553B\",\"#00cc96\",\"#ab63fa\",\"#FFA15A\",\"#19d3f3\",\"#FF6692\",\"#B6E880\",\"#FF97FF\",\"#FECB52\"],\"font\":{\"color\":\"#2a3f5f\"},\"geo\":{\"bgcolor\":\"white\",\"lakecolor\":\"white\",\"landcolor\":\"#E5ECF6\",\"showlakes\":true,\"showland\":true,\"subunitcolor\":\"white\"},\"hoverlabel\":{\"align\":\"left\"},\"hovermode\":\"closest\",\"mapbox\":{\"style\":\"light\"},\"paper_bgcolor\":\"white\",\"plot_bgcolor\":\"#E5ECF6\",\"polar\":{\"angularaxis\":{\"gridcolor\":\"white\",\"linecolor\":\"white\",\"ticks\":\"\"},\"bgcolor\":\"#E5ECF6\",\"radialaxis\":{\"gridcolor\":\"white\",\"linecolor\":\"white\",\"ticks\":\"\"}},\"scene\":{\"xaxis\":{\"backgroundcolor\":\"#E5ECF6\",\"gridcolor\":\"white\",\"gridwidth\":2,\"linecolor\":\"white\",\"showbackground\":true,\"ticks\":\"\",\"zerolinecolor\":\"white\"},\"yaxis\":{\"backgroundcolor\":\"#E5ECF6\",\"gridcolor\":\"white\",\"gridwidth\":2,\"linecolor\":\"white\",\"showbackground\":true,\"ticks\":\"\",\"zerolinecolor\":\"white\"},\"zaxis\":{\"backgroundcolor\":\"#E5ECF6\",\"gridcolor\":\"white\",\"gridwidth\":2,\"linecolor\":\"white\",\"showbackground\":true,\"ticks\":\"\",\"zerolinecolor\":\"white\"}},\"shapedefaults\":{\"line\":{\"color\":\"#2a3f5f\"}},\"ternary\":{\"aaxis\":{\"gridcolor\":\"white\",\"linecolor\":\"white\",\"ticks\":\"\"},\"baxis\":{\"gridcolor\":\"white\",\"linecolor\":\"white\",\"ticks\":\"\"},\"bgcolor\":\"#E5ECF6\",\"caxis\":{\"gridcolor\":\"white\",\"linecolor\":\"white\",\"ticks\":\"\"}},\"title\":{\"x\":0.05},\"xaxis\":{\"automargin\":true,\"gridcolor\":\"white\",\"linecolor\":\"white\",\"ticks\":\"\",\"title\":{\"standoff\":15},\"zerolinecolor\":\"white\",\"zerolinewidth\":2},\"yaxis\":{\"automargin\":true,\"gridcolor\":\"white\",\"linecolor\":\"white\",\"ticks\":\"\",\"title\":{\"standoff\":15},\"zerolinecolor\":\"white\",\"zerolinewidth\":2}}}},\"margin\":[5,5,5,5],\"name\":\"Plotly05155\",\"viewport_update_throttle\":200},\"id\":\"4478\",\"type\":\"panel.models.plotly.PlotlyPlot\"},{\"attributes\":{\"children\":[{\"id\":\"4408\"},{\"id\":\"4474\"}],\"margin\":[0,0,0,0],\"name\":\"Column05154\"},\"id\":\"4404\",\"type\":\"Column\"},{\"attributes\":{\"data\":[{\"alignmentgroup\":\"True\",\"hovertemplate\":\"neighborhood=%{x}<br>sale_price_sqr_foot=%{y}<extra></extra>\",\"legendgroup\":\"\",\"marker\":{\"color\":\"#636efa\"},\"name\":\"\",\"offsetgroup\":\"\",\"orientation\":\"v\",\"showlegend\":false,\"textposition\":\"auto\",\"type\":\"bar\",\"xaxis\":\"x\",\"yaxis\":\"y\"}],\"data_sources\":[{\"id\":\"4473\"}],\"layout\":{\"barmode\":\"relative\",\"legend\":{\"tracegroupgap\":0},\"template\":{\"data\":{\"bar\":[{\"error_x\":{\"color\":\"#2a3f5f\"},\"error_y\":{\"color\":\"#2a3f5f\"},\"marker\":{\"line\":{\"color\":\"#E5ECF6\",\"width\":0.5}},\"type\":\"bar\"}],\"barpolar\":[{\"marker\":{\"line\":{\"color\":\"#E5ECF6\",\"width\":0.5}},\"type\":\"barpolar\"}],\"carpet\":[{\"aaxis\":{\"endlinecolor\":\"#2a3f5f\",\"gridcolor\":\"white\",\"linecolor\":\"white\",\"minorgridcolor\":\"white\",\"startlinecolor\":\"#2a3f5f\"},\"baxis\":{\"endlinecolor\":\"#2a3f5f\",\"gridcolor\":\"white\",\"linecolor\":\"white\",\"minorgridcolor\":\"white\",\"startlinecolor\":\"#2a3f5f\"},\"type\":\"carpet\"}],\"choropleth\":[{\"colorbar\":{\"outlinewidth\":0,\"ticks\":\"\"},\"type\":\"choropleth\"}],\"contour\":[{\"colorbar\":{\"outlinewidth\":0,\"ticks\":\"\"},\"colorscale\":[[0.0,\"#0d0887\"],[0.1111111111111111,\"#46039f\"],[0.2222222222222222,\"#7201a8\"],[0.3333333333333333,\"#9c179e\"],[0.4444444444444444,\"#bd3786\"],[0.5555555555555556,\"#d8576b\"],[0.6666666666666666,\"#ed7953\"],[0.7777777777777778,\"#fb9f3a\"],[0.8888888888888888,\"#fdca26\"],[1.0,\"#f0f921\"]],\"type\":\"contour\"}],\"contourcarpet\":[{\"colorbar\":{\"outlinewidth\":0,\"ticks\":\"\"},\"type\":\"contourcarpet\"}],\"heatmap\":[{\"colorbar\":{\"outlinewidth\":0,\"ticks\":\"\"},\"colorscale\":[[0.0,\"#0d0887\"],[0.1111111111111111,\"#46039f\"],[0.2222222222222222,\"#7201a8\"],[0.3333333333333333,\"#9c179e\"],[0.4444444444444444,\"#bd3786\"],[0.5555555555555556,\"#d8576b\"],[0.6666666666666666,\"#ed7953\"],[0.7777777777777778,\"#fb9f3a\"],[0.8888888888888888,\"#fdca26\"],[1.0,\"#f0f921\"]],\"type\":\"heatmap\"}],\"heatmapgl\":[{\"colorbar\":{\"outlinewidth\":0,\"ticks\":\"\"},\"colorscale\":[[0.0,\"#0d0887\"],[0.1111111111111111,\"#46039f\"],[0.2222222222222222,\"#7201a8\"],[0.3333333333333333,\"#9c179e\"],[0.4444444444444444,\"#bd3786\"],[0.5555555555555556,\"#d8576b\"],[0.6666666666666666,\"#ed7953\"],[0.7777777777777778,\"#fb9f3a\"],[0.8888888888888888,\"#fdca26\"],[1.0,\"#f0f921\"]],\"type\":\"heatmapgl\"}],\"histogram\":[{\"marker\":{\"colorbar\":{\"outlinewidth\":0,\"ticks\":\"\"}},\"type\":\"histogram\"}],\"histogram2d\":[{\"colorbar\":{\"outlinewidth\":0,\"ticks\":\"\"},\"colorscale\":[[0.0,\"#0d0887\"],[0.1111111111111111,\"#46039f\"],[0.2222222222222222,\"#7201a8\"],[0.3333333333333333,\"#9c179e\"],[0.4444444444444444,\"#bd3786\"],[0.5555555555555556,\"#d8576b\"],[0.6666666666666666,\"#ed7953\"],[0.7777777777777778,\"#fb9f3a\"],[0.8888888888888888,\"#fdca26\"],[1.0,\"#f0f921\"]],\"type\":\"histogram2d\"}],\"histogram2dcontour\":[{\"colorbar\":{\"outlinewidth\":0,\"ticks\":\"\"},\"colorscale\":[[0.0,\"#0d0887\"],[0.1111111111111111,\"#46039f\"],[0.2222222222222222,\"#7201a8\"],[0.3333333333333333,\"#9c179e\"],[0.4444444444444444,\"#bd3786\"],[0.5555555555555556,\"#d8576b\"],[0.6666666666666666,\"#ed7953\"],[0.7777777777777778,\"#fb9f3a\"],[0.8888888888888888,\"#fdca26\"],[1.0,\"#f0f921\"]],\"type\":\"histogram2dcontour\"}],\"mesh3d\":[{\"colorbar\":{\"outlinewidth\":0,\"ticks\":\"\"},\"type\":\"mesh3d\"}],\"parcoords\":[{\"line\":{\"colorbar\":{\"outlinewidth\":0,\"ticks\":\"\"}},\"type\":\"parcoords\"}],\"pie\":[{\"automargin\":true,\"type\":\"pie\"}],\"scatter\":[{\"marker\":{\"colorbar\":{\"outlinewidth\":0,\"ticks\":\"\"}},\"type\":\"scatter\"}],\"scatter3d\":[{\"line\":{\"colorbar\":{\"outlinewidth\":0,\"ticks\":\"\"}},\"marker\":{\"colorbar\":{\"outlinewidth\":0,\"ticks\":\"\"}},\"type\":\"scatter3d\"}],\"scattercarpet\":[{\"marker\":{\"colorbar\":{\"outlinewidth\":0,\"ticks\":\"\"}},\"type\":\"scattercarpet\"}],\"scattergeo\":[{\"marker\":{\"colorbar\":{\"outlinewidth\":0,\"ticks\":\"\"}},\"type\":\"scattergeo\"}],\"scattergl\":[{\"marker\":{\"colorbar\":{\"outlinewidth\":0,\"ticks\":\"\"}},\"type\":\"scattergl\"}],\"scattermapbox\":[{\"marker\":{\"colorbar\":{\"outlinewidth\":0,\"ticks\":\"\"}},\"type\":\"scattermapbox\"}],\"scatterpolar\":[{\"marker\":{\"colorbar\":{\"outlinewidth\":0,\"ticks\":\"\"}},\"type\":\"scatterpolar\"}],\"scatterpolargl\":[{\"marker\":{\"colorbar\":{\"outlinewidth\":0,\"ticks\":\"\"}},\"type\":\"scatterpolargl\"}],\"scatterternary\":[{\"marker\":{\"colorbar\":{\"outlinewidth\":0,\"ticks\":\"\"}},\"type\":\"scatterternary\"}],\"surface\":[{\"colorbar\":{\"outlinewidth\":0,\"ticks\":\"\"},\"colorscale\":[[0.0,\"#0d0887\"],[0.1111111111111111,\"#46039f\"],[0.2222222222222222,\"#7201a8\"],[0.3333333333333333,\"#9c179e\"],[0.4444444444444444,\"#bd3786\"],[0.5555555555555556,\"#d8576b\"],[0.6666666666666666,\"#ed7953\"],[0.7777777777777778,\"#fb9f3a\"],[0.8888888888888888,\"#fdca26\"],[1.0,\"#f0f921\"]],\"type\":\"surface\"}],\"table\":[{\"cells\":{\"fill\":{\"color\":\"#EBF0F8\"},\"line\":{\"color\":\"white\"}},\"header\":{\"fill\":{\"color\":\"#C8D4E3\"},\"line\":{\"color\":\"white\"}},\"type\":\"table\"}]},\"layout\":{\"annotationdefaults\":{\"arrowcolor\":\"#2a3f5f\",\"arrowhead\":0,\"arrowwidth\":1},\"autotypenumbers\":\"strict\",\"coloraxis\":{\"colorbar\":{\"outlinewidth\":0,\"ticks\":\"\"}},\"colorscale\":{\"diverging\":[[0,\"#8e0152\"],[0.1,\"#c51b7d\"],[0.2,\"#de77ae\"],[0.3,\"#f1b6da\"],[0.4,\"#fde0ef\"],[0.5,\"#f7f7f7\"],[0.6,\"#e6f5d0\"],[0.7,\"#b8e186\"],[0.8,\"#7fbc41\"],[0.9,\"#4d9221\"],[1,\"#276419\"]],\"sequential\":[[0.0,\"#0d0887\"],[0.1111111111111111,\"#46039f\"],[0.2222222222222222,\"#7201a8\"],[0.3333333333333333,\"#9c179e\"],[0.4444444444444444,\"#bd3786\"],[0.5555555555555556,\"#d8576b\"],[0.6666666666666666,\"#ed7953\"],[0.7777777777777778,\"#fb9f3a\"],[0.8888888888888888,\"#fdca26\"],[1.0,\"#f0f921\"]],\"sequentialminus\":[[0.0,\"#0d0887\"],[0.1111111111111111,\"#46039f\"],[0.2222222222222222,\"#7201a8\"],[0.3333333333333333,\"#9c179e\"],[0.4444444444444444,\"#bd3786\"],[0.5555555555555556,\"#d8576b\"],[0.6666666666666666,\"#ed7953\"],[0.7777777777777778,\"#fb9f3a\"],[0.8888888888888888,\"#fdca26\"],[1.0,\"#f0f921\"]]},\"colorway\":[\"#636efa\",\"#EF553B\",\"#00cc96\",\"#ab63fa\",\"#FFA15A\",\"#19d3f3\",\"#FF6692\",\"#B6E880\",\"#FF97FF\",\"#FECB52\"],\"font\":{\"color\":\"#2a3f5f\"},\"geo\":{\"bgcolor\":\"white\",\"lakecolor\":\"white\",\"landcolor\":\"#E5ECF6\",\"showlakes\":true,\"showland\":true,\"subunitcolor\":\"white\"},\"hoverlabel\":{\"align\":\"left\"},\"hovermode\":\"closest\",\"mapbox\":{\"style\":\"light\"},\"paper_bgcolor\":\"white\",\"plot_bgcolor\":\"#E5ECF6\",\"polar\":{\"angularaxis\":{\"gridcolor\":\"white\",\"linecolor\":\"white\",\"ticks\":\"\"},\"bgcolor\":\"#E5ECF6\",\"radialaxis\":{\"gridcolor\":\"white\",\"linecolor\":\"white\",\"ticks\":\"\"}},\"scene\":{\"xaxis\":{\"backgroundcolor\":\"#E5ECF6\",\"gridcolor\":\"white\",\"gridwidth\":2,\"linecolor\":\"white\",\"showbackground\":true,\"ticks\":\"\",\"zerolinecolor\":\"white\"},\"yaxis\":{\"backgroundcolor\":\"#E5ECF6\",\"gridcolor\":\"white\",\"gridwidth\":2,\"linecolor\":\"white\",\"showbackground\":true,\"ticks\":\"\",\"zerolinecolor\":\"white\"},\"zaxis\":{\"backgroundcolor\":\"#E5ECF6\",\"gridcolor\":\"white\",\"gridwidth\":2,\"linecolor\":\"white\",\"showbackground\":true,\"ticks\":\"\",\"zerolinecolor\":\"white\"}},\"shapedefaults\":{\"line\":{\"color\":\"#2a3f5f\"}},\"ternary\":{\"aaxis\":{\"gridcolor\":\"white\",\"linecolor\":\"white\",\"ticks\":\"\"},\"baxis\":{\"gridcolor\":\"white\",\"linecolor\":\"white\",\"ticks\":\"\"},\"bgcolor\":\"#E5ECF6\",\"caxis\":{\"gridcolor\":\"white\",\"linecolor\":\"white\",\"ticks\":\"\"}},\"title\":{\"x\":0.05},\"xaxis\":{\"automargin\":true,\"gridcolor\":\"white\",\"linecolor\":\"white\",\"ticks\":\"\",\"title\":{\"standoff\":15},\"zerolinecolor\":\"white\",\"zerolinewidth\":2},\"yaxis\":{\"automargin\":true,\"gridcolor\":\"white\",\"linecolor\":\"white\",\"ticks\":\"\",\"title\":{\"standoff\":15},\"zerolinecolor\":\"white\",\"zerolinewidth\":2}}},\"title\":{\"text\":\"Top 10 Most Expensive\"},\"xaxis\":{\"anchor\":\"y\",\"domain\":[0.0,1.0],\"title\":{\"text\":\"neighborhood\"}},\"yaxis\":{\"anchor\":\"x\",\"domain\":[0.0,1.0],\"title\":{\"text\":\"sale_price_sqr_foot\"}}},\"margin\":[5,5,5,5],\"name\":\"Plotly05152\",\"viewport_update_throttle\":200},\"id\":\"4474\",\"type\":\"panel.models.plotly.PlotlyPlot\"},{\"attributes\":{\"line_alpha\":0.1,\"line_color\":\"#30a2da\",\"line_width\":2,\"x\":{\"field\":\"year\"},\"y\":{\"field\":\"sale_price_sqr_foot\"}},\"id\":\"4442\",\"type\":\"Line\"},{\"attributes\":{\"line_color\":\"#30a2da\",\"line_width\":2,\"x\":{\"field\":\"year\"},\"y\":{\"field\":\"sale_price_sqr_foot\"}},\"id\":\"4441\",\"type\":\"Line\"},{\"attributes\":{},\"id\":\"4447\",\"type\":\"BasicTickFormatter\"},{\"attributes\":{},\"id\":\"4439\",\"type\":\"Selection\"},{\"attributes\":{\"data_source\":{\"id\":\"4438\"},\"glyph\":{\"id\":\"4441\"},\"hover_glyph\":null,\"muted_glyph\":{\"id\":\"4443\"},\"nonselection_glyph\":{\"id\":\"4442\"},\"selection_glyph\":{\"id\":\"4446\"},\"view\":{\"id\":\"4445\"}},\"id\":\"4444\",\"type\":\"GlyphRenderer\"},{\"attributes\":{},\"id\":\"4461\",\"type\":\"UnionRenderers\"},{\"attributes\":{\"data\":[{\"dimensions\":[{\"label\":\"neighborhood\"},{\"label\":\"sale_price_sqr_foot\"},{\"label\":\"housing_units\"},{\"label\":\"gross_rent\"}],\"domain\":{\"x\":[0.0,1.0],\"y\":[0.0,1.0]},\"line\":{\"coloraxis\":\"coloraxis\"},\"name\":\"\",\"type\":\"parcats\"}],\"data_sources\":[{\"id\":\"4479\"}],\"layout\":{\"coloraxis\":{\"colorbar\":{\"title\":{\"text\":\"sale_price_sqr_foot\"}},\"colorscale\":[[0.0,\"#000004\"],[0.1111111111111111,\"#1b0c41\"],[0.2222222222222222,\"#4a0c6b\"],[0.3333333333333333,\"#781c6d\"],[0.4444444444444444,\"#a52c60\"],[0.5555555555555556,\"#cf4446\"],[0.6666666666666666,\"#ed6925\"],[0.7777777777777778,\"#fb9b06\"],[0.8888888888888888,\"#f7d13d\"],[1.0,\"#fcffa4\"]]},\"legend\":{\"tracegroupgap\":0},\"margin\":{\"t\":60},\"template\":{\"data\":{\"bar\":[{\"error_x\":{\"color\":\"#2a3f5f\"},\"error_y\":{\"color\":\"#2a3f5f\"},\"marker\":{\"line\":{\"color\":\"#E5ECF6\",\"width\":0.5}},\"type\":\"bar\"}],\"barpolar\":[{\"marker\":{\"line\":{\"color\":\"#E5ECF6\",\"width\":0.5}},\"type\":\"barpolar\"}],\"carpet\":[{\"aaxis\":{\"endlinecolor\":\"#2a3f5f\",\"gridcolor\":\"white\",\"linecolor\":\"white\",\"minorgridcolor\":\"white\",\"startlinecolor\":\"#2a3f5f\"},\"baxis\":{\"endlinecolor\":\"#2a3f5f\",\"gridcolor\":\"white\",\"linecolor\":\"white\",\"minorgridcolor\":\"white\",\"startlinecolor\":\"#2a3f5f\"},\"type\":\"carpet\"}],\"choropleth\":[{\"colorbar\":{\"outlinewidth\":0,\"ticks\":\"\"},\"type\":\"choropleth\"}],\"contour\":[{\"colorbar\":{\"outlinewidth\":0,\"ticks\":\"\"},\"colorscale\":[[0.0,\"#0d0887\"],[0.1111111111111111,\"#46039f\"],[0.2222222222222222,\"#7201a8\"],[0.3333333333333333,\"#9c179e\"],[0.4444444444444444,\"#bd3786\"],[0.5555555555555556,\"#d8576b\"],[0.6666666666666666,\"#ed7953\"],[0.7777777777777778,\"#fb9f3a\"],[0.8888888888888888,\"#fdca26\"],[1.0,\"#f0f921\"]],\"type\":\"contour\"}],\"contourcarpet\":[{\"colorbar\":{\"outlinewidth\":0,\"ticks\":\"\"},\"type\":\"contourcarpet\"}],\"heatmap\":[{\"colorbar\":{\"outlinewidth\":0,\"ticks\":\"\"},\"colorscale\":[[0.0,\"#0d0887\"],[0.1111111111111111,\"#46039f\"],[0.2222222222222222,\"#7201a8\"],[0.3333333333333333,\"#9c179e\"],[0.4444444444444444,\"#bd3786\"],[0.5555555555555556,\"#d8576b\"],[0.6666666666666666,\"#ed7953\"],[0.7777777777777778,\"#fb9f3a\"],[0.8888888888888888,\"#fdca26\"],[1.0,\"#f0f921\"]],\"type\":\"heatmap\"}],\"heatmapgl\":[{\"colorbar\":{\"outlinewidth\":0,\"ticks\":\"\"},\"colorscale\":[[0.0,\"#0d0887\"],[0.1111111111111111,\"#46039f\"],[0.2222222222222222,\"#7201a8\"],[0.3333333333333333,\"#9c179e\"],[0.4444444444444444,\"#bd3786\"],[0.5555555555555556,\"#d8576b\"],[0.6666666666666666,\"#ed7953\"],[0.7777777777777778,\"#fb9f3a\"],[0.8888888888888888,\"#fdca26\"],[1.0,\"#f0f921\"]],\"type\":\"heatmapgl\"}],\"histogram\":[{\"marker\":{\"colorbar\":{\"outlinewidth\":0,\"ticks\":\"\"}},\"type\":\"histogram\"}],\"histogram2d\":[{\"colorbar\":{\"outlinewidth\":0,\"ticks\":\"\"},\"colorscale\":[[0.0,\"#0d0887\"],[0.1111111111111111,\"#46039f\"],[0.2222222222222222,\"#7201a8\"],[0.3333333333333333,\"#9c179e\"],[0.4444444444444444,\"#bd3786\"],[0.5555555555555556,\"#d8576b\"],[0.6666666666666666,\"#ed7953\"],[0.7777777777777778,\"#fb9f3a\"],[0.8888888888888888,\"#fdca26\"],[1.0,\"#f0f921\"]],\"type\":\"histogram2d\"}],\"histogram2dcontour\":[{\"colorbar\":{\"outlinewidth\":0,\"ticks\":\"\"},\"colorscale\":[[0.0,\"#0d0887\"],[0.1111111111111111,\"#46039f\"],[0.2222222222222222,\"#7201a8\"],[0.3333333333333333,\"#9c179e\"],[0.4444444444444444,\"#bd3786\"],[0.5555555555555556,\"#d8576b\"],[0.6666666666666666,\"#ed7953\"],[0.7777777777777778,\"#fb9f3a\"],[0.8888888888888888,\"#fdca26\"],[1.0,\"#f0f921\"]],\"type\":\"histogram2dcontour\"}],\"mesh3d\":[{\"colorbar\":{\"outlinewidth\":0,\"ticks\":\"\"},\"type\":\"mesh3d\"}],\"parcoords\":[{\"line\":{\"colorbar\":{\"outlinewidth\":0,\"ticks\":\"\"}},\"type\":\"parcoords\"}],\"pie\":[{\"automargin\":true,\"type\":\"pie\"}],\"scatter\":[{\"marker\":{\"colorbar\":{\"outlinewidth\":0,\"ticks\":\"\"}},\"type\":\"scatter\"}],\"scatter3d\":[{\"line\":{\"colorbar\":{\"outlinewidth\":0,\"ticks\":\"\"}},\"marker\":{\"colorbar\":{\"outlinewidth\":0,\"ticks\":\"\"}},\"type\":\"scatter3d\"}],\"scattercarpet\":[{\"marker\":{\"colorbar\":{\"outlinewidth\":0,\"ticks\":\"\"}},\"type\":\"scattercarpet\"}],\"scattergeo\":[{\"marker\":{\"colorbar\":{\"outlinewidth\":0,\"ticks\":\"\"}},\"type\":\"scattergeo\"}],\"scattergl\":[{\"marker\":{\"colorbar\":{\"outlinewidth\":0,\"ticks\":\"\"}},\"type\":\"scattergl\"}],\"scattermapbox\":[{\"marker\":{\"colorbar\":{\"outlinewidth\":0,\"ticks\":\"\"}},\"type\":\"scattermapbox\"}],\"scatterpolar\":[{\"marker\":{\"colorbar\":{\"outlinewidth\":0,\"ticks\":\"\"}},\"type\":\"scatterpolar\"}],\"scatterpolargl\":[{\"marker\":{\"colorbar\":{\"outlinewidth\":0,\"ticks\":\"\"}},\"type\":\"scatterpolargl\"}],\"scatterternary\":[{\"marker\":{\"colorbar\":{\"outlinewidth\":0,\"ticks\":\"\"}},\"type\":\"scatterternary\"}],\"surface\":[{\"colorbar\":{\"outlinewidth\":0,\"ticks\":\"\"},\"colorscale\":[[0.0,\"#0d0887\"],[0.1111111111111111,\"#46039f\"],[0.2222222222222222,\"#7201a8\"],[0.3333333333333333,\"#9c179e\"],[0.4444444444444444,\"#bd3786\"],[0.5555555555555556,\"#d8576b\"],[0.6666666666666666,\"#ed7953\"],[0.7777777777777778,\"#fb9f3a\"],[0.8888888888888888,\"#fdca26\"],[1.0,\"#f0f921\"]],\"type\":\"surface\"}],\"table\":[{\"cells\":{\"fill\":{\"color\":\"#EBF0F8\"},\"line\":{\"color\":\"white\"}},\"header\":{\"fill\":{\"color\":\"#C8D4E3\"},\"line\":{\"color\":\"white\"}},\"type\":\"table\"}]},\"layout\":{\"annotationdefaults\":{\"arrowcolor\":\"#2a3f5f\",\"arrowhead\":0,\"arrowwidth\":1},\"autotypenumbers\":\"strict\",\"coloraxis\":{\"colorbar\":{\"outlinewidth\":0,\"ticks\":\"\"}},\"colorscale\":{\"diverging\":[[0,\"#8e0152\"],[0.1,\"#c51b7d\"],[0.2,\"#de77ae\"],[0.3,\"#f1b6da\"],[0.4,\"#fde0ef\"],[0.5,\"#f7f7f7\"],[0.6,\"#e6f5d0\"],[0.7,\"#b8e186\"],[0.8,\"#7fbc41\"],[0.9,\"#4d9221\"],[1,\"#276419\"]],\"sequential\":[[0.0,\"#0d0887\"],[0.1111111111111111,\"#46039f\"],[0.2222222222222222,\"#7201a8\"],[0.3333333333333333,\"#9c179e\"],[0.4444444444444444,\"#bd3786\"],[0.5555555555555556,\"#d8576b\"],[0.6666666666666666,\"#ed7953\"],[0.7777777777777778,\"#fb9f3a\"],[0.8888888888888888,\"#fdca26\"],[1.0,\"#f0f921\"]],\"sequentialminus\":[[0.0,\"#0d0887\"],[0.1111111111111111,\"#46039f\"],[0.2222222222222222,\"#7201a8\"],[0.3333333333333333,\"#9c179e\"],[0.4444444444444444,\"#bd3786\"],[0.5555555555555556,\"#d8576b\"],[0.6666666666666666,\"#ed7953\"],[0.7777777777777778,\"#fb9f3a\"],[0.8888888888888888,\"#fdca26\"],[1.0,\"#f0f921\"]]},\"colorway\":[\"#636efa\",\"#EF553B\",\"#00cc96\",\"#ab63fa\",\"#FFA15A\",\"#19d3f3\",\"#FF6692\",\"#B6E880\",\"#FF97FF\",\"#FECB52\"],\"font\":{\"color\":\"#2a3f5f\"},\"geo\":{\"bgcolor\":\"white\",\"lakecolor\":\"white\",\"landcolor\":\"#E5ECF6\",\"showlakes\":true,\"showland\":true,\"subunitcolor\":\"white\"},\"hoverlabel\":{\"align\":\"left\"},\"hovermode\":\"closest\",\"mapbox\":{\"style\":\"light\"},\"paper_bgcolor\":\"white\",\"plot_bgcolor\":\"#E5ECF6\",\"polar\":{\"angularaxis\":{\"gridcolor\":\"white\",\"linecolor\":\"white\",\"ticks\":\"\"},\"bgcolor\":\"#E5ECF6\",\"radialaxis\":{\"gridcolor\":\"white\",\"linecolor\":\"white\",\"ticks\":\"\"}},\"scene\":{\"xaxis\":{\"backgroundcolor\":\"#E5ECF6\",\"gridcolor\":\"white\",\"gridwidth\":2,\"linecolor\":\"white\",\"showbackground\":true,\"ticks\":\"\",\"zerolinecolor\":\"white\"},\"yaxis\":{\"backgroundcolor\":\"#E5ECF6\",\"gridcolor\":\"white\",\"gridwidth\":2,\"linecolor\":\"white\",\"showbackground\":true,\"ticks\":\"\",\"zerolinecolor\":\"white\"},\"zaxis\":{\"backgroundcolor\":\"#E5ECF6\",\"gridcolor\":\"white\",\"gridwidth\":2,\"linecolor\":\"white\",\"showbackground\":true,\"ticks\":\"\",\"zerolinecolor\":\"white\"}},\"shapedefaults\":{\"line\":{\"color\":\"#2a3f5f\"}},\"ternary\":{\"aaxis\":{\"gridcolor\":\"white\",\"linecolor\":\"white\",\"ticks\":\"\"},\"baxis\":{\"gridcolor\":\"white\",\"linecolor\":\"white\",\"ticks\":\"\"},\"bgcolor\":\"#E5ECF6\",\"caxis\":{\"gridcolor\":\"white\",\"linecolor\":\"white\",\"ticks\":\"\"}},\"title\":{\"x\":0.05},\"xaxis\":{\"automargin\":true,\"gridcolor\":\"white\",\"linecolor\":\"white\",\"ticks\":\"\",\"title\":{\"standoff\":15},\"zerolinecolor\":\"white\",\"zerolinewidth\":2},\"yaxis\":{\"automargin\":true,\"gridcolor\":\"white\",\"linecolor\":\"white\",\"ticks\":\"\",\"title\":{\"standoff\":15},\"zerolinecolor\":\"white\",\"zerolinewidth\":2}}}},\"margin\":[5,5,5,5],\"name\":\"Plotly05157\",\"viewport_update_throttle\":200},\"id\":\"4480\",\"type\":\"panel.models.plotly.PlotlyPlot\"},{\"attributes\":{\"source\":{\"id\":\"4438\"}},\"id\":\"4445\",\"type\":\"CDSView\"},{\"attributes\":{},\"id\":\"4422\",\"type\":\"BasicTicker\"},{\"attributes\":{\"line_color\":\"#30a2da\",\"line_width\":2,\"x\":{\"field\":\"year\"},\"y\":{\"field\":\"sale_price_sqr_foot\"}},\"id\":\"4446\",\"type\":\"Line\"},{\"attributes\":{\"children\":[{\"id\":\"4478\"},{\"id\":\"4480\"}],\"margin\":[0,0,0,0],\"min_width\":960,\"name\":\"Column05159\",\"width\":960},\"id\":\"4476\",\"type\":\"Column\"},{\"attributes\":{\"client_comm_id\":\"8d6a8b7563f946b78a222a6868b6314f\",\"comm_id\":\"5f382c1895a24ee68e26812239a6cb15\",\"plot_id\":\"4391\"},\"id\":\"4536\",\"type\":\"panel.models.comm_manager.CommManager\"},{\"attributes\":{\"height\":288,\"margin\":[5,5,5,5],\"name\":\"Matplotlib05067\",\"text\":\"&lt;img src=&quot;data:image/png;base64,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&quot; width=&quot;432px&quot; height=&quot;288px&quot; alt=&quot;&quot;&gt;&lt;/img&gt;\",\"width\":432},\"id\":\"4401\",\"type\":\"panel.models.markup.HTML\"},{\"attributes\":{},\"id\":\"4483\",\"type\":\"UnionRenderers\"},{\"attributes\":{\"children\":[{\"id\":\"4393\"}],\"margin\":[0,0,0,0],\"name\":\"Row05163\"},\"id\":\"4392\",\"type\":\"Row\"},{\"attributes\":{},\"id\":\"4484\",\"type\":\"Selection\"},{\"attributes\":{\"children\":[{\"id\":\"4392\"},{\"id\":\"4394\"}],\"margin\":[0,0,0,0],\"min_width\":900,\"name\":\"Column05164\",\"width\":900},\"id\":\"4391\",\"type\":\"Column\"},{\"attributes\":{},\"id\":\"4449\",\"type\":\"AllLabels\"},{\"attributes\":{},\"id\":\"4491\",\"type\":\"UnionRenderers\"},{\"attributes\":{\"callback\":null,\"renderers\":[{\"id\":\"4444\"}],\"tags\":[\"hv_created\"],\"tooltips\":[[\"year\",\"@{year}\"],[\"sale_price_sqr_foot\",\"@{sale_price_sqr_foot}\"]]},\"id\":\"4407\",\"type\":\"HoverTool\"},{\"attributes\":{},\"id\":\"4492\",\"type\":\"Selection\"},{\"attributes\":{},\"id\":\"4450\",\"type\":\"BasicTickFormatter\"},{\"attributes\":{},\"id\":\"4493\",\"type\":\"UnionRenderers\"},{\"attributes\":{\"text\":\"SF Sale per Square foot per Year\",\"text_color\":\"black\",\"text_font_size\":\"12pt\"},\"id\":\"4409\",\"type\":\"Title\"},{\"attributes\":{},\"id\":\"4494\",\"type\":\"Selection\"},{\"attributes\":{\"data\":{\"dimensions.0.values\":[[\"Union Square District\",\"Merced Heights\",\"Miraloma Park\",\"Pacific Heights\",\"Westwood Park\",\"Telegraph Hill\",\"Presidio Heights\",\"Cow Hollow\",\"Potrero Hill\",\"South Beach\"]],\"dimensions.1.values\":[{\"__ndarray__\":\"JRAUMfI/jEB9IrkvwqaIQFx/3pp8XohAFZsVUHKMhUBr0ERas3iFQLsKhXgNJIVAy835O80ahUALV25bts+EQJrMCuEbsIRAya3y7v5QhEA=\",\"dtype\":\"float64\",\"order\":\"little\",\"shape\":[10]}],\"dimensions.2.values\":[{\"__ndarray__\":\"AAAAAE4JF0EAAAAA8DYXQQAAAAB98hZBAAAAAIQYF0EAAAAAXFUXQQAAAACEGBdBAAAAAIQYF0EAAAAAhBgXQQAAAACEGBdBAAAAAPTvFkE=\",\"dtype\":\"float64\",\"order\":\"little\",\"shape\":[10]}],\"dimensions.3.values\":[{\"__ndarray__\":\"VVVVVVX2o0AAAAAAAKyqQAAAAACA1qBASZIkSZICpkAAAAAAAO6uQEmSJEmSAqZASZIkSZICpkBJkiRJkgKmQEmSJEmSAqZAAAAAAABmoEA=\",\"dtype\":\"float64\",\"order\":\"little\",\"shape\":[10]}],\"line.color\":[{\"__ndarray__\":\"JRAUMfI/jEB9IrkvwqaIQFx/3pp8XohAFZsVUHKMhUBr0ERas3iFQLsKhXgNJIVAy835O80ahUALV25bts+EQJrMCuEbsIRAya3y7v5QhEA=\",\"dtype\":\"float64\",\"order\":\"little\",\"shape\":[10]}]},\"selected\":{\"id\":\"4496\"},\"selection_policy\":{\"id\":\"4495\"}},\"id\":\"4479\",\"type\":\"ColumnDataSource\"},{\"attributes\":{\"child\":{\"id\":\"4399\"},\"name\":\"Row05071\",\"title\":\"Year Over Year\"},\"id\":\"4403\",\"type\":\"Panel\"},{\"attributes\":{},\"id\":\"4452\",\"type\":\"AllLabels\"},{\"attributes\":{},\"id\":\"4495\",\"type\":\"UnionRenderers\"},{\"attributes\":{\"tags\":[[[\"sale_price_sqr_foot\",\"sale_price_sqr_foot\",null]]]},\"id\":\"4406\",\"type\":\"Range1d\"},{\"attributes\":{},\"id\":\"4496\",\"type\":\"Selection\"},{\"attributes\":{\"tags\":[[[\"year\",\"year\",null]]]},\"id\":\"4405\",\"type\":\"Range1d\"},{\"attributes\":{},\"id\":\"4413\",\"type\":\"LinearScale\"},{\"attributes\":{\"height\":288,\"margin\":[5,5,5,5],\"name\":\"Matplotlib05065\",\"text\":\"&lt;img src=&quot;data:image/png;base64,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&quot; width=&quot;432px&quot; height=&quot;288px&quot; alt=&quot;&quot;&gt;&lt;/img&gt;\",\"width\":432},\"id\":\"4400\",\"type\":\"panel.models.markup.HTML\"},{\"attributes\":{\"height\":288,\"margin\":[5,5,5,5],\"name\":\"Matplotlib05069\",\"text\":\"&lt;img src=&quot;data:image/png;base64,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&quot; width=&quot;432px&quot; height=&quot;288px&quot; alt=&quot;&quot;&gt;&lt;/img&gt;\",\"width\":432},\"id\":\"4402\",\"type\":\"panel.models.markup.HTML\"},{\"attributes\":{\"data\":{\"dimensions.0.values\":[{\"__ndarray__\":\"JRAUMfI/jEB9IrkvwqaIQFx/3pp8XohAFZsVUHKMhUBr0ERas3iFQLsKhXgNJIVAy835O80ahUALV25bts+EQJrMCuEbsIRAya3y7v5QhEA=\",\"dtype\":\"float64\",\"order\":\"little\",\"shape\":[10]}],\"dimensions.1.values\":[{\"__ndarray__\":\"AAAAAE4JF0EAAAAA8DYXQQAAAAB98hZBAAAAAIQYF0EAAAAAXFUXQQAAAACEGBdBAAAAAIQYF0EAAAAAhBgXQQAAAACEGBdBAAAAAPTvFkE=\",\"dtype\":\"float64\",\"order\":\"little\",\"shape\":[10]}],\"dimensions.2.values\":[{\"__ndarray__\":\"VVVVVVX2o0AAAAAAAKyqQAAAAACA1qBASZIkSZICpkAAAAAAAO6uQEmSJEmSAqZASZIkSZICpkBJkiRJkgKmQEmSJEmSAqZAAAAAAABmoEA=\",\"dtype\":\"float64\",\"order\":\"little\",\"shape\":[10]}],\"line.color\":[{\"__ndarray__\":\"JRAUMfI/jEB9IrkvwqaIQFx/3pp8XohAFZsVUHKMhUBr0ERas3iFQLsKhXgNJIVAy835O80ahUALV25bts+EQJrMCuEbsIRAya3y7v5QhEA=\",\"dtype\":\"float64\",\"order\":\"little\",\"shape\":[10]}]},\"selected\":{\"id\":\"4494\"},\"selection_policy\":{\"id\":\"4493\"}},\"id\":\"4477\",\"type\":\"ColumnDataSource\"},{\"attributes\":{},\"id\":\"4418\",\"type\":\"BasicTicker\"},{\"attributes\":{\"child\":{\"id\":\"4476\"},\"name\":\"Column05159\",\"title\":\"Parallel Plots\"},\"id\":\"4481\",\"type\":\"Panel\"},{\"attributes\":{},\"id\":\"4415\",\"type\":\"LinearScale\"},{\"attributes\":{\"below\":[{\"id\":\"4417\"}],\"center\":[{\"id\":\"4420\"},{\"id\":\"4424\"}],\"height\":300,\"left\":[{\"id\":\"4421\"}],\"margin\":[5,5,5,5],\"min_border_bottom\":10,\"min_border_left\":10,\"min_border_right\":10,\"min_border_top\":10,\"renderers\":[{\"id\":\"4444\"}],\"sizing_mode\":\"fixed\",\"title\":{\"id\":\"4409\"},\"toolbar\":{\"id\":\"4431\"},\"width\":700,\"x_range\":{\"id\":\"4405\"},\"x_scale\":{\"id\":\"4413\"},\"y_range\":{\"id\":\"4406\"},\"y_scale\":{\"id\":\"4415\"}},\"id\":\"4408\",\"subtype\":\"Figure\",\"type\":\"Plot\"},{\"attributes\":{\"axis\":{\"id\":\"4417\"},\"grid_line_color\":null,\"ticker\":null},\"id\":\"4420\",\"type\":\"Grid\"},{\"attributes\":{\"axis_label\":\"sale_price_sqr_foot\",\"formatter\":{\"id\":\"4450\"},\"major_label_policy\":{\"id\":\"4452\"},\"ticker\":{\"id\":\"4422\"}},\"id\":\"4421\",\"type\":\"LinearAxis\"},{\"attributes\":{\"axis_label\":\"year\",\"formatter\":{\"id\":\"4447\"},\"major_label_policy\":{\"id\":\"4449\"},\"ticker\":{\"id\":\"4418\"}},\"id\":\"4417\",\"type\":\"LinearAxis\"}],\"root_ids\":[\"4391\",\"4536\"]},\"title\":\"Bokeh Application\",\"version\":\"2.3.1\"}};\n",
       "    var render_items = [{\"docid\":\"a9d630fd-7324-45e7-be4e-3d38ca2b2b29\",\"root_ids\":[\"4391\"],\"roots\":{\"4391\":\"1494ac60-e023-400d-a201-f0820fedf1a1\"}}];\n",
       "    root.Bokeh.embed.embed_items_notebook(docs_json, render_items);\n",
       "  }\n",
       "  if (root.Bokeh !== undefined && root.Bokeh.Panel !== undefined && root['Plotly'] !== undefined ) {\n",
       "    embed_document(root);\n",
       "  } else {\n",
       "    var attempts = 0;\n",
       "    var timer = setInterval(function(root) {\n",
       "      if (root.Bokeh !== undefined && root.Bokeh.Panel !== undefined && root['Plotly'] !== undefined) {\n",
       "        clearInterval(timer);\n",
       "        embed_document(root);\n",
       "      } else if (document.readyState == \"complete\") {\n",
       "        attempts++;\n",
       "        if (attempts > 100) {\n",
       "          clearInterval(timer);\n",
       "          console.log(\"Bokeh: ERROR: Unable to run BokehJS code because BokehJS library is missing\");\n",
       "        }\n",
       "      }\n",
       "    }, 10, root)\n",
       "  }\n",
       "})(window);</script>"
      ],
      "text/plain": [
       "Column(width=900)\n",
       "    [0] Row\n",
       "        [0] Markdown(str, width=800)\n",
       "    [1] Tabs\n",
       "        [0] Column\n",
       "            [0] Plotly(Figure)\n",
       "        [1] Row\n",
       "            [0] Matplotlib(Figure)\n",
       "            [1] Matplotlib(Figure)\n",
       "            [2] Matplotlib(Figure)\n",
       "        [2] Column\n",
       "            [0] HoloViews(Curve)\n",
       "            [1] Plotly(Figure)\n",
       "        [3] Column(width=960)\n",
       "            [0] Plotly(Figure)\n",
       "            [1] Plotly(Figure)"
      ]
     },
     "execution_count": 149,
     "metadata": {
      "application/vnd.holoviews_exec.v0+json": {
       "id": "4391"
      }
     },
     "output_type": "execute_result"
    }
   ],
   "source": [
    "# Serve the# dashboard\n",
    "panel.servable()"
   ]
  },
  {
   "cell_type": "markdown",
   "metadata": {},
   "source": [
    "# Debugging\n",
    "\n",
    "Note: Some of the Plotly express plots may not render in the notebook through the panel functions.\n",
    "\n",
    "However, you can test each plot by uncommenting the following code"
   ]
  },
  {
   "cell_type": "code",
   "execution_count": 132,
   "metadata": {},
   "outputs": [
    {
     "data": {},
     "metadata": {},
     "output_type": "display_data"
    },
    {
     "data": {
      "application/vnd.holoviews_exec.v0+json": "",
      "text/html": [
       "<div id='4245'>\n",
       "\n",
       "\n",
       "\n",
       "\n",
       "\n",
       "  <div class=\"bk-root\" id=\"dcdf63c5-8eef-4626-8a2d-4a9f7cdcdb4f\" data-root-id=\"4245\"></div>\n",
       "</div>\n",
       "<script type=\"application/javascript\">(function(root) {\n",
       "  function embed_document(root) {\n",
       "    var docs_json = {\"e7aafa40-3448-4514-8629-6708b4cfe8be\":{\"defs\":[],\"roots\":{\"references\":[{\"attributes\":{\"height\":288,\"margin\":[5,5,5,5],\"name\":\"Matplotlib04765\",\"text\":\"&lt;img src=&quot;data:image/png;base64,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&quot; width=&quot;432px&quot; height=&quot;288px&quot; alt=&quot;&quot;&gt;&lt;/img&gt;\",\"width\":432},\"id\":\"4245\",\"type\":\"panel.models.markup.HTML\"},{\"attributes\":{\"client_comm_id\":\"2083f5a0ae48446bb77f4aed0d03a2f1\",\"comm_id\":\"219d7d7dfd8742c18a3f5b4ca8a61820\",\"plot_id\":\"4245\"},\"id\":\"4246\",\"type\":\"panel.models.comm_manager.CommManager\"}],\"root_ids\":[\"4245\",\"4246\"]},\"title\":\"Bokeh Application\",\"version\":\"2.3.1\"}};\n",
       "    var render_items = [{\"docid\":\"e7aafa40-3448-4514-8629-6708b4cfe8be\",\"root_ids\":[\"4245\"],\"roots\":{\"4245\":\"dcdf63c5-8eef-4626-8a2d-4a9f7cdcdb4f\"}}];\n",
       "    root.Bokeh.embed.embed_items_notebook(docs_json, render_items);\n",
       "  }\n",
       "  if (root.Bokeh !== undefined && root.Bokeh.Panel !== undefined && root['Plotly'] !== undefined ) {\n",
       "    embed_document(root);\n",
       "  } else {\n",
       "    var attempts = 0;\n",
       "    var timer = setInterval(function(root) {\n",
       "      if (root.Bokeh !== undefined && root.Bokeh.Panel !== undefined && root['Plotly'] !== undefined) {\n",
       "        clearInterval(timer);\n",
       "        embed_document(root);\n",
       "      } else if (document.readyState == \"complete\") {\n",
       "        attempts++;\n",
       "        if (attempts > 100) {\n",
       "          clearInterval(timer);\n",
       "          console.log(\"Bokeh: ERROR: Unable to run BokehJS code because BokehJS library is missing\");\n",
       "        }\n",
       "      }\n",
       "    }, 10, root)\n",
       "  }\n",
       "})(window);</script>"
      ],
      "text/plain": [
       "Matplotlib(Figure)"
      ]
     },
     "execution_count": 132,
     "metadata": {
      "application/vnd.holoviews_exec.v0+json": {
       "id": "4245"
      }
     },
     "output_type": "execute_result"
    }
   ],
   "source": [
    "housing_units_per_year()"
   ]
  },
  {
   "cell_type": "code",
   "execution_count": 133,
   "metadata": {},
   "outputs": [
    {
     "data": {},
     "metadata": {},
     "output_type": "display_data"
    },
    {
     "data": {
      "application/vnd.holoviews_exec.v0+json": "",
      "text/html": [
       "<div id='4247'>\n",
       "\n",
       "\n",
       "\n",
       "\n",
       "\n",
       "  <div class=\"bk-root\" id=\"e34d226e-dafd-48a4-bbd0-adc01d10f7f7\" data-root-id=\"4247\"></div>\n",
       "</div>\n",
       "<script type=\"application/javascript\">(function(root) {\n",
       "  function embed_document(root) {\n",
       "    var docs_json = {\"610b3aeb-ab60-4589-b60d-d15c40c40f13\":{\"defs\":[],\"roots\":{\"references\":[{\"attributes\":{\"client_comm_id\":\"952c1760bede4531a4f7ed064e279abd\",\"comm_id\":\"043fff8ac56745c88520033f61edb86c\",\"plot_id\":\"4247\"},\"id\":\"4248\",\"type\":\"panel.models.comm_manager.CommManager\"},{\"attributes\":{\"height\":288,\"margin\":[5,5,5,5],\"name\":\"Matplotlib04769\",\"text\":\"&lt;img src=&quot;data:image/png;base64,iVBORw0KGgoAAAANSUhEUgAAA2AAAAJACAYAAADrSQUmAAAAOXRFWHRTb2Z0d2FyZQBNYXRwbG90bGliIHZlcnNpb24zLjMuNCwgaHR0cHM6Ly9tYXRwbG90bGliLm9yZy8QVMy6AAAACXBIWXMAABYlAAAWJQFJUiTwAABupElEQVR4nO3dd5gV1f3H8feXjlQBRcWCoig2EGzBxBaNSTSW2I1Gk9gSo7Gkm0RTTNNoiqZoilFjrBF/mmgSWyxYKaKioggWrICAdNg9vz9m7uW63l12Ydm7d/f9ep77DPfMnJkzd1i4n50550RKCUmSJEnSmteh0g2QJEmSpPbCACZJkiRJLcQAJkmSJEktxAAmSZIkSS3EACZJkiRJLcQAJkmSJEktxAAmSZIkSS3EACZJkiRJLcQAJkmSJEktxAAmSZIkSS3EACZJkiRJLcQAJkmSJEktxAAmSZIkSS3EACZJkiRJLcQAJkmSJEktxAAmSZIkSS3EACZJkiRJLcQAJkmSJEktxAAmSZIkSS3EACZJkiRJLcQAJkmSJEktxAAmSZIkSS3EACZJkiRJLcQAJkmSJEktxAAmSZIkSS3EACZJkiRJLcQAJkmSJEktxAAmSZIkSS3EACZJkiRJLcQAJkmSJEktxAAmSZIkSS3EACZJkiRJLcQAJkmSJEktxAAmSZIkSS3EACZJkiRJLcQAJkmSJEktxAAmSZIkSS3EACZJkiRJLcQAJmmNi4iDIyLlr/9Uuj0qLyIOiIg/RcSzEfFuRCyLiFkR8XhEXBYR+0REx0q3s7lFxAklfz9LX4siYnpE3BAR+1a6naUiom9EnB8R51e6LS0tIr6TX5+5EbHRSrbtFRGv5Ntf0VJtlKSGREqp0m2Q1MZFxC3AwfnbWmCTlNJrlWuRSkXEUODvwMiS4uXAPKA30Kmk/Dng+JTSYy3XwjUrIk4A/pK/fatkVV+ga8n7S1JKZ7dQsxoUEYOBaQAppahsa1pWRHQCHgdGAHeklD7ZwLa/Bb4IzAC2SSnNbZFGSlIDvAMmaY2KiP7A/sBC4Fqyf3eOrWijVBQROwCPkoWvd4HvAFunlDqnlPoDXYDNgFOACcBWwOgKNXeNSymtV3gBawHbA/fmq8+KiHq/7KtlpJSWA58j+yXBJyLis+W2i4iPAKfmb08xfElqLQxgkta0Y4DOwK3AH/Ky4yvXHBVERC/gZrI7PS8AO6SULkgpPVvYJmWmpZQuTymNBI4GZlakwS0spVSbUnoKOAR4Jy8u+2VfLSulNBH4Wf72kogYWLo+IroBfwQCuCal9M+WbaEk1c8AJmlNK4StvwEPAK8AW0XEzqUbRcRGEVGb99XYtr6dRUTXvO9HiogDy6xfJyJ+EhFPRcT8iFgQEU9HxAUR0a+efU7P97dnRAyKiN9GxEsRsSQiJpZst35EfDEi/hkRL0TEwoiYFxETIuL7EdG3oQ8iIjbM+1jNiIjF+TEuiYi1S/oh3ddA/Q9HxHUR8VretlkRcVdEHB0Rq/IY2heBTYEa4PCU0ssrq5BSui6ldE097esQEV+IiP9FxOz8HKdFxOURsXkD57VpRPwuIqbk/a4WRsTLEXFfRHwrIgaUOc4JEXFv/hksi4h3IuKZiPhzRHy8iZ/Dys55LlB45HLrBs7jUxFxa0S8GRFLI+LtiLgtIvarZ/v3XfO8/r0RMSf/u/tIRBxdpt595I8f5u/r9l07vzHnFRGDC3Xy97tFxO35Z7kwIiZGxJcjosHvChGxbf65T8uv+ZyIeCgiTo2Izo047q4RcVNEvBERNRHxy8a0H/gBMBnoB1xWZ933gaFkj5R+pc7xm3Sd8jq7RPbvyiP5z2+h3p0RcVgD9a4sXJPI/u06NyImRcR7eXnfRp6rpLYkpeTLly9fa+QFbAMksjsmnfOyn+Zll5XZ/v583Y8b2Oen821mA13qrPswMCtfn4AlZI8+Ft6/AmxZZp/T8/Unk93pSMACYD4wsWS7m0r2lcge2aspef8isGE97d6+TtveK2nbi8DZ+Z/vq6f+z+oce16dY/8d6NDE6/NiXvfWZrjWawH/LmnPUmBOyftFwEFl6o3Mz6W03rt1zvXjder8rc76Ofm1Lrx/pIltP6FQt4Ft/plv80yZdZ2Ba+q0aW6d9z9v4Lj3Ad/N/1xT53NLwJl16v2j5O9pAt6s8/pqI897cMk+DgWWlfy9Xlay7hagUz37+HKdv4fzyR4NLLy/F1irgeMeUXKsOfn1/2UTrt3OJcc7LC8bVVJ2aDNcp551tlnK+//OJuAP9bTvynz9T8ke9a37s9F3dX/2fPnyVX2vijfAly9fbfcF/Dz/kvHbkrLt8rJZfDBAnZqve6mBfd6Yb3N5nfJNWPHF/QpgS7K7/EEWBO/I1z0DdKxTdzorQtEkYHTJus1L/vwT4FyyuyDd8rLOwB5kd0gS8M8ybe4KPJ+vnwLslpd3AD4BvFHS9vvK1P9Kvu5tsrtWffPybsDhwOv5+m814dpsWPLl8eRmuNa/z/e1mKy/WNe8fCjZl/BEFmqH1ql3T77uEbJHIAvlawE7ApcAHyop350VQeVMoFdeHsD6ZHdcL2pi208ofBb1rO/DisBzW5n1l+TrppE9otkzL+9JFuoLX/KPrue475IFhu+UXNuBrPi7vgjoV6fu4Iba3MjzLu6DLBDcAWyar+sBfI0V4erbZeofxIrQ9S1g3ZKfiX3JBmz5QDipc9z3yH6xMThf16nw5yacx0WsCKIDgYn5+xub6TqtRRbAjwI2IP9FB9mju1/OzyGR3UWu27YrS87zXeBI8n/3yP7N6ry6P3u+fPmqvlfFG+DLl6+2+QI6siIYfLjOuknU+e10Xt6f7LfDiZIv3SXre7HirtGeddYVfrP9q3ra06Xki9lhddZNZ8UX4YGreL79yAJSKnyJLVn3OVZ8kd6sTN1dyEaH/EAAy7/kvUd2l2Dneo69a17/A3cFG2jvviVfgnddzWu9CSu+qJ9SZv1arLjbdlWddYXruUsjj/X1fPs7mvHv6gmUCTNkoW474O6Sz+rIOttskZ/7u+Wubb7NEXndp+s7LnBumXrdSv5OfbbOusHl2tzE8x5ccvynyUNznW3OZ8Wdoh4l5R1Lfm4OqWf/m5KFs2XA+vUc90GaeOe2zHG6k/1iIwGv5cuZ5IFwda9TI45/XF7v3jLrriw51481199ZX758VffLPmCS1pSPkd2ReBl4qM66v+XL40sLU0qzgMI8YR/o+0I2lH13siGl7y8URkR3sjtBABeXa0xKaSnZb9ohCx/lXJVSequedQ1KKc0GxuZvP1Rn9afz5U0ppZfK1H2U7DG0cg4l+w39g6meod9TSo8ALwFrkz1+1Ril/eHeLbdBROyV95Op+3q8zqafJrub9ybZwAd127eQ7G4owKfj/XOJzcuX6zey3YXt111Z36RVUXqeZIF5ErB3vvovZHelSn2W7NzHlLu2uX+QPSK5TUSUO8/FwC/rFqaUFpM91glQb7/IZvKLlNKSMuUXk7WvN+//udmTLHhPTyndUm6HKaVpZHc2O+Xb13fc2lVsc+E4i4AvkIWcQXnxGSmlt0s2a47rVJ/b8uWuUf88eZNSSs6BKAl4/9wuktScCuHq7ymlVGfd38ke5/tERKyTUnqnZN21ZMPWHxERZ6WUakrWHZMvr6vzpW1HsjtcAI82MB5F93xZ3+StD9dXsSCywUNOJRuKfUOyR7Xq2qDO+x3y5YMN7PoBYK8y5YUh33fJQ0F9CoFqIxpxHo3UleyRrroW13lfmD/sgTrXq9Q9+bIH2eOhk/P3/yK7Q3hVZHM2jQHGpZSW1bOfu8juko4E7ouIy4F7Ukqvr+RcGqvc+Rbu7JWbyLdwfQ6LiE80sN/CYBQbkT1yWmpySmlBPfVm5Mu1G9h3c7ivXGFKaV5ETCD7pcJIsusDK857g5X8veyTL1f5Z64xUkoPRMQYshErJ6SUrq2zyWpdp8jmHjue7Bc9w8l+3rrUqduN7DqVGyW0uX4mJbUBBjBJzS4i+pD1D4EsUL1PSumViHiArD/PMcCvSlbfStZXaCDZnYf/5vscAOxTzz5Lf1td7gt0XWvVU/5OPeXkbfgq2Z2cQsIrPNK0NH/fh+xLWN1QVhjFr+4X71L1BYjCuXVnRYBsSH3nVtfskj+X/XKfUrqTFedKRJxI1r+urnXy5Ywy6wpKJ95ep+TPXyMLZKOBb+SvxRHxMNndpivzOxyFNr0YEV8ELgU+kr+IiOnAnWR9Ayc00I4GpXxS4/xOxkbA58n6/V0YEeNTSuPqVClcn575a2XKXZ/3Gti+EHY/MJpgM2vo2hXWlV63wnl3YQ3+zDXRvDrLUqt8nSKiJ9mdyNL57xaRtb3wi6DCZ9CD8gGsOc9TUpXzEURJa8KRZEEEYFKZYbITWfiCDz6GuAD4v/ztMSWrDif7pdHzKaXxdY5X+Lfs3ZRSNOK1Zz3tru/uDRGxDdlIhEH25X8bsj4z/dKKiXsLjziuypDw9Smc2yWNPLcrG7nfZ0v+vH0ztbVrA+vq3gXNCrPHTj9M9njbr8kme+5Cdjfwt8DTEbFhnTp/JutfdCZZYJ9F1q/oVGBcRHx7dU4iP0ZNSml6Sul7ZCMU9gFuiIi64bpwfb7SyOtz3+q2rQLK/X0unPctjTzv88vtuIE7ps1tda7Td8nC10yyf68GppTWSimtm//cDyrZtr6f/ZY6T0lVwAAmaU04fuWbFO0QEdvVKSvc4TokIgpf6o+us65Uod/W2hGxXhOO3RSHkv2b+e+U0ukppcllvjzWdyeg8BvxhvqV1LeucG71zj+1KlJKrwFT87f7r+buCr/d36SBbUofQXvf3YCUuSul9JWUTfY8gGwkxdnAZmSj11GnzlsppV+llA4muzOzM9lw6QH8MCKaK1QCXEjWx24z4Kt11q2R61MBdR+bLVX4u1l63artvFenvYX+paenlK6q07cMGncHUJKKDGCSmlVkE+4WHtUZQfZ4W32vQuf1uoHt32R3NfoA++d3QD6cr/t7mcM+QTaMN6wY8KK5Fe7ClH28Lb8zsms9dQt1PlzPesgfpSuj0Hdkj4jo32ALm+7yfLl/RAxfjf0U7kjuEhH1PWpWGMhiAdmQ/PVKKb2bUrocKNzJ2mMl26eU0uNkX5RfI/u/raHPukny/mg/zd+eExGlj2wWrs+nyk06vAYV+0BGA50em6DsZxwRvVjRx6/0znPhvLfM7w63dqtznRr82WfFo9GS1CgGMEnNrRCmnkwpPZlSmlPfixUjyn2mdPSw/Atv4XG+o/NXAI+nlF6oe8CU0nvAzfnb70REvb+RjohOeZ+OppqbL+verSs4l2yY/HIKo8QdGhGDy7RpJ8oPwAHZZ7SA7JHOCxtqYJ1g0Bi/I5sTqSNwY0Q0dAerIf8gCwT9yeZTqtuutcj6egH8o3DnMCI65IMb1KfQ96v4aGNE1B34oCjfb2HwjoYeh1wVV5HdRelFNi9bwV/Jzn0Dsrmw6rUK16chpf2c+jbD/s6p57M9k+zv3jxWjFAK2dD8r+R/vqSB0f+a+7xX1epcp3p/9vN/S85tjgZKaj8MYJKaTf6b+OPyt/9oRJXbyL4wrwfsV2dd4VHDA8hGySstK+ebZI+srQ+MjYjSxxeJiM0j4kyyvk87NqJtdf03X+4fEd8u3OmJiHUi4kKyL3Wz6ql7Ldk8WN2BOyPiQ3ndiIj9yEaWm1uuYt5HqvCF8XMRcUNEFIckj4huEfHhiLiMDw7336A8uB5KNgnvFsD4iPhORAwr3S4i1o2IY3l/8Cjdz8usuJv204g4ufDZR8RQsklsNyeb8+tHJVV7Ay9GxLkRsV3hS3wezD4KXJBv9++SOj+OiJsi4uCIKA6lHxEDI+LXZH3DEiuuV7NI2RDtv8nfnhERvfPyZ1kxhPz3I+KyiNispF09I2LfiLiaDw5hvzrtmcOKgVs+18CmjbUxcEvhFwQRsVZEnA2cl6//WcqmEygcfxlwOtlnvS/wn4jYpXA3Lv9Fx6iI+CnZ45sVtZrXqfB36eKI2KPkHHciC6IDkKSmSK1gMjJfvny1jRfZXZzCpKPbNLLOnfn219cpD7LfsBf2V0PJZK717GsnshHbCnWWkfW/WlxSloA96tSbTpnJncvs/+aSfRQmPi5MoPwnVky6en6ZuiPIRkws1H+PFZMQPw+cnf/53/Uc+zslx0pkd8Vms2IC5ARMW8XrtiUwrs5ntJSsz8/8OuWTgf3K7GMtsjskpfVLz3cxcFCdOn3LHHMW2eOkhbKpwIYldX5Zp85csrszpWXfbuL5n1Cou5Lt1s6vWwK+VVLekWzAkNI2zMvPv/Sa3VvPce9r4Jjn59tcWWbd90v2PT//ezwdOLOR5z24pP6hZD8vKW/3spJ1Y4BO9ezjc2RzZxW2XUT2M1d6DVN9x12Vv68NnM+VDX2eq3GdNiP7WSg9x8LPxUKyOQ8L6wbX06YP/Jvgy5ev9vvyDpik5lR4/HBKSumZRtYpPDp4UET0LRSmlBLv7+91b0qpoWHcSVk/oK3IhjIfS/ZluS/ZF6YnyEYx3Cml9L9Gtq2uI8nutD1L9gU1yO46HZ9S+sJK2jaRbP6gv5BNWNw5X15MNoBEoU/PnHrq/yivfznwQn7sHmRD298BfBHYZVVOKqX0PNldwU/l7Xue7ItlX7LgNJ7sccV9yIL1v8vsYyHwCeBEsjnNFpKFspfJJmfeLqV0a51q88jucP4SeIzsS24vsnD5ONmjXSNSNmBIwSXAGWSjH07JP4euwKvA9cDuKaUfr8rnsDIppXdZMdH0WYW7oCkbMfFLZP3OriE75y5kdzxfIXsE9XiyicSb0w/I/q5PIvscNslffZu6o5TSzWS/QPknWahfDjxJdpfr0yml5fXU+wtZgP8l8Exerw9ZkL6XbNCSwU1tz5qwqtcpZRM375zXeZssyM0hm1B+p+QEy5KaKLLvOJKkSsoffToW+H6qZ8huqTnljxtOgxXzn0mS1jzvgElSheV9UQ7N3zZr3yVJktS6GMAkqQVExEER8eOI2KYwDHZEdI2Ig4B7yB6DeiSl1KSBNCRJUnVpaPhfSVLzWYdsNMNvAbURMYdsFMDCv8Mvkz2CKEmS2jDvgElSy7iLbFj1h8kG3+hJNlDFeLKR7kaklKZWrHWSJKlFOAiHJEmSJLUQ74BJkiRJUgsxgEmSJElSCzGASZIkSVILMYBJkiRJUgsxgEmSJElSC3EesCoSEdPI5g2aXuGmSJIkqW0bDMxLKW1a6Ya0NW0mgEXEccBV+duTUkp/LFk3GJjWQPXrU0pH1bPf44HTgK2BGmACcFFK6fZ6tu8OfBM4CtgEmAfcB5yXUnq2CadUTu/u3bv3GzZsWL/V3I8kSZJUr2effZZFixZVuhltUpsIYBGxEfAbYD7Z5Kb1eRIYU6b86Xr2exFwDvAacAXQhSxY3RYRp6eULq2zfVfgv8BuwBPAr4CNgMOB/SNi75TSo40/sw+YPmzYsH7jxo1bjV1IkiRJDRs1ahTjx4+fXul2tEVVH8AiIoC/ALOAfwBfbWDziSml8xu539Fk4WsqsFNK6d28/EJgHHBRRNyeUppeUu1ssvB1E3BkSqk2r3M9WfD7c0RsVyiXJEmS1L60hUE4zgD2Bj4HLGjG/Z6aLy8ohC+APHBdBnTNjwkUg2ChztdLQ1ZK6VbgAbLHGPdoxjZKkiRJqiJVHcAiYhjwU+BXKaX7G1Flg4g4JSK+nS+3b2DbvfPlnWXW3VFnG4AhwMbAlJRSuf5m5epIkiRJakeq9hHEiOgEXA28Any7kdX2zV+l+7kPOD6l9EpJWQ9gEDA/pfRGmf28kC+HlpRtmS+n1HPscnXKioj6OnlttbK6kiRJklqvar4D9j1gB+CElNLKhmhZCPwQGAWsnb/2AO4F9gTuzkNXQZ98Obee/RXK+65mHUmSJEntSFXeAYuIncnuev0ipfTwyrZPKb1NFthK3R8RHwMeBHYBTiQbtbApUhO2jcbWSSmNKruD7M7YyCYcU5IkSVIrUnV3wEoePZwCfHd19pVSWg4U5gvbvWRV4W5VH8ord7drZXV6l6kjSZIkqR2pugBGNs/XUGAYsDgiUuEFnJdvc0Ve9stG7O+dfFl8BDGltACYAfSMiPXL1NkiX5b293o+X9bXx6tcHUmSJEntSDU+grgE+FM960aS9Qt7kCwQrfTxRGDXfPlSnfJ7gOOAj5PNM1bqEyXbFEwlGxBkaERsWmYkxHJ1JEmSJLUjVRfA8gE3Tiy3LiLOJwtgf00p/bGkfBdgQkppaZ3t9wbOyt9eU2d3vycLYOdGxJiSiZgHA6eRBcFiMEsppYj4PfBj4OcRUToR80HAR4DJwP9W4bQlSZIktQFVF8BW0c+AbfIh51/Ly7ZnxZxc300pjS2tkFIaGxEXA2cDkyLiJqALcCTQDzg9n5S51MXAAcBhwKMRcTfZ3GCHk43E+PnSCZolSZIktS/tJYBdDRwC7ET2KGBn4C3gBuDSlNID5SqllM6JiEnAl4GTgVpgPHBhSun2MtsviYh9gG8Cx5DdXZsHjAHOSylNbubzkiRJklRFIqWmjKSuSoqIcSNHjhw5blx98zRLkiRJq2/UqFGMHz9+fH3TI2nVVeMoiJIkSZJUlQxgkiRJktRCDGCSJElSKzV/yfJKN0HNzAAmSZIktTK1tYmL//M8+11yP++8t6TSzVEzMoBJkiRJrci8xcs46aon+PU9LzJjziK+9LdxLF3uTEZtRXsZhl6SJElq9aa+M5+TrnqCl95ZUCzr1rkji5fX0KWT907aAgOYJEmS1Arc/exbnHndRN4r6fd1yu6b8bX9tqRTR8NXW2EAkyRJkiqotjZx2b0vcvFdUyhM0dutcwd+duj2HDRiUGUbp2ZnAJMkSZIqZP6S5Xz1hie585k3i2WD+nbnD8eNYttBfSrYMq0pBjBJkiSpAl6etYCTrnqCKW/NL5btulk/LjtmJP17dq1gy7QmGcAkSZKkFva/Ke9w+rXjmbd4RX+vz+02mG9/chid7e/VphnAJEmSpBaSUuLy+1/iZ3c+R23e36tLpw5ccPC2HL7jRpVtnFqEAUySJElqAYuW1vD1mydx25OvF8vW692N3x83ihEb9a1cw9SiDGCSJEnSGvbq7IWccvU4Jr8xr1i24yZr89tjR7Jur24VbJlamgFMkiRJWoPGvjiT064dz7sLlxXLPrPLxpz3qW2cXLkdMoBJkiRJa0BKib88NJ0L/vUsNXmHr84dg+8fuC3H7LJxhVunSjGASZIkSc1s8bIavn3LU/xj/Ixi2Tq9uvL7Y0cyapN+FWyZKs0AJkmSJDWj1+cs4tRrxjHptbnFsuEb9eUPx45ivT7292rvDGCSJElSM3l8+my+eM04Zs5fWiw7fNSG/PDgbenWuWMFW6bWwgAmSZIkraaUEn979BXO/79nWJ739+rUIfjep7bmuF03ISIq3EK1FgYwSZIkaTUsWV7D+f/3DH9/7NViWb8eXfjtZ0ay62b9K9gytUYGMEmSJGkVvT1vMadeM47xr8wplm2zQW8u/+yODOrbvXINU6tlAJMkSZJWwfhX3uXUq8fx9ntLimUHj9iAn3x6e7p3sb+XyjOASZIkSU10w+Ov8p0xT7O0phaADgHf/uQwvvDhTe3vpQYZwCRJkqRGWlZTyw9vn8xVD79cLOu7VmcuPXokH95iQAVbpmphAJMkSZIaYeb8JXzpb+N5bNrsYtlW6/Xi8uN2ZOP+a1WwZaomBjBJkiRpJZ56bS6nXP0Er89dXCzbf7v1ufDw7Vmri1+p1Xj+bZEkSZIacMuE1/jmzU+xZHnW3ysCvrbflnxxjyH291KTGcAkSZKkMpbX1PLTO57jjw9OK5b16taJXx+9A3ttuW4FW6ZqZgCTJEmS6nh3wVK+/PfxPPTirGLZ5uv25IrP7simA3pUsGWqdgYwSZIkqcTk1+dx8tVP8Nq7i4pl+249kIuPGE6vbp0r2DK1BQYwSZIkKXf7pNf52o2TWLSsplh25j5bcMbeW9Chg/29tPoMYJIkSWr3amoTF/3neX5339RiWY8uHbnkyBF8bJv1KtgytTUGMEmSJLVrcxcu44zrJvC/Ke8UyzYd0IPLjxvFFgN7VbBlaosMYJIkSWq3prz1Hidf9QTTZy0slu255Tr86qgd6NPd/l5qfgYwSZIktUv/fuZNzr5+IguWrujvddpeQzh73y3paH8vrSEGMEmSJLUrtbWJX979Ar+++4ViWffOHbno8OHsv/36FWyZ2gMDmCRJktqN9xYv46zrn+SuZ98qlm3UrzuXH7cjw9bvXcGWqb0wgEmSJKldeOmd+Zx89ThefHt+sezDmw/gN0fvwNo9ulSwZWpPDGCSJElq8+597m3OuG4C7y1eXiw76SOb8o2Pb0Wnjh0q2DK1NwYwSZIktVkpJX5731Qu+s/zpJSVde3UgZ8duj0H7zCoso1Tu2QAkyRJUpu0YMlyvnbTk/zrqTeLZRv06cbln92RbQf1qWDL1J4ZwCRJktTmvDJrISdf/QTPvflesWyXTftx2WdGMqBn1wq2TO2dAUySJEltygMvvMOXr53A3EXLimUnjB7MufsPo7P9vVRhBjBJkiS1CSkl/vjANH5yx7PU5v29unTswI8O2ZYjdtyoso2TcgYwSZIkVb1FS2v45j8mcevE14tlA3t35ffHjmKHjdeuYMuk9zOASZIkqaq99u5CTrl6HM+8Pq9YNmqTtfndsSNZt1e3CrZM+qA28xBsRBwXESl/nVjPNqMj4l8RMTsiFkbEpIg4MyI6NrDf4yPisYiYHxFzI+K+iDigge27R8T3I+L5iFgcEW9HxA0RMaw5zlOSJEkrPDx1Fgde+tD7wtfRO2/M30/a1fClVqlNBLCI2Aj4DTC/gW0OAu4HdgduAS4DugCXANfVU+ci4EpgfeAK4BpgO+C2iPhyme27Av8FvgfMA34F3AUcAjwREbus0glKkiTpfVJK/HXsdI7906PMXrAUgM4dgwsO2ZaffHo7unRqE19z1QZV/SOIERHAX4BZwD+Ar5bZpjdZgKoB9kwpPZGXfxe4BzgsIo5KKV1XUmc0cA4wFdgppfRuXn4hMA64KCJuTylNLznU2cBuwE3AkSml2rzO9cAY4M8RsV2hXJIkSU23eFkN3x3zNDeOe61YNqBnV3537Eh2Gtyvgi2TVq4t/GrgDGBv4HPAgnq2OQxYB7iuEL4AUkqLge/kb79Yp86p+fKCQvjK60wnu3vWNT8mUAyChTpfLw1ZKaVbgQeArYE9mnBukiRJKvHm3MUcefkj7wtfwzfsw22n72b4UlWo6gCW96v6KfCrlNL9DWy6d768s8y6+4GFwOj8EcLG1LmjzjYAQ4CNgSkppWmNrCNJkqRGemL6bA74zYM8+eqcYtmhIzfk+lM+xPp9uleuYVITVO0jiBHRCbgaeAX49ko23zJfTqm7IqW0PCKmAdsAmwHPRkQPYBAwP6X0Rpn9vZAvhzbmGA3UkSRJUiNc++grnPd/T7OsJpvgq2OH4Lv7D+P40YPJHkSSqkPVBjCygS52AD6cUlq0km375Mu59awvlPddxe1XtU5ZETGunlVbrayuJElSW7J0eS3n3/YM1z76SrGsX48uXHbMSD40pH8FWyatmqoMYBGxM9ldr1+klB5ujl3my9TEek3ZflWPIUmS1C69/d5ivnTNeJ54udgdn2026M0fjhvFhmuvVcGWSauu6gJYyaOHU4DvNrJa4e5Tn3rW966z3cq2L3e3q6nHqFdKaVS58vzO2MiV1ZckSap2E1+dw6lXj+PNeYuLZQcO34CfHbo93bvUO4Wr1OpV4yAcPcn6UQ0DFpdMvpyA8/JtrsjLfpm/fz5ffqD/VR7oNgWWAy8BpJQWADOAnhGxfpk2bJEvS/t71XuMBupIkiSpjhufeJUj/vBwMXx1CDj3k8P41VEjDF+qelV3BwxYAvypnnUjyfqFPUgWiAqPJ94DfAb4OPD3OnV2B9YC7k8pLSkpvwc4Lq/zlzp1PlGyTcFUsgFBhkbEpmVGQixXR5IkSbllNbVc8M9nuXLs9GJZn+6d+c3RO7D70HUq1zCpGVVdAMsH3Dix3LqIOJ8sgP01pfTHklU3AT8DjoqI35RMxNwN+FG+ze/q7O73ZAHs3IgYUzIR82DgNLIgWAxmKaUUEb8Hfgz8PCJKJ2I+CPgIMBn43yqeuiRJUps1a/4STrt2PI+8NLtYtuXAXlz+2VFs0r9HBVsmNa+qC2CrIqU0LyJOIgti90XEdcBs4ECy4eNvAq6vU2dsRFwMnA1MioibgC7AkUA/4PR8UuZSFwMHkE38/GhE3E02N9jhZHONfb50gmZJkiTB0zPmcsrV45gxZ8XA1h/fZj1+ccRwenRtF19X1Y60m7/RKaUxEbEHcC5wKNANeJEsYP06pfSB0QlTSudExCTgy8DJQC0wHrgwpXR7me2XRMQ+wDeBY4CzgHnAGOC8lNLkNXFukiRJ1erWiTP4xs2TWLws+x11BJyz71BO22tz5/dSmxRlcodaqYgYN3LkyJHjxtU3TZgkSVJ1WF5Ty8///TyX3/9SsaxX10788qgRfHTYwAq2TACjRo1i/Pjx4+sbnVurrt3cAZMkSVLrMGfhUk7/+wQeeGFmsWyzdXpwxWd3ZMg6PSvYMmnNM4BJkiSpxTz35jxOvmocr8xeWCzbZ9i6XHzkCHp361zBlkktwwAmSZKkFvGvp97gqzc+ycKlNcWyMz66BWd+dAs6dLC/l9oHA5gkSZLWqJraxMX/fZ7L7p1aLOvRpSO/OGIEH992vQq2TGp5BjBJkiStMXMXLeOs6ydyz3NvF8sG91+Lyz+7I0MH9qpgy6TKMIBJkiRpjXjx7fc4+apxvDRzQbFsj6Hr8OujdqDPWvb3UvtkAJMkSVKz++/ktzjr+onMX7K8WHbqHkP42n5b0tH+XmrHDGCSJElqNrW1id/c8yKX3DWlWNatcwcuPGw4nxq+QQVbJrUOBjBJkiQ1i/lLlnP29RP5z+S3imUbrt2dy4/bka036F3BlkmthwFMkiRJq23azAWcfNUTvPD2/GLZ6CH9ufSYkfTr0aWCLZNaFwOYJEmSVsu9z7/NGX+fwHuLV/T3+sKHN+Vbn9iKTh07VLBlUutjAJMkSdIqSSnxu/9N5cJ/P09KWVmXTh346ae349MjN6xs46RWygAmSZKkJlu4dDlfu2kS/5z0RrFs/T7d+MNxo9h+w76Va5jUyhnAJEmS1CSvzl7ISVc9wXNvvlcs23lwPy77zEjW6dW1gi2TWj8DmCRJkhrtoRdnctq145mzcFmx7LMf2oTv7L81XTrZ30taGQOYJEmSViqlxJ8enMaP//UstYX+Xh078IODtuGonTeubOOkKmIAkyRJUoMWL6vhW/94ilsmzCiWrdurK787dhSjNlm7gi2Tqo8BTJIkSfWaMWcRp1z9BE/PmFcs22Hjvvz+2FEM7N2tgi2TqpMBTJIkSWU9+tIsvvS38cxasLRYduSOG/GDg7eha6eOFWyZVL0MYJIkSXqflBLXPPIy379tMsvzDl+dOgTnHbgNx+6yMRFR4RZK1csAJkmSpKIly2v43phnuP6JV4tlA3p24befGcXOm/arYMuktsEAJkmSJADemreYU68Zx4RX5hTLthvUhz8cN4oN+navXMOkNsQAJkmSJMa9/C6nXjOOd95bUiz79A6D+PGnt6NbZ/t7Sc3FACZJktQOpZR4aeYCxk6dxdgXZ3L3s2+ztKYWgI4dgnM/OYzP7TbY/l5SMzOASZIktRNvzF3E2Bdn8dDUmYx9cRZvzlv8gW3WXqszlx4zkt02H1CBFkptnwFMkiSpjZqzcCkPT10RuF6auaDB7Ydv2IdLjxnJRv3WaqEWSu2PAUySJKmNWLh0OY9Nm509Vjh1Js+8Po+U6t++V9dO7LJZf3bbvD+7bT6ALdbt6SOH0hpmAJMkSapSS5fXMvHVOYzN73BNePVdltXUn7i6durAjoPXZvSQAey2+QC23aA3nTp2aMEWSzKASZIkVYna2sTkN+YxdupMHnpxFo9Pn83CpTX1bt+xQ7D9hn3YbcgARm/en5Ebr+2IhlKFGcAkSZJaqZQS02Yu4KF8pMKHX5rFnIXLGqyz1Xq9GD1kAKOH9GeXzfrRq1vnFmqtpMYwgEmSJLUib85dzEMvzuShqTN5eOos3pj7wZEKS23cby1GD+nP6M0H8KHN+rNOr64t1FJJq8IAJkmSVEGFkQrH5qMVvvROwyMVDujZldFDsoEzRg8Z4IiFUpUxgEmSJLWghUuX8/j0dxmb3+VypEKpfTGASZIkrUFLl9fy5GtzeOjFxo1U2KVTB3bKRyocPaQ/2w3q40iFUhtiAJMkSWpGTR2psEPA9hv2ze5wDRnAyE0cqVBqywxgkiRJq6F0pMKH84Ez3l3JSIVbDuzF6Dxw7bxZP3o7UqHUbhjAJEmSmujNuYuLd7jGTp250pEKN+rXPZ+Ly5EKpfbOACZJkrQScxYu5ZGXZvHQi40dqbBLsQ/Xbps7UqGkFQxgkiRJdZSOVDh26iyefn1uI0Yq7MfoIQPYbfMBDB3oSIWSyjOASZKkdm9ZTS0TX53D2PwO14RXVj5S4Y6brM1umztSoaSmMYBJkqR2p7Y28eyb84qB67FpjRupsPBI4ShHKpS0igxgkiSpzUspMX3WwmwurkaOVDh0YM/iI4W7OFKhpGZiAJMkSW3SW/MW89CL2UiFD0+dyesrGalww7ULIxX2Z/SQAY5UKGmNMIBJkqQ2Ye7CZTz8UjZoxkMvzmRqI0Yq/NCQAew2JAtcG/d3pEJJa54BTJIkVaVFS2t4fPpsHpo6k7Evrnykwp5dO7HrZv2y0LV5f7Yc2MuRCiW1OAOYJEmqCstqanny1TnFubgaM1LhqI3XZrfN+zN68wFs70iFkloBA5gkSWqVSkcqHJuPVLhgJSMVbrdhX3ZzpEJJrZgBTJIktQqFkQrH5o8UPvzSLGYvWNpgndKRCnfetB99ujtSoaTWrWoDWET8DNgRGAoMABYBLwNjgEtTSrNKth0MTGtgd9enlI6q5zjHA6cBWwM1wATgopTS7fVs3x34JnAUsAkwD7gPOC+l9GyjT1CSpHbgrXmLGTs1G6lw7ItNG6nwQ0P6s26vbi3UUklqHlUbwICzgPHAf4G3gR7ArsD5wMkRsWtK6dU6dZ4kC2h1PV3uABFxEXAO8BpwBdCFLFjdFhGnp5QurbN917w9uwFPAL8CNgIOB/aPiL1TSo82+UwlSWpDxr08m1snvt6okQr79+jCh/JHCndzpEJJbUA1B7DeKaUP/JosIi4Avg18C/hSndUTU0rnN2bnETGaLHxNBXZKKb2bl18IjAMuiojbU0rTS6qdTRa+bgKOTCnV5nWuJwt+f46I7QrlkiS1JwuXLuendzzHVQ+/XO82Pbt2YpdN+zF682ykwqHr9qJDB0cqlNR2VG0AKxe+cjeQBbAtVvMQp+bLCwrhKz/u9Ii4DPgu8DngPIDIxrEt1Pl6achKKd0aEQ8AHwH2AO5dzbZJklRVJrzyLmff8CTTZr7/jleXjh0YtUk2UuGHhgxg+IaOVCipbavaANaAT+XLSWXWbRARpwD9gVnAwymlctsB7J0v7yyz7g6yALY3eQADhgAbA1NSSuX6m91BFsD2xgAmSWonli6v5Tf3vMBl975IbcmI8fsMW5cTRm/KjoMdqVBS+1L1ASwivgr0BPqQDcrxYbLw9dMym++bv0rr3wccn1J6paSsBzAImJ9SeqPMfl7Il0NLyrbMl1PqaWq5OpIktVlT3nqPs2+YyNMz5hXLenbtxPc+tTWHj9rQSZAltUtVH8CArwIDS97fCZyQUnqnpGwh8EOyflgv5WXbkw3YsRdwd0SMSCkVnovoky/n1nPMQnnfkrJVqVNWRIyrZ9VWK6srSVKl1dYm/vzQNH7+7+dZunxFt+ddNu3HRYcPZ6N+DqQhqf2q+gCWUloPICIGAqPJ7nxNiIgDUkrj823eBr5Xp+r9EfEx4EFgF+BEslELm3T4Jmxb+DVfU+pIklRVXp29kK/e+CSPTptdLOvSqQNf329LPr/bpg6oIandq/oAVpBSegu4JSLGkz0GeBWw7UrqLI+IP5IFsN1ZEcAKd6v6lK1Y/m7Xyur0LlOnvnaNKlee3xkbubL6kiS1tJQSN457jR/cNpn5S5YXy7fZoDeXHDmCoQN7VbB1ktR6tJkAVpBSejkiJgMjImJASmnmSqoUHlXsUbKPBRExAxgUEeuX6QdWGGGxtL/X8/myvj5e5epIklT1Zs5fwrf+8RT/nfxWsaxDwGl7bc7pe29Bl06OaihJBW0ugOU2yJc1jdh213z5Up3ye4DjgI8Df6mz7hMl2xRMBV4BhkbEpmVGQixXR5KkqvbvZ97k2/94ilkLlhbLNh3Qg18cMZyRG69dwZZJUutUlb+SioitImK9MuUd8omY1wXGlkyevEtEdCmz/d7AWfnba+qs/n2+PDci1i6pMxg4DVhCSTBLKaWSOj+PiA4ldQ4iG4J+MvC/JpyqJEmt0rzFyzjnhic55epx7wtfn/3QJvzzjA8bviSpHtV6B+zjwIURcT/ZnadZZCMh7gFsBrwJnFSy/c+AbfIh51/Ly7ZnxVxf300pjS09QEppbERcDJwNTIqIm4AuwJFAP+D0lNL0Ou26GDgAOAx4NCLuJpsb7HCykRg/XzpBsyRJ1Wjs1Jl87cZJzJizqFi2Xu9u/Pyw7dl96DoVbJkktX7VGsDuAi4HdgOGkw3tvoCsf9XVwK9TSrNLtr8aOATYiexRwM7AW8ANwKUppQfKHSSldE5ETAK+DJwM1ALjgQtTSreX2X5JROwDfBM4huzu2jyy4e/PSylNXq2zliSpghYvq+HCfz/Pnx58/1P2B43YgB8cuC191upcoZZJUvWoygCWUnqa7DHAxm7/J+BPq3isvwJ/bcL2i4Dz8pckSW3CU6/N5awbJvLi2/OLZX3X6syPDt6WA7bfoIGakqRSVRnAJElSy1heU8tv75vKr+9+geW1K6ay3HPLdfjZodszsHe3CrZOkqqPAUySJJU19Z35nH3Dkzz56pxi2VpdOvKd/bfm6J03IsJJlSWpqQxgkiTpfWprE1c/8jI/ueNZFi9bMXbUqE3W5uIjhrNJ/x4N1JYkNcQAJkmSil6fs4iv3zSJB1+cWSzr3DE4e98tOXn3zejYwbtekrQ6DGCSJImUErdOfJ3v3vo07y1eXizfar1eXHzECLbeoHcFWydJbYcBTJKkdm72gqV8Z8xT/OupN4tlEXDK7kM4a98t6NqpYwVbJ0ltiwFMkqR27J7n3uIbNz/FO+8tKZZt1K87Fx8xgp0G96tgyySpbTKASZLUDs1fspwL/jmZvz/26vvKj955Y87dfxg9u/oVQZLWBP91lSSpnXl8+mzOvmEir85eVCwb0LMrPz9sO/beamAFWyZJbZ8BTJKkdmLJ8hou/u8ULr//JdKKOZX55Hbr8aODt6Nfjy6Va5wktRMGMEmS2oHJr8/j7Bsm8tyb7xXLenfrxA8P3pYDh2/gpMqS1EIMYJIktWE1tYk/3D+VS/47hWU1K257fXjzAVx4+Pas36d7BVsnSe2PAUySpDbq5VkLOPuGJxn38rvFsm6dO/CtTwzjuF03oYOTKktSizOASZLUxqSUuPaxV7jgn8+ycGlNsXz4Rn25+IjhDFmnZwVbJ0ntmwFMkqQ25O15i/n6zZO47/l3imWdOgRnfHQLvrTnEDp17FDB1kmSDGCSJLURt096ne+MeZo5C5cVyzZftyeXHDGC7TbsU8GWSZIKDGCSJFW5uQuX8d1bn+b/nnz9feVf+PCmfG2/LenWuWOFWiZJqssAJklSFbt/yjt8/aZJvDlvcbFsUN/uXHj49oweMqCCLZMklWMAkySpCi1cupyf/Os5rn7k5feVHzZqQ773qa3p3a1zhVomSWqIAUySpCoz/pV3OeeGJ5k2c0GxrH+PLvz409ux3zbrVbBlkqSVMYBJklQlli6v5Tf3vMBl975I7Yo5ldl364H85NPbMaBn18o1TpLUKAYwSZKqwJS33uOs6yfyzOvzimU9u3bivE9tzWGjNiTCSZUlqRoYwCRJasVqaxN/enAaF/7neZYury2W77pZPy46fDgbrr1WBVsnSWoqA5gkSa3Uq7MX8tUbn+TRabOLZV06deDr+23J53fblA4dvOslSdXGACZJUiuTUuLGca/xg9smM3/J8mL5toN6c8kRI9hiYK8Ktk6StDoMYJIktSLvvLeEb/3jKe569q1iWccOwWl7DuHLe29Bl04dKtg6SdLqMoBJktRK3Pn0m5x7y1PMWrC0WLbpgB5cfMRwdth47Qq2TJLUXAxgkiRV2LzFy/j+/03m5vGvva/8+A9twjc/MYzuXTpWqGWSpOZmAJMkqYLGTp3J126cxIw5i4pl6/XuxoWHb89Htlingi2TJK0JBjBJkipg8bIafn7n8/z5oWnvKz94xAZ8/8Bt6bNW5wq1TJK0JhnAJElqYU+9NpezbpjIi2/PL5b1XaszFxy8Hftvv34FWyZJWtMMYJIktZBlNbX89t6p/OaeF1hem4rle225Dj87dHvW7d2tgq2TJLUEA5gkSS1g6jvzOfv6iTz52txi2VpdOvLdA7bmqJ02IsJJlSWpPTCASZK0BtXWJq56eDo/ueM5liyvLZbvuMna/OKI4WzSv0cFWydJamkGMEmS1pDX5yzi6zdN4sEXZxbLOncMzt53S07efTM6dvCulyS1NwYwSZKaWUqJMRNn8L1bn+G9xcuL5Vut14tLjhzBsPV7V7B1kqRKMoBJktSMZi9Yyrm3PMUdT79ZLIuAU3Yfwln7bkHXTk6qLEntmQFMkqRmcvezb/GNm59i5vwlxbKN+63FL44Yzk6D+1WwZZKk1sIAJknSapq/ZDk/un0y1z3+6vvKj9llY8795DB6dPW/W0lSxv8RJElaDY9Nm805N07k1dmLimXr9OrKzw/dnr22WreCLZMktUYGMEmSVsGS5TVc/J8pXP7AS6QVcyqz/3br86ODt2XtHl0q1zhJUqtlAJMkqYkmvz6Ps66fyPNvvVcs692tEz88eFsOHL6BkypLkuplAJMkqZFqahN/uH8ql/x3CstqVtz2+sgWA/j5Yduzfp/uFWydJKkaGMAkSWqE6TMXcM6NTzLu5XeLZd06d+DbnxzGsbtsQgcnVZYkNYIBTJKkBqSU+Nujr3DBP59l0bKaYvmIjfpy8RHD2WydnhVsnSSp2hjAJEmqx1vzFvP1mybxvynvFMs6dQi+8tEt+OKeQ+jUsUMFWydJqkYGMEmSyrjtydf5zpinmbtoWbFsi3V7csmRI9h2UJ8KtkySVM0MYJIklZizcCnfu/UZ/u/J14tlEfCF3Tblq/ttSbfOHSvYOklStavaZyci4mcRcXdEvBoRiyJidkRMiIjzIqJ/PXVGR8S/8m0XRsSkiDgzIur93zQijo+IxyJifkTMjYj7IuKABrbvHhHfj4jnI2JxRLwdETdExLDmOG9J0ppz/5R32O+X978vfA3q251rT9yV7xywteFLkrTaqvkO2FnAeOC/wNtAD2BX4Hzg5IjYNaX0amHjiDgIuBlYDFwPzAY+BVwC7AYcXvcAEXERcA7wGnAF0AU4CrgtIk5PKV1aZ/uueXt2A54AfgVslO97/4jYO6X0aDOdvySpmSxcupyf/Os5rn7k5feVHz5qQ773qa3p1a1zhVomSWprqjmA9U4pLa5bGBEXAN8GvgV8KS/rTRagaoA9U0pP5OXfBe4BDouIo1JK15XsZzRZ+JoK7JRSejcvvxAYB1wUEbenlKaXHP5ssvB1E3BkSqk2r3M9MAb4c0RsVyiXJFXe+Ffe5ezrJzJ91sJiWf8eXfjJp7fjY9usV8GWSZLaoqp9BLFc+MrdkC+3KCk7DFgHuK4Qvkr28Z387Rfr7OfUfHlBIXzldaYDlwFdgc8VyiMiSup8vTRkpZRuBR4Atgb2WNm5SZLWvKXLa7no389z2O/Gvi987bv1QP591u6GL0nSGlG1AawBn8qXk0rK9s6Xd5bZ/n5gITA6f4SwMXXuqLMNwBBgY2BKSmlaI+tIkipgylvvcchvH+LSe1+kNmVlPbt24qLDh3P5caMY0LNrwzuQJGkVVfMjiABExFeBnkAfYEfgw2Th66clm22ZL6fUrZ9SWh4R04BtgM2AZyOiBzAImJ9SeqPMYV/Il0Mbc4wG6pQVEePqWbXVyupKkupXU5v484PTuPA/z7N0+YqnwXfdrB8XHT6cDddeq4KtkyS1B1UfwICvAgNL3t8JnJBSeqekrDBhy9x69lEo77uK269qHUlSC3l19kLOufFJHps2u1jWpVMHvvHxrfjc6MF06BAVbJ0kqb2o+gCWUloPICIGAqPJ7nxNiIgDUkrjG7mbwv+6qamHb8K2jT5GSmlU2R1kd8ZGNuGYktTupZS48YnX+P5tz7BgaU2xfNtBvbnkiBFsMbBXBVsnSWpvqj6AFaSU3gJuiYjxZI8BXgVsm68u3H3qU64u0LvOdivbvtzdrqYeQ5K0hs2av4Rv3PwUdz37VrGsY4fgtD2HcPpHt6Bzx7bYFVqS1Jq1mQBWkFJ6OSImAyMiYkBKaSbwPFn/sKFkQ8gXRUQnYFNgOfBSvo8FETEDGBQR65fpB1YYYbG0v9fz+bK+Pl7l6kiS1pCnZ8zllKvHMWPOomLZZgN68IsjhrPDxmtXsGWSpPasrf7qb4N8WXjW5J58+fEy2+4OrAWMTSktKSlvqM4n6mwD2XxhrwBDI2LTRtaRJK0Bt0x4jUN/N/Z94euE0YP55xkfMXxJkiqqKgNYRGwVER+YoCUiOuQTMa9LFqgK83fdBMwEjoqIHUu27wb8KH/7uzq7+32+PDci1i6pMxg4DVgC/KVQnlJKJXV+HhEdSuocBHwEmAz8r2lnK0lqrOU1tfzgtsmcdf2TLMlHOezVtRN/On5Hzj9wG7p36VjhFkqS2rtqfQTx48CFEXE/2Z2nWWQjIe5BNpT8m8BJhY1TSvMi4iSyIHZfRFwHzAYOJBs+/ibg+tIDpJTGRsTFwNnApIi4CegCHAn0A07PJ2UudTFwANnEz49GxN1kc4MdTjbX2OdLJ2iWJDWfWfOXcNq143nkpRWjHG6+bk8uP24Um63Ts4ItkyRphWoNYHcBlwO7AcPJhnZfQNa/6mrg1yml2aUVUkpjImIP4FzgUKAb8CJZwPp1fgeLOnXOiYhJwJeBk4FaYDxwYUrp9jLbL4mIfYBvAscAZwHzgDHAeSmlyat95pKkDyjX32u/bQbyiyNG0LNrtf5XJ0lqi6ryf6WU0tNkjwE2td5DwCebWOevwF+bsP0i4Lz8JUlaw26Z8BrfvPmp4iOHEXD2PkM5ba/NndtLktTqVGUAkyRpeU0tP/7Xc/z5oWnFsl5dO/Gro0ew91YDK9gySZLqZwCTJFUd+3tJkqqVAUySVFXs7yVJqmb+TyVJqhr295IkVTsDmCSp1bO/lySprTCASZJaNft7SZLaEgOYJKnVsr+XJKmt8X8vSVKrZH8vSVJbZACTJLUq9fX3+uVRI/joMPt7SZKqmwFMktRq2N9LktTWGcAkSa1Cuf5eH9t6IL84Yji9unWuYMskSWo+BjBJUsWV6+911j5D+bL9vSRJbYwBTJJUMctravnJHc/xpwft7yVJah8MYJKkipg1fwlfvnYCD780q1hmfy9JUltnAJMktTj7e0mS2isDmCSpRY2ZMINv3DzJ/l6SpHbJACZJahH295IkyQAmSWoB9veSJCljAJMkrVH295IkaQUDmCRpjbG/lyRJ72cAkyQ1O/t7SZJUngFMktSs7O8lSVL9DGCSpGZjfy9JkhpmAJMkNYu6/b0Azt7X/l6SJJUygEmSVov9vSRJajwDmCRplZXr7zVknR5c/tkdGWJ/L0mSPsAAJklaJeX6e+279UAutr+XJEn1MoBJkpqsXH+vs/YZyul7299LkqSGGMAkSY1mfy9JklaPAUyS1CizFyzly9eOZ+xU+3tJkrSqDGCSpJWyv5ckSc3DACZJatCtE7P+XouX2d9LkqTVZQCTJJVlfy9JkpqfAUyS9AH295Ikac0wgEmS3sf+XpIkrTkGMElSkf29JElaswxgkiT7e0mS1EIMYJLUztnfS5KklmMAk6R2zP5ekiS1LAOYJLVT9veSJKnlGcAkqZ2pr7/XJUeOYJ+t7e8lSdKaZACTpHbE/l6SJFWWAUyS2oly/b32GTaQS460v5ckSS3FACZJ7YD9vSRJah0MYJLUhtnfS5Kk1sUAJkltlP29JElqfQxgktQG2d9LkqTWyQAmSW2M/b0kSWq9OlS6AU0VEf0j4sSIuCUiXoyIRRExNyIejIgvRESHOtsPjojUwOu6Bo51fEQ8FhHz82PcFxEHNLB994j4fkQ8HxGLI+LtiLghIoY152cgSeUsr6nlR7dP5ivXTSyGr15dO/HHz+7IV/bZwvAlSVIrUI13wA4Hfge8AdwLvAIMBD4N/BH4REQcnlJKdeo9CYwps7+nyx0kIi4CzgFeA64AugBHAbdFxOkppUvrbN8V+C+wG/AE8Ctgo7y9+0fE3imlR5t8tpLUCLMXLOX0v4/noRft7yVJUmtWjQFsCnAg8M+UUvH5moj4NvAYcChZGLu5Tr2JKaXzG3OAiBhNFr6mAjullN7Nyy8ExgEXRcTtKaXpJdXOJgtfNwFHFtoWEdeTBb8/R8R2pW2WpObwzOtzOfkq+3tJklQNqu4RxJTSPSml2+oGmZTSm8Dv87d7ruZhTs2XFxTCV36M6cBlQFfgc4XyiIiSOl8vbVtK6VbgAWBrYI/VbJckvc+tE2dw6O/Gvi98nbXPUC4/bpThS5KkVqjqAthKLMuXy8us2yAiTomIb+fL7RvYz9758s4y6+6osw3AEGBjYEpKadoHq5StI0mrzP5ekiRVp2p8BLGsiOgEfDZ/Wy447Zu/SuvcBxyfUnqlpKwHMAiYn1J6o8x+XsiXQ0vKtsyXU+ppXrk69YqIcfWs2qox9SW1bfb3kiSperWlO2A/BbYF/pVS+ndJ+ULgh8AoYO38tQfZAB57AnfnoaugT76cW89xCuV9V7OOJDXZM6/P5VO/efB94WufYQMZc9puhi9JkqpAm7gDFhFnkA2a8RxwXOm6lNLbwPfqVLk/Ij4GPAjsApxINmphU9QdZbHBJjalTkppVNmdZHfGRjbhuJLakHLze525zxacsbePHEqSVC2q/g5YRJxGFp4mA3ullGY3pl5KaTnZsPUAu5esKtyt6kN55e52raxO7zJ1JKlRyvX36tm1E1d8dkfO3Geo4UuSpCpS1XfAIuJM4BKyubw+mt/taop38mXxEcSU0oKImAEMioj1y/QD2yJflvb3ej5f1tfHq1wdSVqpcv29NlunB5cftyObr+sjh5IkVZuqvQMWEd8gC18Tye58NTV8AeyaL1+qU35Pvvx4mTqfqLMNZPOFvQIMjYhNG1lHkhrUUH8vw5ckSdWpKgNYRHyXbNCNcWR3vmY2sO0uEdGlTPnewFn522vqrC7MJ3ZuRKxdUmcwcBqwBPhLoTyllErq/DwiOpTUOQj4CNkjkv9rzPlJUrn5vc7cZwsuP24UvZ3fS5KkqlV1jyBGxPHAD4AasgmOz8jmQX6f6SmlK/M//wzYJh9y/rW8bHtWzMn13ZTS2NLKKaWxEXExcDYwKSJuAroARwL9gNPzSZlLXQwcABwGPBoRd5PNDXY42UiMn687ebQk1bW8ppaf3vEcf3xwxZSCPbt24pIjR7Dv1gMr2DJJktQcqi6AAYVH/DoCZ9azzf+AK/M/Xw0cAuxE9ihgZ+At4Abg0pTSA+V2kFI6JyImAV8GTgZqgfHAhSml28tsvyQi9gG+CRxDdndtHjAGOC+lNLkpJymp/bG/lyRJbV9kT8+pGkTEuJEjR44cN66+eZolVatnXp/LyVeNe98jh/sMG8jFRw73kUNJUosbNWoU48ePH1/f9EhaddV4B0yS2hTn95Ikqf0wgElShdjfS5Kk9scAJkkVYH8vSZLaJwOYJLWwZ16fyylXj+O1d+3vJUlSe2MAk6QWZH8vSZLaNwOYJLWA5TW1/OzO57jiAft7SZLUnhnAJGkNe3fBUr5sfy9JkoQBTJLWqPL9vdbl4iNH2N9LkqR2yAAmSWtIuf5eX/noFnzlo/b3kiSpvTKASVIzq6+/18VHDOdj26xXwZZJkqRKM4BJUjOyv5ckSWqIAUySmon9vSRJ0soYwCSpGTw2bTaf+8tjLFhaUyyzv5ckSarLACZJq2ns1Jl84conWLQsC1/295IkSfUxgEnSanjwhZmceNXjxZEOB/TsyrUn7cLQgb0q3DJJktQaGcAkaRX9b8o7nHzVEyxZnoWvgb27cu1JuzJkHQfbkCRJ5RnAJGkV3PPcW5x69XiW1mTha/0+3fj7SbsyeECPCrdMkiS1ZgYwSWqi/zzzJqddO55lNQmAQX278/eTdmXj/mtVuGWSJKm1M4BJUhPc+fQbfPnaCSyvzcLXRv26c+2Ju7JRP8OXJElaOQOYJDXS7ZNe5yvXTaQmD1+b9F+Lv5+0Kxv07V7hlkmSpGphAJOkRrh14gzOun4iefZi0wE9+PtJu7Jen26VbZgkSaoqBjBJWombx73G1256shi+hqyTha91exu+JElS0xjAJKkBNzz+Kt/4xyRSHr6GDuzJ307clXV6da1swyRJUlUygElSPa599BW+fctTxfdbrdeLv524C/17Gr4kSdKqMYBJUhlXPTyd7936TPH91uv35m8n7sLaPbpUsFWSJKnaGcAkqY4/PziNH9w+ufh+u0F9uPoLO9N3LcOXJElaPQYwSSpxxf0vccG/ni2+H7FRX/76+Z3p071zBVslSZLaCgOYJOV+e9+L/PzO54vvR22yNld+bid6dTN8SZKk5mEAkyTgN3e/wC/+O6X4fufB/fjz53aiZ1f/mZQkSc3HbxaS2rWUEr+86wV+dfcLxbJdN+vHn0/YibW6+E+kJElqXn67kNRupZS46D/Pc9m9U4tlH958AFd8dke6d+lYwZZJkqS2ygAmqV1KKfHTO57jD/e/VCzbfeg6XH7cKLp1NnxJkqQ1wwAmqd1JKfGjfz7Lnx6cVizbe6t1+e1nRhq+JEnSGmUAk9SupJT4/m2TuXLs9GLZvlsP5NJjdqBrJ8OXJElaswxgktqN2trEd299mr89+kqx7OPbrMevj96BLp06VLBlkiSpvTCASWoXamsT377lKa57/NVi2f7br88vjxxB546GL0mS1DIMYJLavJraxDdunsRN414rlh00YgN+cfhwOhm+JElSCzKASWrTltfU8rWbJnHLhBnFsk+PHMSFhw2nY4eoYMskSVJ7ZACT1GYtr6nlrBue5LYnXy+WHbHjhvzk09sbviRJUkUYwCS1SctqavnKdRP411NvFsuO3nljLjh4WzoYviRJUoUYwCS1OUuX13L638fz72feKpYdt+smfP/AbQxfkiSpogxgktqUJctrOO1v47nr2beLZZ/bbTDfO2BrIgxfkiSpsgxgktqMxctqOPWacdz3/DvFspM+sinf/uQww5ckSWoVDGCS2oTFy2o46aoneOCFmcWyL+45hK/vt6XhS5IktRoGMElVb+HS5Zz41ycYO3VWseyMvTfnrH2HGr4kSVKrYgCTVNUWLFnO5698nEenzS6WnbXPUL6yzxYVbJUkSVJ5BjBJVWv+kuV87i+P8fj0d4tlX9tvS07ba/MKtkqSJKl+HSrdgKaKiP4RcWJE3BIRL0bEooiYGxEPRsQXIqLsOUXE6Ij4V0TMjoiFETEpIs6MiI4NHOv4iHgsIubnx7gvIg5oYPvuEfH9iHg+IhZHxNsRcUNEDGuOc5e0wrzFyzjuT4++L3x96xNbGb4kSVKrVnUBDDgcuALYBXgU+CVwM7At8EfghqjT6SMiDgLuB3YHbgEuA7oAlwDXlTtIRFwEXAmsnx/vGmA74LaI+HKZ7bsC/wW+B8wDfgXcBRwCPBERu6z6KUsqNXfhMo7746NMeGVOsew7+w/jlD2GVK5RkiRJjVCNjyBOAQ4E/plSqi0URsS3gceAQ4FPk4UyIqI3WYCqAfZMKT2Rl38XuAc4LCKOSildV7Kv0cA5wFRgp5TSu3n5hcA44KKIuD2lNL2kXWcDuwE3AUcW2hYR1wNjgD9HxHalbZbUdHMWLuXYPz3K0zPmFcu+f+A2HD96cOUaJUmS1EhVdwcspXRPSum2ukEmpfQm8Pv87Z4lqw4D1gGuK4SvfPvFwHfyt1+sc5hT8+UFhfCV15lOdvesK/C5Qnl+x61Q5+ulbUsp3Qo8AGwN7NHoE5X0AbMXLOXoK94fvn508LaGL0mSVDWqLoCtxLJ8ubykbO98eWeZ7e8HFgKj80cIG1PnjjrbAAwBNgampJSmNbKOpCaYOX8Jx1zxCM++kYWvCPjpp7fj2F03qXDLJEmSGq/NBLCI6AR8Nn9bGpy2zJdT6tZJKS0HppE9irlZvp8ewCBgfkrpjTKHeiFfDm3MMRqoI6mR3n5vMUdf/gjPvfkekIWvCw8bzlE7b1zhlkmSJDVNNfYBq89PyQbi+FdK6d8l5X3y5dx66hXK+67i9qtap14RMa6eVVs1pr7Ulrw1bzFHX/EIL72zAIAOAb84YjiH7LBhhVsmSZLUdG0igEXEGWSDZjwHHNfU6vkyNbFeU7Zf1WNI7dobcxdxzBWPMm1mFr46dgguOXIEBw7foMItkyRJWjVVH8Ai4jSyId8nAx9NKc2us0nh7lMfyutdZ7uVbV/ubldTj9GglNKocuX5nbGRjdmHVO1ee3chx1zxKK/MXghApw7Br4/egU9ut36FWyZJkrTqqroPWEScCVwKPA3slY+EWNfz+fID/a/yfmObkg3a8RJASmkBMAPoGRHlvultkS9L+3vVe4wG6kiqx6uzF3LkHx4phq/OHYPLPjPS8CVJkqpe1QawiPgG2UTKE8nC19v1bHpPvvx4mXW7A2sBY1NKSxpZ5xN1toFsvrBXgKERsWkj60gq4+VZCzjyDw8zY84iALp07MDvPjOK/bZZr8ItkyRJWn1VGcDySZR/SjYp8kdTSjMb2PwmYCZwVETsWLKPbsCP8re/q1OnMJ/YuRGxdkmdwcBpwBLgL4XylFIqqfPziOhQUucg4CNkj0j+r5GnKLVLL70znyP/8Aivz10MQJdOHfjDZ0exz9YDK9wySZKk5lF1fcAi4njgB0AN2QTHZ2TzIL/P9JTSlQAppXkRcRJZELsvIq4DZgMHkg0ffxNwfWnllNLYiLgYOBuYFBE3AV2AI4F+wOn5pMylLgYOIJv4+dGIuJtsbrDDyeYa+3zdyaMlrfDi2/M55opHePu97GZ0104duOKzO7L70HUq3DJJkqTmU3UBjKzPFkBH4Mx6tvkfcGXhTUppTETsAZwLHAp0A14kC1i/zu9gvU9K6ZyImAR8GTgZqAXGAxemlG4vs/2SiNgH+CZwDHAWMA8YA5yXUprc1BOV2ospb73HMVc8ysz5Wfjq1rkDfz5+J0ZvPqDCLZMkSWpeUSZ7qJWKiHEjR44cOW5cfdOESdXn2TfmcewfH2XWgqUArNWlI38+YSd23ax/hVsmSVL7NWrUKMaPHz++vtG5teqq8Q6YpDbimdfncuwfH+XdhcsA6NGlI1d+fmd2Gtyvwi2TJElaMwxgkiriqdfmcuyfHmXuoix89eraiSs/vzOjNll7JTUlSZKqlwFMUoub+OocjvvTo7y3eDkAvbt14qov7MKIjfpWtmGSJElrmAFMUosa9/K7nPDnx3hvSRa++nTvzN9O3IVtB/WpcMskSZLWPAOYpBbz+PTZnPDnx1iwtAaAtdfqzN9O3JWtN+hd4ZZJkiS1DAOYpBbxyEuz+PyVj7MwD1/9e3ThbyftwlbrGb4kSVL7YQCTtMY99OJMvvDXx1m8LJuLfEDPrvz9pF3YYmCvCrdMkiSpZRnAJK1R9095h5OueoIly7PwtW6vrlx70q5svm7PCrdMkiSp5RnAJK0x9z73NqdcM46lefhar3c3/n7yrmw6oEeFWyZJklQZBjBJa8Rdk9/iS38bz9KaLHwN6tuda0/ahU36G74kSVL7ZQCT1OzufPpNvnzteJbXJgA2XLs7fz9pVzbqt1aFWyZJklRZBjBJzeqfk97gjOsmUJOHr036r8W1J+3KoL7dK9wySZKkyjOASWo2//fk65x1/cRi+Np0QA+uPWkX1u9j+JIkSQIDmKRmcsuE1zjnhifJsxdD1unBtSftysDe3SrbMEmSpFbEACZptd34xKt8/eZJpDx8bbFuT649aVfW6dW1sg2TJElqZQxgklbLdY+9wrdueaoYvrZarxd/O3EX+vc0fEmSJNVlAJO0yq5+5GW+O+bp4vut1+/NNSfuQr8eXSrYKkmSpNbLACZplVz50DTOv21y8f12g/pw9Rd2pu9ahi9JkqT6GMAkNdkfH3iJH/3z2eL74Rv15arP70yf7p0r2CpJkqTWzwAmqUl+/7+p/PSO54rvR27clys/vzO9uxm+JEmSVsYAJqnRLr3nBS76z5Ti+50Gr81fPrczPbv6T4kkSVJj+K1JUqP88q4p/PKuF4rvd92sH386fid6GL4kSZIazW9OkhqUUuLi/07hN/e8WCzbbfP+/PGzO9G9S8cKtkySJKn6GMAk1SulxM/ufJ7f/29qsewjWwzgis/uSLfOhi9JkqSmMoBJKiulxAX/fJY/PjitWLbXluvwu2NHGb4kSZJWkQFM0geklPj+bZO5cuz0Ytk+wwZy2Wd2oGsnw5ckSdKqMoBJep/a2sR5//cMVz/ycrFsv20G8pujR9KlU4cKtkySJKn6GcAkFdXWJs4d8xR/f+zVYtn+263PL48aQeeOhi9JkqTVZQCTBEBNbeKbN0/ixnGvFcsOHL4BFx8xnE6GL0mSpGZhAJNETW3iazc+yT8mzCiWfXqHQVx4+HA6dogKtkySJKltMYBJ7dzymlrOvuFJ/u/J14tlh4/akJ8eur3hS5IkqZkZwKR2bFlNLWdeN5F/PvVGsezonTfigoO3o4PhS5IkqdkZwKR2aunyWs74+wTufObNYtmxu27MDw7c1vAlSZK0hhjApHZoyfIaTvvbBO569q1i2QmjB3Pep7YmwvAlSZK0phjApHZm8bIavnjNOO59/p1i2Ykf3pRz9x9m+JIkSVrDDGBSO7J4WQ0nXz2O+6esCF+n7jGEb3x8S8OXJElSCzCASe3EoqU1nHTVEzz44sxi2el7b87Z+w41fEmSJLUQA5jUDixYspwv/PVxHnlpdrHszH224Mx9hlawVZIkSe2PAUxq4+YvWc7n//I4j01fEb6++rGhfHnvLSrYKkmSpPbJACa1Ye8tXsYJf3mccS+/Wyz75ie24tQ9hlSwVZIkSe2XAUxqo+YuWsZn//wYT746p1j2nf2HceJHNqtcoyRJkto5A5jUBs1ZuJTj/vQYT82YWyw7/1Nbc8Jum1awVZIkSTKASW3MuwuW8pk/PsrkN+YVy3548LYct+smFWyVJEmSwAAmtSmz5i/hM398lOfefA+ACPjxIdtx9M4bV7hlkiRJAgOY1Ga8894SPvPHR5jy1nwgC18/O3R7jthxowq3TJIkSQUGMKkNeHveYo6+4hGmvrMAgA4BFx0+nE+P3LDCLZMkSVIpA5hU5d6cu5hjrniEl2Zm4atjh+DiI4Zz0IhBFW6ZJEmS6jKASVVsxpxFHHPFI7w8ayEAnToEvzpqB/bffv0Kt0ySJEnldKh0A1ZFRBwWEb+JiAciYl5EpIi4pp5tB+fr63td18Bxjo+IxyJifkTMjYj7IuKABrbvHhHfj4jnI2JxRLwdETdExLDmOG+p1KuzF3LkHx5+X/i69JiRhi9JkqRWrFrvgH0HGA7MB14DtmpEnSeBMWXKny63cURcBJyT7/8KoAtwFHBbRJyeUrq0zvZdgf8CuwFPAL8CNgIOB/aPiL1TSo82op1Sg95bvIw7n36TX971AjPmLAKgc8fgt58Zxb5bD6xw6yRJktSQag1gZ5EFoxeBPYB7G1FnYkrp/MbsPCJGk4WvqcBOKaV38/ILgXHARRFxe0ppekm1s8nC103AkSml2rzO9WTB788RsV2hXGqKZTW1PPDCO/xj/Az+O/ktlixf8deoS6cO/OHYUey11boVbKEkSZIaoyoDWEqpGLgiYk0c4tR8eUEhfOXHnR4RlwHfBT4HnJe3IUrqfL00ZKWUbo2IB4CP0PiwKJFSYuKrcxgzYQa3TXqD2QuWfmCbtbp05HfHjmKPoetUoIWSJElqqqoMYKtog4g4BegPzAIeTilNqmfbvfPlnWXW3UEWwPYmD2DAEGBjYEpKaVo9dT6S1zGAqUHTZy5gzMQZjJkwg+l5/666hq3fm0N22ICDRwxi3d7dWriFkiRJWlXtKYDtm7+KIuI+4PiU0islZT2AQcD8lNIbZfbzQr4cWlK2Zb6cUs+xy9WpV0SMq2dVY/q6qQrNXrCUf056nX9MmMGEV+aU3Wa93t04aIcNOGSHQWy1Xu+WbaAkSZKaRXsIYAuBH5L1w3opL9seOB/YC7g7IkaklBbk6/rky7n17K9Q3rekbFXqqJ1bvKyGu559izETZnDf8++wvDZ9YJteXTvxie3W4+AdBrHrpv3p0GGNPHIrSZKkFtLmA1hK6W3ge3WK74+IjwEPArsAJ5KNWtikXTdh28K35kbVSSmNKruT7M7YyCYcV61MTW3i0ZdmccuEGdzx9JvMX7L8A9t06hDsueW6HLLDID46bF26de5YgZZKkiRpTWjzAaw+KaXlEfFHsgC2OysCWOFuVZ+yFcvf7VpZnd51tlM789yb87hl/Axunfg6b85bXHabkRv35ZAdBrH/9hvQr0eXFm6hJEmSWkK7DWC5d/Jlj0JBSmlBRMwABkXE+mX6gW2RL0v7ez2fL+vr41Wujtq4N+Yu4v8mvs4tE2bw3Jvvld1m0wE9OHjEIA7eYQM26d+j7DaSJElqO9p7ANs1X75Up/we4Djg48Bf6qz7RMk2BVOBV4ChEbFpmZEQy9VRG/Te4mXc8fSbjJkwg4dfmkUq89Bp/x5d+NTwDTh4h0EM37DPmppKQZIkSa1Qmw9gEbELMCGltLRO+d5kEzoDXFOn2u/JAti5ETGmZCLmwcBpwBJKgllKKUXE74EfAz+PiNKJmA8iG4J+MvC/Zj49tQLLamq5f8o73DLhg5MkF3Tt1IGPbbMen95hEB/eYgCdO3aoQEslSZJUaVUZwCLiYODg/O16+fJDEXFl/ueZKaWv5n/+GbBNPuT8a3nZ9qyY6+u7KaWxpftPKY2NiIuBs4FJEXET0AU4EugHnJ5Sml6nWRcDBwCHAY9GxN1kc4MdTjYS4+dLJ2hWdUspMaEwSfKTr/PuwmUf2CYCdhsygIN3GMR+2wykV7fOFWipJEmSWpOqDGDACOD4OmWb5S+Al4FCALsaOATYiexRwM7AW8ANwKUppQfKHSCldE5ETAK+DJwM1ALjgQtTSreX2X5JROwDfBM4huzu2jyy4e/PSylNXpUTVesybeYCxkyYwZiJM3i5nkmSt16/N4fsMIhPDd+A9fo4SbIkSZJWiFSuk4papYgYN3LkyJHjxtU3T7PWhFnzl3D7pDe4ZcIMJr46p+w26/fpxkEjBnHIDoPYcr1eLdtASZKkZjZq1CjGjx8/vr7pkbTqqvUOmLRGLV5Ww38nZ5Mk/29K/ZMkf3K79Tl4h0Hssmk/J0mWJEnSShnApFxNbeKRfJLkO+uZJLlzxxWTJO+9lZMkS5IkqWkMYGr3nn1jHmMmNDxJ8qhN1ubgHQZxwHbrs7aTJEuSJGkVGcDULr0xdxG3TnydMSuZJPmQHQZx0AgnSZYkSVLzMICp3Zi3eBl3PvUmt0yYwSPTGp4k+ZAdBrG9kyRLkiSpmRnA1KYtXZ5PkjxxBnfVM0lyt84d+NjW63GIkyRLkiRpDTOAqc1JKTH+lWyS5NsnlZ8kuUPAbpsP4OARg9hv2/Xo2dUfBUmSJK15futUmzFt5gJumTCDMRNm8MrshidJPnDEBgzs7STJkiRJalkGMFW1xkySvEGfbhy0wyAOHuEkyZIkSaosA5iqzqKlNfz32RWTJNeUmyS5Wyf2zydJ3nmwkyRLkiSpdTCAqSrU1CYenlqYJPkNFiyt+cA2TpIsSZKk1s4AplYrpcSzb7zHmIkzuHXiDN6at6TsdjvmkyTv7yTJkiRJauUMYGp1Xp+zYpLk598qP0nyZsVJkgexcf+1WriFkiRJ0qoxgKlVmLd4GXc8lQ2m8ei02U6SLEmSpDbJAKaKWbq8lv9NeYcxE2bw32ffYmk9kyTvt816HLzDID68uZMkS5IkqboZwNSiskmS3+WWCTO4fdIbzGlgkuRDdhjEx7ZxkmRJkiS1HX6zVYt46Z35jJkwgzETX693kuRtNsgmSf7UcCdJliRJUttkANMaM3P+Em5/8nVumfg6T9YzSfKgvt05aMQGHLzDIIYOdJJkSZIktW0GMDWrRUtr+M/kNxkzYQb3vzCz3kmSD9h+fQ4eMYidnCRZkiRJ7YgBTKutMEnyPya8xr+ffrPeSZL3yidJ3stJkiVJktROGcC0SlJKTH5jHmMmzODWia/z9nvlJ0neafCKSZL7ruUkyZIkSWrfDGBqkhlzFnHrxBmMmTCDKW/NL7vNZuv04JARTpIsSZIk1WUA00rNXfT+SZLLGdBzxSTJ2w1ykmRJkiSpHAOYGnTvc29zyjXjyk6S3L1zR/bbZmBxkuROTpIsSZIkNcgApgZtt2Gf941k6CTJkiRJ0qrz27MaNKBnV3bfYgDvzF/CwSMGceDwDVjXSZIlSZKkVWIA00r99jOj6N7FYeMlSZKk1WWnHa2U4UuSJElqHgYwSZIkSWohBjBJkiRJaiEGMEmSJElqIQYwSZIkSWohBjBJkiRJaiEGMEmSJElqIQYwSZIkSWohBjBJkiRJaiEGMEmSJElqIQYwSZIkSWohBjBJkiRJaiEGMEmSJElqIQYwSZIkSWohBjBJkiRJaiEGMEmSJElqIZFSqnQb1EgRMat79+79hg0bVummSJIkqQ179tlnWbRo0eyUUv9Kt6WtMYBVkYiYBvQGprfwobfKl8+18HHVMK9L6+M1aZ28Lq2P16R18rq0PpW8JoOBeSmlTStw7DbNAKaViohxACmlUZVui1bwurQ+XpPWyevS+nhNWievS+vjNWmb7AMmSZIkSS3EACZJkiRJLcQAJkmSJEktxAAmSZIkSS3EACZJkiRJLcRRECVJkiSphXgHTJIkSZJaiAFMkiRJklqIAUySJEmSWogBTJIkSZJaiAFMkiRJklqIAUySJEmSWogBTJIkSZJaiAGsjYiI/hFxYkTcEhEvRsSiiJgbEQ9GxBciouy1jojREfGviJgdEQsjYlJEnBkRHctsu2FEnBsRN+bHqI2IFBGbr6Rt3SPi+xHxfEQsjoi3I+KGiBjWXOffWrXW6xIRO0fETyLijoh4M9/+teY899aqNV6TiOgcEYdExJ8i4umImJcf46mI+EFE9Gruz6G1aY3XJa/z+YgYk28/LyIWRMSzEXFFRGzZnJ9Ba9Nar0mZfQzNr0uKiGtW55yrQWu9LhFxZb5Nfa+tmvNzaE1a6zUpqTs4In4XES9F9j1sVkQ8GhHnNMf5axWklHy1gRdwKpCA14G/AT8B/gzMyctvIp94u6TOQcByYD7wJ+BC4Ll8+xvLHOPgfF0tMBV4N3+/eQPt6go8mG/3OPAz4FpgGbAA2KXSn107vS6/zLdZCjyZ//m1Sn9e7fWaAFvl6+cDt+U/J5cBL+blzwMDKv3Ztbfrkte5B3g2b9Mv8mP8Kz/uEuATlf7s2ts1qVO/E/Ao8F5e75pKf27t9boAV+bb/BI4v8yrzf4b1lqvSV5vP7LvW0uAm/O2/Qb4D/BgpT+79vqqeAN8NdOFhL2BTwEd6pSvB7yS/5AeWlLeG3g7/4HcsaS8GzA23/6oOvvaEPgI0Dt/f18j/kH+VuEfk9K25f/wJOCZum1uS69WfF1GADsAXfL37SmAtbprAgwCvgT0qFPeBbg9r/ubSn927e26FPZXT/m+ed3Jlf7s2ts1qVP/e/nxzqD9BLBWeV1YEcAGV/oz8poU62xG9suJV4ChZdZ3rvRn115fFW+Arxa4yPBt6nyBAz6fl/21zPZ75+v+t5L9NvjDDwTwcr7NpmXW35+v26vSn1F7ui711Gk3AaxarklJ3dF53acq/fl4XT5Q/11gaaU/n/Z6TYAdyZ6m+A6wJ+0kgLXW60I7DmCt+JpclW+zf6U/B1/vf3VC7cGyfLm8pGzvfHlnme3vBxYCoyOia0ppySoedwiwMTAlpTStzPo7yH6bszdw7yoeo5pV6rqofq3xmpRrU3vT6q5LRHwY6AuMb+59V4mKXpOI6E725XIi8FPgw6uzvzakNfysfCIiegM1ZI9R35NSmtcM+61WFbkmEdEZOIzsTtu/ImJnYDeyx3afBf6TUlq6KvvW6jOAtXER0Qn4bP629Ae90Hl8St06KaXlETEN2Ibs9vWzq3j4eo+ReyFfDl3F/VetCl8XldGKr8nny7Sp3Wgt1yUiDgO2BbqT/Zv1SWA28OXV3Xe1aSXX5Kf5fkbm+17N3VW/VnJdAH5b5/17EfGtlNJlzbDvqlLha1L49+ph4DrgiDrrX4mIw1JKj6/i/rUaDGBt30/Jfgj/lVL6d0l5n3w5t556hfK+q3HsljhGtarkdVF5re6aRMSBwCnAa8DPm3v/VaK1XJfDgCNL3r8AHJNSeqKZ9l9NKnpNIuKjwOnAN1NKk1dnX21MpX9W7icboOYRsrsuGwCHAOcBl0bEspTS5at5jGpTyWuybr7cA1gEfAEYA/QETgO+TnZnbFhKaeZqHEerwGHo27CIOAM4h2xUneOaWj1fpmZtVMsfo9WpguvS7rTGaxIRo8lGDF1A1nn73ebcfzVoTdclpXRUSinIvjjtBkwDHoqIE5pj/9Wi0tckIvoCfyEb+fAXq7qftqbS1wUgpfTnlNINKaVXUkqLU0ovpZR+ARyTb3JBueHV26pWcE06liy/lV+f2fn1+QbwD2AAcNJqHEOryADWRkXEacCvgMlkg1zMrrNJ4bcrfSivd53tVkVLHKOqtJLrohKt8ZpExIfI+kjWAh9PKT3WXPuuFq3xugCklOallMaSjXj2PPC7iNiwOY/RWrWSa3Ix2ZfGE1JKNauxnzajlVyXeqWUbgdmkF23rdfEMVqbVnJNSn9pd0uZ9YWynVfjGFpFBrA2KCLOBC4Fnib7wX+zzGbP58sP9L/Kn1nelKzD6Eur0ZR6j5HbIl/W10esTWlF10W51nhNIuIjwL/JfvP5sZTSQ82x32rSGq9LXXnn9bvJho3edU0cozVpRddkJFm/ludKJ/llxUBOn8nLJq7GMapGK7ouK/NOvuyxBo/RKrSia/J8yZ/nlFlfCGjdV+MYWkUGsDYmIr4BXEI2MtReKaW369n0nnz58TLrdgfWAsau5ohIU8nnnoiITcus/0SdtrRZrey6iNZ5TSJib7I7X8uBfVNKj6zuPqtNa7wuDRiUL9v0CJWt7Jr8g2zS2rqvf+Xrp+bv/7Eax6gKrey61Csi+rBisvnpa+IYrUVruib5XbeJ+dtty2xSKJu+qsfQaqj0OPi+mu8FfJfsH7gngH4r2bY32W+kGj0JYJl93IcTMVfldSlTp13NA9YarwnwMbKhh2cCO1T6M/K6JID+wHb1rDuAbHjp94C1K/3ZtZdr0kC9PWlH84C1tutCNuHwB9aRDfhwS173P5X+3NrTNcm3OTHf5i5KJpUnm9T5zXzdnpX+7NrjK/ILoSoXEceTTYJYA/yG8s8NT08pXVlS52DgJmAx2RCls4EDyYZHvQk4ItX5CxIRV5a8/TgwkOw3je/lZX9MKT1Ysn1Xst/0jCb7R+lusrnBDgeWAnunlB5t+hlXh1Z8XbYCvllS53iyL/83lpR9NbXBkZFa4zWJiC3JflPZDbiZ7NGVD0gpnd+4s6w+rfS6jAAmkM319QxZP5a+wAiyxw6XAcellK5v+hm3fq3xmjTQ1j3JHkP8W0rp2JWfXfVqjdel5PN/mGzY9LfJ7hDvSxbOXiK7I/TKKpxyq9car0m+fQey/1MOJuvu8W+yx0APBvoBv04pfaWp56tmUOkE6Kt5XsD5ZL/JaOh1X5l6u5E9uvEu2TClTwFnAR3rOc7KjnFCmTrdge+TDdu8hOy3PjcCW1f6c2uv14UVvy1u6DW40p9fe7kmjbweqdKfXTu8LmsDFwAPAG+Q/dJoAdkXzN8Dwyr9ubW3a9JAWws/Q23+DlhrvC7ARsAfyH5Z8Q7ZLyfmAo8B5wK9Kv25tbdrUlKnE/AVsl/yLQTmAw8Bx1b6c2vPL++ASZIkSVILcRAOSZIkSWohBjBJkiRJaiEGMEmSJElqIQYwSZIkSWohBjBJkiRJaiEGMEmSJElqIQYwSZIkSWohBjBJkiRJaiEGMEmSJElqIQYwSZIkSWohBjBJkiRJaiEGMEmSJElqIQYwSZIkSWohBjBJkiRJaiEGMEmSJElqIQYwSVKrERFbRUSKiHsa2OapiFgWEeuVlO0XEf+KiJkRsSQipkbEhRHRt0z9vSLi8oiYHBHzImJRRDwdEedFRLcy25+ft2nPiDgmIh6NiPkRMb25zluS1H50qnQDJEkqSCk9FxH3AntFxNCU0pTS9RExGtgWuDml9GZe9j3g+8Bs4HbgbWB74KvAJyPiQymleSW7+QawFTAW+CfQDdgNOB/YMyL2SSnVlGneOcC+wG3AvUCf5jlrSVJ7YgCTJLU2vwX2Ak4mC1GlTs6Xf4DsbhZZ+HoY+GRKaU5hw4g4AfhLvv6skn18CZiWUkqlO46IHwLfAQ4Dri/Trr2BD6WUJqzKSUmSBD6CKElqfcYArwMnRETXQmH+OOERwFTgrrz4jHx5Umn4AkgpXQlMBD5Tp/yluuEr98t8uV897brc8CVJWl3eAZMktSoppeUR8Ufge8ChwLX5quOA7mRBqBCgPgQsAw6PiMPL7K4LsE5E9E8pzQKIiB7AV4BDgKFALyBK6gyqp2mPrfpZSZKUMYBJklqjy4FvA6ewIoCdDCwle6ywoD/Z/2XnrWR/PYFZEdEZuAfYGXia7FHDd8hCHPl+upbdA7zZtFOQJOmDDGCSpFYnpTQjIm4DDomIYcDaZINvXJ9Seqdk07lAh5RSv0bu+iCy8PXXlNIJpSsiYn0aDnLlHluUJKlJ7AMmSWqtfpsvT6bO4BslHgHWjohtGrnPzfPlzWXW7dG05kmS1HQGMElSa3U3MAU4nmzwjSkppXvrbHNJvrwiIjaou4OI6BERu5YUTc+Xe9bZbjPgZ83QZkmSGuQjiJKkVimllCLi98DFeVHdu1+klO6OiG8CPwFeiIh/AdPI+nxtQnZX60Hg43mV24AXgbMjYjtgArAxcADZnGAbr7kzkiTJO2CSpNbtSqAWWAL8tdwGKaWfAbuTBajdgDOBw8lGM7ycbG6vwrYLyObzuhbYhmwY++2BHwLHrplTkCRphSg/FYokSZUXEXsC9wLXpJSOq2xrJElafd4BkyS1Zl/Pl5dWtBWSJDUT+4BJklqVvG/WAcAo4BPA7SmlRyvbKkmSmocBTJLU2owCfgzMA24EvlTZ5kiS1HzsAyZJkiRJLcQ+YJIkSZLUQgxgkiRJktRCDGCSJEmS1EIMYJIkSZLUQgxgkiRJktRCDGCSJEmS1EIMYJIkSZLUQgxgkiRJktRCDGCSJEmS1EIMYJIkSZLUQgxgkiRJktRC/h8zuqVMl6II2gAAAABJRU5ErkJggg==&quot; width=&quot;432px&quot; height=&quot;288px&quot; alt=&quot;&quot;&gt;&lt;/img&gt;\",\"width\":432},\"id\":\"4247\",\"type\":\"panel.models.markup.HTML\"}],\"root_ids\":[\"4247\",\"4248\"]},\"title\":\"Bokeh Application\",\"version\":\"2.3.1\"}};\n",
       "    var render_items = [{\"docid\":\"610b3aeb-ab60-4589-b60d-d15c40c40f13\",\"root_ids\":[\"4247\"],\"roots\":{\"4247\":\"e34d226e-dafd-48a4-bbd0-adc01d10f7f7\"}}];\n",
       "    root.Bokeh.embed.embed_items_notebook(docs_json, render_items);\n",
       "  }\n",
       "  if (root.Bokeh !== undefined && root.Bokeh.Panel !== undefined && root['Plotly'] !== undefined ) {\n",
       "    embed_document(root);\n",
       "  } else {\n",
       "    var attempts = 0;\n",
       "    var timer = setInterval(function(root) {\n",
       "      if (root.Bokeh !== undefined && root.Bokeh.Panel !== undefined && root['Plotly'] !== undefined) {\n",
       "        clearInterval(timer);\n",
       "        embed_document(root);\n",
       "      } else if (document.readyState == \"complete\") {\n",
       "        attempts++;\n",
       "        if (attempts > 100) {\n",
       "          clearInterval(timer);\n",
       "          console.log(\"Bokeh: ERROR: Unable to run BokehJS code because BokehJS library is missing\");\n",
       "        }\n",
       "      }\n",
       "    }, 10, root)\n",
       "  }\n",
       "})(window);</script>"
      ],
      "text/plain": [
       "Matplotlib(Figure)"
      ]
     },
     "execution_count": 133,
     "metadata": {
      "application/vnd.holoviews_exec.v0+json": {
       "id": "4247"
      }
     },
     "output_type": "execute_result"
    }
   ],
   "source": [
    "average_gross_rent()"
   ]
  },
  {
   "cell_type": "code",
   "execution_count": 134,
   "metadata": {},
   "outputs": [
    {
     "data": {},
     "metadata": {},
     "output_type": "display_data"
    },
    {
     "data": {
      "application/vnd.holoviews_exec.v0+json": "",
      "text/html": [
       "<div id='4249'>\n",
       "\n",
       "\n",
       "\n",
       "\n",
       "\n",
       "  <div class=\"bk-root\" id=\"f47021c8-d1f4-48c8-b69d-eeaa8be9f82e\" data-root-id=\"4249\"></div>\n",
       "</div>\n",
       "<script type=\"application/javascript\">(function(root) {\n",
       "  function embed_document(root) {\n",
       "    var docs_json = {\"8e924646-fbb2-4628-8f35-840af882c5dd\":{\"defs\":[],\"roots\":{\"references\":[{\"attributes\":{\"client_comm_id\":\"8ed76ac15a6f4bbdb03a636792364195\",\"comm_id\":\"b1991fd576b94708a6b49bfd6d8c4ae1\",\"plot_id\":\"4249\"},\"id\":\"4250\",\"type\":\"panel.models.comm_manager.CommManager\"},{\"attributes\":{\"height\":288,\"margin\":[5,5,5,5],\"name\":\"Matplotlib04773\",\"text\":\"&lt;img src=&quot;data:image/png;base64,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&quot; width=&quot;432px&quot; height=&quot;288px&quot; alt=&quot;&quot;&gt;&lt;/img&gt;\",\"width\":432},\"id\":\"4249\",\"type\":\"panel.models.markup.HTML\"}],\"root_ids\":[\"4249\",\"4250\"]},\"title\":\"Bokeh Application\",\"version\":\"2.3.1\"}};\n",
       "    var render_items = [{\"docid\":\"8e924646-fbb2-4628-8f35-840af882c5dd\",\"root_ids\":[\"4249\"],\"roots\":{\"4249\":\"f47021c8-d1f4-48c8-b69d-eeaa8be9f82e\"}}];\n",
       "    root.Bokeh.embed.embed_items_notebook(docs_json, render_items);\n",
       "  }\n",
       "  if (root.Bokeh !== undefined && root.Bokeh.Panel !== undefined && root['Plotly'] !== undefined ) {\n",
       "    embed_document(root);\n",
       "  } else {\n",
       "    var attempts = 0;\n",
       "    var timer = setInterval(function(root) {\n",
       "      if (root.Bokeh !== undefined && root.Bokeh.Panel !== undefined && root['Plotly'] !== undefined) {\n",
       "        clearInterval(timer);\n",
       "        embed_document(root);\n",
       "      } else if (document.readyState == \"complete\") {\n",
       "        attempts++;\n",
       "        if (attempts > 100) {\n",
       "          clearInterval(timer);\n",
       "          console.log(\"Bokeh: ERROR: Unable to run BokehJS code because BokehJS library is missing\");\n",
       "        }\n",
       "      }\n",
       "    }, 10, root)\n",
       "  }\n",
       "})(window);</script>"
      ],
      "text/plain": [
       "Matplotlib(Figure)"
      ]
     },
     "execution_count": 134,
     "metadata": {
      "application/vnd.holoviews_exec.v0+json": {
       "id": "4249"
      }
     },
     "output_type": "execute_result"
    }
   ],
   "source": [
    "average_sales_price()"
   ]
  },
  {
   "cell_type": "code",
   "execution_count": 135,
   "metadata": {},
   "outputs": [
    {
     "data": {},
     "metadata": {},
     "output_type": "display_data"
    },
    {
     "data": {
      "application/vnd.holoviews_exec.v0+json": "",
      "text/html": [
       "<div id='4251'>\n",
       "\n",
       "\n",
       "\n",
       "\n",
       "\n",
       "  <div class=\"bk-root\" id=\"db8eca66-0ea8-4e94-9f22-77a4f40eebeb\" data-root-id=\"4251\"></div>\n",
       "</div>\n",
       "<script type=\"application/javascript\">(function(root) {\n",
       "  function embed_document(root) {\n",
       "    var docs_json = {\"77cde94d-d6eb-4898-9c0e-516b5a8c952b\":{\"defs\":[],\"roots\":{\"references\":[{\"attributes\":{},\"id\":\"4298\",\"type\":\"BasicTickFormatter\"},{\"attributes\":{},\"id\":\"4297\",\"type\":\"AllLabels\"},{\"attributes\":{\"line_alpha\":0.1,\"line_color\":\"#30a2da\",\"line_width\":2,\"x\":{\"field\":\"year\"},\"y\":{\"field\":\"sale_price_sqr_foot\"}},\"id\":\"4290\",\"type\":\"Line\"},{\"attributes\":{\"data\":{\"sale_price_sqr_foot\":{\"__ndarray__\":\"\",\"dtype\":\"float64\",\"order\":\"little\",\"shape\":[0]},\"year\":[]},\"selected\":{\"id\":\"4287\"},\"selection_policy\":{\"id\":\"4309\"}},\"id\":\"4286\",\"type\":\"ColumnDataSource\"},{\"attributes\":{},\"id\":\"4300\",\"type\":\"AllLabels\"},{\"attributes\":{\"line_color\":\"#30a2da\",\"line_width\":2,\"x\":{\"field\":\"year\"},\"y\":{\"field\":\"sale_price_sqr_foot\"}},\"id\":\"4289\",\"type\":\"Line\"},{\"attributes\":{},\"id\":\"4295\",\"type\":\"BasicTickFormatter\"},{\"attributes\":{},\"id\":\"4287\",\"type\":\"Selection\"},{\"attributes\":{\"data_source\":{\"id\":\"4286\"},\"glyph\":{\"id\":\"4289\"},\"hover_glyph\":null,\"muted_glyph\":{\"id\":\"4291\"},\"nonselection_glyph\":{\"id\":\"4290\"},\"selection_glyph\":{\"id\":\"4294\"},\"view\":{\"id\":\"4293\"}},\"id\":\"4292\",\"type\":\"GlyphRenderer\"},{\"attributes\":{\"text\":\"SF Sale per Square foot per Year\",\"text_color\":\"black\",\"text_font_size\":\"12pt\"},\"id\":\"4257\",\"type\":\"Title\"},{\"attributes\":{\"children\":[{\"id\":\"4252\"},{\"id\":\"4256\"},{\"id\":\"4321\"}],\"margin\":[0,0,0,0],\"name\":\"Row04853\",\"tags\":[\"embedded\"]},\"id\":\"4251\",\"type\":\"Row\"},{\"attributes\":{\"source\":{\"id\":\"4286\"}},\"id\":\"4293\",\"type\":\"CDSView\"},{\"attributes\":{},\"id\":\"4273\",\"type\":\"SaveTool\"},{\"attributes\":{\"bottom_units\":\"screen\",\"fill_alpha\":0.5,\"fill_color\":\"lightgrey\",\"left_units\":\"screen\",\"level\":\"overlay\",\"line_alpha\":1.0,\"line_color\":\"black\",\"line_dash\":[4,4],\"line_width\":2,\"right_units\":\"screen\",\"syncable\":false,\"top_units\":\"screen\"},\"id\":\"4278\",\"type\":\"BoxAnnotation\"},{\"attributes\":{\"callback\":null,\"renderers\":[{\"id\":\"4292\"}],\"tags\":[\"hv_created\"],\"tooltips\":[[\"year\",\"@{year}\"],[\"sale_price_sqr_foot\",\"@{sale_price_sqr_foot}\"]]},\"id\":\"4255\",\"type\":\"HoverTool\"},{\"attributes\":{\"line_color\":\"#30a2da\",\"line_width\":2,\"x\":{\"field\":\"year\"},\"y\":{\"field\":\"sale_price_sqr_foot\"}},\"id\":\"4294\",\"type\":\"Line\"},{\"attributes\":{\"tags\":[[[\"sale_price_sqr_foot\",\"sale_price_sqr_foot\",null]]]},\"id\":\"4254\",\"type\":\"Range1d\"},{\"attributes\":{\"tags\":[[[\"year\",\"year\",null]]]},\"id\":\"4253\",\"type\":\"Range1d\"},{\"attributes\":{},\"id\":\"4261\",\"type\":\"LinearScale\"},{\"attributes\":{\"margin\":[5,5,5,5],\"name\":\"HSpacer04858\",\"sizing_mode\":\"stretch_width\"},\"id\":\"4321\",\"type\":\"Spacer\"},{\"attributes\":{},\"id\":\"4274\",\"type\":\"PanTool\"},{\"attributes\":{},\"id\":\"4266\",\"type\":\"BasicTicker\"},{\"attributes\":{},\"id\":\"4263\",\"type\":\"LinearScale\"},{\"attributes\":{\"below\":[{\"id\":\"4265\"}],\"center\":[{\"id\":\"4268\"},{\"id\":\"4272\"}],\"height\":300,\"left\":[{\"id\":\"4269\"}],\"margin\":[5,5,5,5],\"min_border_bottom\":10,\"min_border_left\":10,\"min_border_right\":10,\"min_border_top\":10,\"renderers\":[{\"id\":\"4292\"}],\"sizing_mode\":\"fixed\",\"title\":{\"id\":\"4257\"},\"toolbar\":{\"id\":\"4279\"},\"width\":700,\"x_range\":{\"id\":\"4253\"},\"x_scale\":{\"id\":\"4261\"},\"y_range\":{\"id\":\"4254\"},\"y_scale\":{\"id\":\"4263\"}},\"id\":\"4256\",\"subtype\":\"Figure\",\"type\":\"Plot\"},{\"attributes\":{\"axis\":{\"id\":\"4265\"},\"grid_line_color\":null,\"ticker\":null},\"id\":\"4268\",\"type\":\"Grid\"},{\"attributes\":{\"axis_label\":\"year\",\"formatter\":{\"id\":\"4295\"},\"major_label_policy\":{\"id\":\"4297\"},\"ticker\":{\"id\":\"4266\"}},\"id\":\"4265\",\"type\":\"LinearAxis\"},{\"attributes\":{\"axis\":{\"id\":\"4269\"},\"dimension\":1,\"grid_line_color\":null,\"ticker\":null},\"id\":\"4272\",\"type\":\"Grid\"},{\"attributes\":{},\"id\":\"4309\",\"type\":\"UnionRenderers\"},{\"attributes\":{\"axis_label\":\"sale_price_sqr_foot\",\"formatter\":{\"id\":\"4298\"},\"major_label_policy\":{\"id\":\"4300\"},\"ticker\":{\"id\":\"4270\"}},\"id\":\"4269\",\"type\":\"LinearAxis\"},{\"attributes\":{\"line_alpha\":0.2,\"line_color\":\"#30a2da\",\"line_width\":2,\"x\":{\"field\":\"year\"},\"y\":{\"field\":\"sale_price_sqr_foot\"}},\"id\":\"4291\",\"type\":\"Line\"},{\"attributes\":{},\"id\":\"4270\",\"type\":\"BasicTicker\"},{\"attributes\":{},\"id\":\"4275\",\"type\":\"WheelZoomTool\"},{\"attributes\":{},\"id\":\"4277\",\"type\":\"ResetTool\"},{\"attributes\":{\"margin\":[5,5,5,5],\"name\":\"HSpacer04857\",\"sizing_mode\":\"stretch_width\"},\"id\":\"4252\",\"type\":\"Spacer\"},{\"attributes\":{\"active_multi\":null,\"tools\":[{\"id\":\"4255\"},{\"id\":\"4273\"},{\"id\":\"4274\"},{\"id\":\"4275\"},{\"id\":\"4276\"},{\"id\":\"4277\"}]},\"id\":\"4279\",\"type\":\"Toolbar\"},{\"attributes\":{\"overlay\":{\"id\":\"4278\"}},\"id\":\"4276\",\"type\":\"BoxZoomTool\"}],\"root_ids\":[\"4251\"]},\"title\":\"Bokeh Application\",\"version\":\"2.3.1\"}};\n",
       "    var render_items = [{\"docid\":\"77cde94d-d6eb-4898-9c0e-516b5a8c952b\",\"root_ids\":[\"4251\"],\"roots\":{\"4251\":\"db8eca66-0ea8-4e94-9f22-77a4f40eebeb\"}}];\n",
       "    root.Bokeh.embed.embed_items_notebook(docs_json, render_items);\n",
       "  }\n",
       "  if (root.Bokeh !== undefined && root.Bokeh.Panel !== undefined && root['Plotly'] !== undefined ) {\n",
       "    embed_document(root);\n",
       "  } else {\n",
       "    var attempts = 0;\n",
       "    var timer = setInterval(function(root) {\n",
       "      if (root.Bokeh !== undefined && root.Bokeh.Panel !== undefined && root['Plotly'] !== undefined) {\n",
       "        clearInterval(timer);\n",
       "        embed_document(root);\n",
       "      } else if (document.readyState == \"complete\") {\n",
       "        attempts++;\n",
       "        if (attempts > 100) {\n",
       "          clearInterval(timer);\n",
       "          console.log(\"Bokeh: ERROR: Unable to run BokehJS code because BokehJS library is missing\");\n",
       "        }\n",
       "      }\n",
       "    }, 10, root)\n",
       "  }\n",
       "})(window);</script>"
      ],
      "text/plain": [
       ":Curve   [year]   (sale_price_sqr_foot)"
      ]
     },
     "execution_count": 135,
     "metadata": {
      "application/vnd.holoviews_exec.v0+json": {
       "id": "4251"
      }
     },
     "output_type": "execute_result"
    }
   ],
   "source": [
    "average_price_by_neighborhood()"
   ]
  },
  {
   "cell_type": "code",
   "execution_count": 136,
   "metadata": {},
   "outputs": [
    {
     "data": {
      "application/vnd.plotly.v1+json": {
       "config": {
        "plotlyServerURL": "https://plot.ly"
       },
       "data": [
        {
         "alignmentgroup": "True",
         "hovertemplate": "neighborhood=%{x}<br>sale_price_sqr_foot=%{y}<extra></extra>",
         "legendgroup": "",
         "marker": {
          "color": "#636efa"
         },
         "name": "",
         "offsetgroup": "",
         "orientation": "v",
         "showlegend": false,
         "textposition": "auto",
         "type": "bar",
         "x": [
          "Union Square District",
          "Merced Heights",
          "Miraloma Park",
          "Pacific Heights",
          "Westwood Park",
          "Telegraph Hill",
          "Presidio Heights",
          "Cow Hollow",
          "Potrero Hill",
          "South Beach"
         ],
         "xaxis": "x",
         "y": [
          903.9932576720645,
          788.8448175872469,
          779.810842264425,
          689.5558168113663,
          687.0875745178322,
          676.5065775293255,
          675.3502120510033,
          665.9640415783227,
          662.0136128276529,
          650.1244791945729
         ],
         "yaxis": "y"
        }
       ],
       "layout": {
        "autosize": true,
        "barmode": "relative",
        "legend": {
         "tracegroupgap": 0
        },
        "template": {
         "data": {
          "bar": [
           {
            "error_x": {
             "color": "#2a3f5f"
            },
            "error_y": {
             "color": "#2a3f5f"
            },
            "marker": {
             "line": {
              "color": "#E5ECF6",
              "width": 0.5
             }
            },
            "type": "bar"
           }
          ],
          "barpolar": [
           {
            "marker": {
             "line": {
              "color": "#E5ECF6",
              "width": 0.5
             }
            },
            "type": "barpolar"
           }
          ],
          "carpet": [
           {
            "aaxis": {
             "endlinecolor": "#2a3f5f",
             "gridcolor": "white",
             "linecolor": "white",
             "minorgridcolor": "white",
             "startlinecolor": "#2a3f5f"
            },
            "baxis": {
             "endlinecolor": "#2a3f5f",
             "gridcolor": "white",
             "linecolor": "white",
             "minorgridcolor": "white",
             "startlinecolor": "#2a3f5f"
            },
            "type": "carpet"
           }
          ],
          "choropleth": [
           {
            "colorbar": {
             "outlinewidth": 0,
             "ticks": ""
            },
            "type": "choropleth"
           }
          ],
          "contour": [
           {
            "colorbar": {
             "outlinewidth": 0,
             "ticks": ""
            },
            "colorscale": [
             [
              0,
              "#0d0887"
             ],
             [
              0.1111111111111111,
              "#46039f"
             ],
             [
              0.2222222222222222,
              "#7201a8"
             ],
             [
              0.3333333333333333,
              "#9c179e"
             ],
             [
              0.4444444444444444,
              "#bd3786"
             ],
             [
              0.5555555555555556,
              "#d8576b"
             ],
             [
              0.6666666666666666,
              "#ed7953"
             ],
             [
              0.7777777777777778,
              "#fb9f3a"
             ],
             [
              0.8888888888888888,
              "#fdca26"
             ],
             [
              1,
              "#f0f921"
             ]
            ],
            "type": "contour"
           }
          ],
          "contourcarpet": [
           {
            "colorbar": {
             "outlinewidth": 0,
             "ticks": ""
            },
            "type": "contourcarpet"
           }
          ],
          "heatmap": [
           {
            "colorbar": {
             "outlinewidth": 0,
             "ticks": ""
            },
            "colorscale": [
             [
              0,
              "#0d0887"
             ],
             [
              0.1111111111111111,
              "#46039f"
             ],
             [
              0.2222222222222222,
              "#7201a8"
             ],
             [
              0.3333333333333333,
              "#9c179e"
             ],
             [
              0.4444444444444444,
              "#bd3786"
             ],
             [
              0.5555555555555556,
              "#d8576b"
             ],
             [
              0.6666666666666666,
              "#ed7953"
             ],
             [
              0.7777777777777778,
              "#fb9f3a"
             ],
             [
              0.8888888888888888,
              "#fdca26"
             ],
             [
              1,
              "#f0f921"
             ]
            ],
            "type": "heatmap"
           }
          ],
          "heatmapgl": [
           {
            "colorbar": {
             "outlinewidth": 0,
             "ticks": ""
            },
            "colorscale": [
             [
              0,
              "#0d0887"
             ],
             [
              0.1111111111111111,
              "#46039f"
             ],
             [
              0.2222222222222222,
              "#7201a8"
             ],
             [
              0.3333333333333333,
              "#9c179e"
             ],
             [
              0.4444444444444444,
              "#bd3786"
             ],
             [
              0.5555555555555556,
              "#d8576b"
             ],
             [
              0.6666666666666666,
              "#ed7953"
             ],
             [
              0.7777777777777778,
              "#fb9f3a"
             ],
             [
              0.8888888888888888,
              "#fdca26"
             ],
             [
              1,
              "#f0f921"
             ]
            ],
            "type": "heatmapgl"
           }
          ],
          "histogram": [
           {
            "marker": {
             "colorbar": {
              "outlinewidth": 0,
              "ticks": ""
             }
            },
            "type": "histogram"
           }
          ],
          "histogram2d": [
           {
            "colorbar": {
             "outlinewidth": 0,
             "ticks": ""
            },
            "colorscale": [
             [
              0,
              "#0d0887"
             ],
             [
              0.1111111111111111,
              "#46039f"
             ],
             [
              0.2222222222222222,
              "#7201a8"
             ],
             [
              0.3333333333333333,
              "#9c179e"
             ],
             [
              0.4444444444444444,
              "#bd3786"
             ],
             [
              0.5555555555555556,
              "#d8576b"
             ],
             [
              0.6666666666666666,
              "#ed7953"
             ],
             [
              0.7777777777777778,
              "#fb9f3a"
             ],
             [
              0.8888888888888888,
              "#fdca26"
             ],
             [
              1,
              "#f0f921"
             ]
            ],
            "type": "histogram2d"
           }
          ],
          "histogram2dcontour": [
           {
            "colorbar": {
             "outlinewidth": 0,
             "ticks": ""
            },
            "colorscale": [
             [
              0,
              "#0d0887"
             ],
             [
              0.1111111111111111,
              "#46039f"
             ],
             [
              0.2222222222222222,
              "#7201a8"
             ],
             [
              0.3333333333333333,
              "#9c179e"
             ],
             [
              0.4444444444444444,
              "#bd3786"
             ],
             [
              0.5555555555555556,
              "#d8576b"
             ],
             [
              0.6666666666666666,
              "#ed7953"
             ],
             [
              0.7777777777777778,
              "#fb9f3a"
             ],
             [
              0.8888888888888888,
              "#fdca26"
             ],
             [
              1,
              "#f0f921"
             ]
            ],
            "type": "histogram2dcontour"
           }
          ],
          "mesh3d": [
           {
            "colorbar": {
             "outlinewidth": 0,
             "ticks": ""
            },
            "type": "mesh3d"
           }
          ],
          "parcoords": [
           {
            "line": {
             "colorbar": {
              "outlinewidth": 0,
              "ticks": ""
             }
            },
            "type": "parcoords"
           }
          ],
          "pie": [
           {
            "automargin": true,
            "type": "pie"
           }
          ],
          "scatter": [
           {
            "marker": {
             "colorbar": {
              "outlinewidth": 0,
              "ticks": ""
             }
            },
            "type": "scatter"
           }
          ],
          "scatter3d": [
           {
            "line": {
             "colorbar": {
              "outlinewidth": 0,
              "ticks": ""
             }
            },
            "marker": {
             "colorbar": {
              "outlinewidth": 0,
              "ticks": ""
             }
            },
            "type": "scatter3d"
           }
          ],
          "scattercarpet": [
           {
            "marker": {
             "colorbar": {
              "outlinewidth": 0,
              "ticks": ""
             }
            },
            "type": "scattercarpet"
           }
          ],
          "scattergeo": [
           {
            "marker": {
             "colorbar": {
              "outlinewidth": 0,
              "ticks": ""
             }
            },
            "type": "scattergeo"
           }
          ],
          "scattergl": [
           {
            "marker": {
             "colorbar": {
              "outlinewidth": 0,
              "ticks": ""
             }
            },
            "type": "scattergl"
           }
          ],
          "scattermapbox": [
           {
            "marker": {
             "colorbar": {
              "outlinewidth": 0,
              "ticks": ""
             }
            },
            "type": "scattermapbox"
           }
          ],
          "scatterpolar": [
           {
            "marker": {
             "colorbar": {
              "outlinewidth": 0,
              "ticks": ""
             }
            },
            "type": "scatterpolar"
           }
          ],
          "scatterpolargl": [
           {
            "marker": {
             "colorbar": {
              "outlinewidth": 0,
              "ticks": ""
             }
            },
            "type": "scatterpolargl"
           }
          ],
          "scatterternary": [
           {
            "marker": {
             "colorbar": {
              "outlinewidth": 0,
              "ticks": ""
             }
            },
            "type": "scatterternary"
           }
          ],
          "surface": [
           {
            "colorbar": {
             "outlinewidth": 0,
             "ticks": ""
            },
            "colorscale": [
             [
              0,
              "#0d0887"
             ],
             [
              0.1111111111111111,
              "#46039f"
             ],
             [
              0.2222222222222222,
              "#7201a8"
             ],
             [
              0.3333333333333333,
              "#9c179e"
             ],
             [
              0.4444444444444444,
              "#bd3786"
             ],
             [
              0.5555555555555556,
              "#d8576b"
             ],
             [
              0.6666666666666666,
              "#ed7953"
             ],
             [
              0.7777777777777778,
              "#fb9f3a"
             ],
             [
              0.8888888888888888,
              "#fdca26"
             ],
             [
              1,
              "#f0f921"
             ]
            ],
            "type": "surface"
           }
          ],
          "table": [
           {
            "cells": {
             "fill": {
              "color": "#EBF0F8"
             },
             "line": {
              "color": "white"
             }
            },
            "header": {
             "fill": {
              "color": "#C8D4E3"
             },
             "line": {
              "color": "white"
             }
            },
            "type": "table"
           }
          ]
         },
         "layout": {
          "annotationdefaults": {
           "arrowcolor": "#2a3f5f",
           "arrowhead": 0,
           "arrowwidth": 1
          },
          "autotypenumbers": "strict",
          "coloraxis": {
           "colorbar": {
            "outlinewidth": 0,
            "ticks": ""
           }
          },
          "colorscale": {
           "diverging": [
            [
             0,
             "#8e0152"
            ],
            [
             0.1,
             "#c51b7d"
            ],
            [
             0.2,
             "#de77ae"
            ],
            [
             0.3,
             "#f1b6da"
            ],
            [
             0.4,
             "#fde0ef"
            ],
            [
             0.5,
             "#f7f7f7"
            ],
            [
             0.6,
             "#e6f5d0"
            ],
            [
             0.7,
             "#b8e186"
            ],
            [
             0.8,
             "#7fbc41"
            ],
            [
             0.9,
             "#4d9221"
            ],
            [
             1,
             "#276419"
            ]
           ],
           "sequential": [
            [
             0,
             "#0d0887"
            ],
            [
             0.1111111111111111,
             "#46039f"
            ],
            [
             0.2222222222222222,
             "#7201a8"
            ],
            [
             0.3333333333333333,
             "#9c179e"
            ],
            [
             0.4444444444444444,
             "#bd3786"
            ],
            [
             0.5555555555555556,
             "#d8576b"
            ],
            [
             0.6666666666666666,
             "#ed7953"
            ],
            [
             0.7777777777777778,
             "#fb9f3a"
            ],
            [
             0.8888888888888888,
             "#fdca26"
            ],
            [
             1,
             "#f0f921"
            ]
           ],
           "sequentialminus": [
            [
             0,
             "#0d0887"
            ],
            [
             0.1111111111111111,
             "#46039f"
            ],
            [
             0.2222222222222222,
             "#7201a8"
            ],
            [
             0.3333333333333333,
             "#9c179e"
            ],
            [
             0.4444444444444444,
             "#bd3786"
            ],
            [
             0.5555555555555556,
             "#d8576b"
            ],
            [
             0.6666666666666666,
             "#ed7953"
            ],
            [
             0.7777777777777778,
             "#fb9f3a"
            ],
            [
             0.8888888888888888,
             "#fdca26"
            ],
            [
             1,
             "#f0f921"
            ]
           ]
          },
          "colorway": [
           "#636efa",
           "#EF553B",
           "#00cc96",
           "#ab63fa",
           "#FFA15A",
           "#19d3f3",
           "#FF6692",
           "#B6E880",
           "#FF97FF",
           "#FECB52"
          ],
          "font": {
           "color": "#2a3f5f"
          },
          "geo": {
           "bgcolor": "white",
           "lakecolor": "white",
           "landcolor": "#E5ECF6",
           "showlakes": true,
           "showland": true,
           "subunitcolor": "white"
          },
          "hoverlabel": {
           "align": "left"
          },
          "hovermode": "closest",
          "mapbox": {
           "style": "light"
          },
          "paper_bgcolor": "white",
          "plot_bgcolor": "#E5ECF6",
          "polar": {
           "angularaxis": {
            "gridcolor": "white",
            "linecolor": "white",
            "ticks": ""
           },
           "bgcolor": "#E5ECF6",
           "radialaxis": {
            "gridcolor": "white",
            "linecolor": "white",
            "ticks": ""
           }
          },
          "scene": {
           "xaxis": {
            "backgroundcolor": "#E5ECF6",
            "gridcolor": "white",
            "gridwidth": 2,
            "linecolor": "white",
            "showbackground": true,
            "ticks": "",
            "zerolinecolor": "white"
           },
           "yaxis": {
            "backgroundcolor": "#E5ECF6",
            "gridcolor": "white",
            "gridwidth": 2,
            "linecolor": "white",
            "showbackground": true,
            "ticks": "",
            "zerolinecolor": "white"
           },
           "zaxis": {
            "backgroundcolor": "#E5ECF6",
            "gridcolor": "white",
            "gridwidth": 2,
            "linecolor": "white",
            "showbackground": true,
            "ticks": "",
            "zerolinecolor": "white"
           }
          },
          "shapedefaults": {
           "line": {
            "color": "#2a3f5f"
           }
          },
          "ternary": {
           "aaxis": {
            "gridcolor": "white",
            "linecolor": "white",
            "ticks": ""
           },
           "baxis": {
            "gridcolor": "white",
            "linecolor": "white",
            "ticks": ""
           },
           "bgcolor": "#E5ECF6",
           "caxis": {
            "gridcolor": "white",
            "linecolor": "white",
            "ticks": ""
           }
          },
          "title": {
           "x": 0.05
          },
          "xaxis": {
           "automargin": true,
           "gridcolor": "white",
           "linecolor": "white",
           "ticks": "",
           "title": {
            "standoff": 15
           },
           "zerolinecolor": "white",
           "zerolinewidth": 2
          },
          "yaxis": {
           "automargin": true,
           "gridcolor": "white",
           "linecolor": "white",
           "ticks": "",
           "title": {
            "standoff": 15
           },
           "zerolinecolor": "white",
           "zerolinewidth": 2
          }
         }
        },
        "title": {
         "text": "Top 10 Most Expensive"
        },
        "xaxis": {
         "anchor": "y",
         "autorange": true,
         "domain": [
          0,
          1
         ],
         "range": [
          -0.5,
          9.5
         ],
         "title": {
          "text": "neighborhood"
         },
         "type": "category"
        },
        "yaxis": {
         "anchor": "x",
         "autorange": true,
         "domain": [
          0,
          1
         ],
         "range": [
          0,
          951.5718501811205
         ],
         "title": {
          "text": "sale_price_sqr_foot"
         },
         "type": "linear"
        }
       }
      },
      "image/png": "[encoded data removed]",
      "text/html": [
       "<div>                            <div id=\"a826509d-61de-43bf-8f03-7618f0f241a2\" class=\"plotly-graph-div\" style=\"height:525px; width:100%;\"></div>            <script type=\"text/javascript\">                require([\"plotly\"], function(Plotly) {                    window.PLOTLYENV=window.PLOTLYENV || {};                                    if (document.getElementById(\"a826509d-61de-43bf-8f03-7618f0f241a2\")) {                    Plotly.newPlot(                        \"a826509d-61de-43bf-8f03-7618f0f241a2\",                        [{\"alignmentgroup\": \"True\", \"hovertemplate\": \"neighborhood=%{x}<br>sale_price_sqr_foot=%{y}<extra></extra>\", \"legendgroup\": \"\", \"marker\": {\"color\": \"#636efa\"}, \"name\": \"\", \"offsetgroup\": \"\", \"orientation\": \"v\", \"showlegend\": false, \"textposition\": \"auto\", \"type\": \"bar\", \"x\": [\"Union Square District\", \"Merced Heights\", \"Miraloma Park\", \"Pacific Heights\", \"Westwood Park\", \"Telegraph Hill\", \"Presidio Heights\", \"Cow Hollow\", \"Potrero Hill\", \"South Beach\"], \"xaxis\": \"x\", \"y\": [903.9932576720645, 788.8448175872469, 779.810842264425, 689.5558168113663, 687.0875745178322, 676.5065775293255, 675.3502120510033, 665.9640415783227, 662.0136128276529, 650.1244791945729], \"yaxis\": \"y\"}],                        {\"barmode\": \"relative\", \"legend\": {\"tracegroupgap\": 0}, \"template\": {\"data\": {\"bar\": [{\"error_x\": {\"color\": \"#2a3f5f\"}, \"error_y\": {\"color\": \"#2a3f5f\"}, \"marker\": {\"line\": {\"color\": \"#E5ECF6\", \"width\": 0.5}}, \"type\": \"bar\"}], \"barpolar\": [{\"marker\": {\"line\": {\"color\": \"#E5ECF6\", \"width\": 0.5}}, \"type\": \"barpolar\"}], \"carpet\": [{\"aaxis\": {\"endlinecolor\": \"#2a3f5f\", \"gridcolor\": \"white\", \"linecolor\": \"white\", \"minorgridcolor\": \"white\", \"startlinecolor\": \"#2a3f5f\"}, \"baxis\": {\"endlinecolor\": \"#2a3f5f\", \"gridcolor\": \"white\", \"linecolor\": \"white\", \"minorgridcolor\": \"white\", \"startlinecolor\": \"#2a3f5f\"}, \"type\": \"carpet\"}], \"choropleth\": [{\"colorbar\": {\"outlinewidth\": 0, \"ticks\": \"\"}, \"type\": \"choropleth\"}], \"contour\": [{\"colorbar\": {\"outlinewidth\": 0, \"ticks\": \"\"}, \"colorscale\": [[0.0, \"#0d0887\"], [0.1111111111111111, \"#46039f\"], [0.2222222222222222, \"#7201a8\"], [0.3333333333333333, \"#9c179e\"], [0.4444444444444444, \"#bd3786\"], [0.5555555555555556, \"#d8576b\"], [0.6666666666666666, \"#ed7953\"], [0.7777777777777778, \"#fb9f3a\"], [0.8888888888888888, \"#fdca26\"], [1.0, \"#f0f921\"]], \"type\": \"contour\"}], \"contourcarpet\": [{\"colorbar\": {\"outlinewidth\": 0, \"ticks\": \"\"}, \"type\": \"contourcarpet\"}], \"heatmap\": [{\"colorbar\": {\"outlinewidth\": 0, \"ticks\": \"\"}, \"colorscale\": [[0.0, \"#0d0887\"], [0.1111111111111111, \"#46039f\"], [0.2222222222222222, \"#7201a8\"], [0.3333333333333333, \"#9c179e\"], [0.4444444444444444, \"#bd3786\"], [0.5555555555555556, \"#d8576b\"], [0.6666666666666666, \"#ed7953\"], [0.7777777777777778, \"#fb9f3a\"], [0.8888888888888888, \"#fdca26\"], [1.0, \"#f0f921\"]], \"type\": \"heatmap\"}], \"heatmapgl\": [{\"colorbar\": {\"outlinewidth\": 0, \"ticks\": \"\"}, \"colorscale\": [[0.0, \"#0d0887\"], [0.1111111111111111, \"#46039f\"], [0.2222222222222222, \"#7201a8\"], [0.3333333333333333, \"#9c179e\"], [0.4444444444444444, \"#bd3786\"], [0.5555555555555556, \"#d8576b\"], [0.6666666666666666, \"#ed7953\"], [0.7777777777777778, \"#fb9f3a\"], [0.8888888888888888, \"#fdca26\"], [1.0, \"#f0f921\"]], \"type\": \"heatmapgl\"}], \"histogram\": [{\"marker\": {\"colorbar\": {\"outlinewidth\": 0, \"ticks\": \"\"}}, \"type\": \"histogram\"}], \"histogram2d\": [{\"colorbar\": {\"outlinewidth\": 0, \"ticks\": \"\"}, \"colorscale\": [[0.0, \"#0d0887\"], [0.1111111111111111, \"#46039f\"], [0.2222222222222222, \"#7201a8\"], [0.3333333333333333, \"#9c179e\"], [0.4444444444444444, \"#bd3786\"], [0.5555555555555556, \"#d8576b\"], [0.6666666666666666, \"#ed7953\"], [0.7777777777777778, \"#fb9f3a\"], [0.8888888888888888, \"#fdca26\"], [1.0, \"#f0f921\"]], \"type\": \"histogram2d\"}], \"histogram2dcontour\": [{\"colorbar\": {\"outlinewidth\": 0, \"ticks\": \"\"}, \"colorscale\": [[0.0, \"#0d0887\"], [0.1111111111111111, \"#46039f\"], [0.2222222222222222, \"#7201a8\"], [0.3333333333333333, \"#9c179e\"], [0.4444444444444444, \"#bd3786\"], [0.5555555555555556, \"#d8576b\"], [0.6666666666666666, \"#ed7953\"], [0.7777777777777778, \"#fb9f3a\"], [0.8888888888888888, \"#fdca26\"], [1.0, \"#f0f921\"]], \"type\": \"histogram2dcontour\"}], \"mesh3d\": [{\"colorbar\": {\"outlinewidth\": 0, \"ticks\": \"\"}, \"type\": \"mesh3d\"}], \"parcoords\": [{\"line\": {\"colorbar\": {\"outlinewidth\": 0, \"ticks\": \"\"}}, \"type\": \"parcoords\"}], \"pie\": [{\"automargin\": true, \"type\": \"pie\"}], \"scatter\": [{\"marker\": {\"colorbar\": {\"outlinewidth\": 0, \"ticks\": \"\"}}, \"type\": \"scatter\"}], \"scatter3d\": [{\"line\": {\"colorbar\": {\"outlinewidth\": 0, \"ticks\": \"\"}}, \"marker\": {\"colorbar\": {\"outlinewidth\": 0, \"ticks\": \"\"}}, \"type\": \"scatter3d\"}], \"scattercarpet\": [{\"marker\": {\"colorbar\": {\"outlinewidth\": 0, \"ticks\": \"\"}}, \"type\": \"scattercarpet\"}], \"scattergeo\": [{\"marker\": {\"colorbar\": {\"outlinewidth\": 0, \"ticks\": \"\"}}, \"type\": \"scattergeo\"}], \"scattergl\": [{\"marker\": {\"colorbar\": {\"outlinewidth\": 0, \"ticks\": \"\"}}, \"type\": \"scattergl\"}], \"scattermapbox\": [{\"marker\": {\"colorbar\": {\"outlinewidth\": 0, \"ticks\": \"\"}}, \"type\": \"scattermapbox\"}], \"scatterpolar\": [{\"marker\": {\"colorbar\": {\"outlinewidth\": 0, \"ticks\": \"\"}}, \"type\": \"scatterpolar\"}], \"scatterpolargl\": [{\"marker\": {\"colorbar\": {\"outlinewidth\": 0, \"ticks\": \"\"}}, \"type\": \"scatterpolargl\"}], \"scatterternary\": [{\"marker\": {\"colorbar\": {\"outlinewidth\": 0, \"ticks\": \"\"}}, \"type\": \"scatterternary\"}], \"surface\": [{\"colorbar\": {\"outlinewidth\": 0, \"ticks\": \"\"}, \"colorscale\": [[0.0, \"#0d0887\"], [0.1111111111111111, \"#46039f\"], [0.2222222222222222, \"#7201a8\"], [0.3333333333333333, \"#9c179e\"], [0.4444444444444444, \"#bd3786\"], [0.5555555555555556, \"#d8576b\"], [0.6666666666666666, \"#ed7953\"], [0.7777777777777778, \"#fb9f3a\"], [0.8888888888888888, \"#fdca26\"], [1.0, \"#f0f921\"]], \"type\": \"surface\"}], \"table\": [{\"cells\": {\"fill\": {\"color\": \"#EBF0F8\"}, \"line\": {\"color\": \"white\"}}, \"header\": {\"fill\": {\"color\": \"#C8D4E3\"}, \"line\": {\"color\": \"white\"}}, \"type\": \"table\"}]}, \"layout\": {\"annotationdefaults\": {\"arrowcolor\": \"#2a3f5f\", \"arrowhead\": 0, \"arrowwidth\": 1}, \"autotypenumbers\": \"strict\", \"coloraxis\": {\"colorbar\": {\"outlinewidth\": 0, \"ticks\": \"\"}}, \"colorscale\": {\"diverging\": [[0, \"#8e0152\"], [0.1, \"#c51b7d\"], [0.2, \"#de77ae\"], [0.3, \"#f1b6da\"], [0.4, \"#fde0ef\"], [0.5, \"#f7f7f7\"], [0.6, \"#e6f5d0\"], [0.7, \"#b8e186\"], [0.8, \"#7fbc41\"], [0.9, \"#4d9221\"], [1, \"#276419\"]], \"sequential\": [[0.0, \"#0d0887\"], [0.1111111111111111, \"#46039f\"], [0.2222222222222222, \"#7201a8\"], [0.3333333333333333, \"#9c179e\"], [0.4444444444444444, \"#bd3786\"], [0.5555555555555556, \"#d8576b\"], [0.6666666666666666, \"#ed7953\"], [0.7777777777777778, \"#fb9f3a\"], [0.8888888888888888, \"#fdca26\"], [1.0, \"#f0f921\"]], \"sequentialminus\": [[0.0, \"#0d0887\"], [0.1111111111111111, \"#46039f\"], [0.2222222222222222, \"#7201a8\"], [0.3333333333333333, \"#9c179e\"], [0.4444444444444444, \"#bd3786\"], [0.5555555555555556, \"#d8576b\"], [0.6666666666666666, \"#ed7953\"], [0.7777777777777778, \"#fb9f3a\"], [0.8888888888888888, \"#fdca26\"], [1.0, \"#f0f921\"]]}, \"colorway\": [\"#636efa\", \"#EF553B\", \"#00cc96\", \"#ab63fa\", \"#FFA15A\", \"#19d3f3\", \"#FF6692\", \"#B6E880\", \"#FF97FF\", \"#FECB52\"], \"font\": {\"color\": \"#2a3f5f\"}, \"geo\": {\"bgcolor\": \"white\", \"lakecolor\": \"white\", \"landcolor\": \"#E5ECF6\", \"showlakes\": true, \"showland\": true, \"subunitcolor\": \"white\"}, \"hoverlabel\": {\"align\": \"left\"}, \"hovermode\": \"closest\", \"mapbox\": {\"style\": \"light\"}, \"paper_bgcolor\": \"white\", \"plot_bgcolor\": \"#E5ECF6\", \"polar\": {\"angularaxis\": {\"gridcolor\": \"white\", \"linecolor\": \"white\", \"ticks\": \"\"}, \"bgcolor\": \"#E5ECF6\", \"radialaxis\": {\"gridcolor\": \"white\", \"linecolor\": \"white\", \"ticks\": \"\"}}, \"scene\": {\"xaxis\": {\"backgroundcolor\": \"#E5ECF6\", \"gridcolor\": \"white\", \"gridwidth\": 2, \"linecolor\": \"white\", \"showbackground\": true, \"ticks\": \"\", \"zerolinecolor\": \"white\"}, \"yaxis\": {\"backgroundcolor\": \"#E5ECF6\", \"gridcolor\": \"white\", \"gridwidth\": 2, \"linecolor\": \"white\", \"showbackground\": true, \"ticks\": \"\", \"zerolinecolor\": \"white\"}, \"zaxis\": {\"backgroundcolor\": \"#E5ECF6\", \"gridcolor\": \"white\", \"gridwidth\": 2, \"linecolor\": \"white\", \"showbackground\": true, \"ticks\": \"\", \"zerolinecolor\": \"white\"}}, \"shapedefaults\": {\"line\": {\"color\": \"#2a3f5f\"}}, \"ternary\": {\"aaxis\": {\"gridcolor\": \"white\", \"linecolor\": \"white\", \"ticks\": \"\"}, \"baxis\": {\"gridcolor\": \"white\", \"linecolor\": \"white\", \"ticks\": \"\"}, \"bgcolor\": \"#E5ECF6\", \"caxis\": {\"gridcolor\": \"white\", \"linecolor\": \"white\", \"ticks\": \"\"}}, \"title\": {\"x\": 0.05}, \"xaxis\": {\"automargin\": true, \"gridcolor\": \"white\", \"linecolor\": \"white\", \"ticks\": \"\", \"title\": {\"standoff\": 15}, \"zerolinecolor\": \"white\", \"zerolinewidth\": 2}, \"yaxis\": {\"automargin\": true, \"gridcolor\": \"white\", \"linecolor\": \"white\", \"ticks\": \"\", \"title\": {\"standoff\": 15}, \"zerolinecolor\": \"white\", \"zerolinewidth\": 2}}}, \"title\": {\"text\": \"Top 10 Most Expensive\"}, \"xaxis\": {\"anchor\": \"y\", \"domain\": [0.0, 1.0], \"title\": {\"text\": \"neighborhood\"}}, \"yaxis\": {\"anchor\": \"x\", \"domain\": [0.0, 1.0], \"title\": {\"text\": \"sale_price_sqr_foot\"}}},                        {\"responsive\": true}                    ).then(function(){\n",
       "                            \n",
       "var gd = document.getElementById('a826509d-61de-43bf-8f03-7618f0f241a2');\n",
       "var x = new MutationObserver(function (mutations, observer) {{\n",
       "        var display = window.getComputedStyle(gd).display;\n",
       "        if (!display || display === 'none') {{\n",
       "            console.log([gd, 'removed!']);\n",
       "            Plotly.purge(gd);\n",
       "            observer.disconnect();\n",
       "        }}\n",
       "}});\n",
       "\n",
       "// Listen for the removal of the full notebook cells\n",
       "var notebookContainer = gd.closest('#notebook-container');\n",
       "if (notebookContainer) {{\n",
       "    x.observe(notebookContainer, {childList: true});\n",
       "}}\n",
       "\n",
       "// Listen for the clearing of the current output cell\n",
       "var outputEl = gd.closest('.output');\n",
       "if (outputEl) {{\n",
       "    x.observe(outputEl, {childList: true});\n",
       "}}\n",
       "\n",
       "                        })                };                });            </script>        </div>"
      ]
     },
     "metadata": {},
     "output_type": "display_data"
    }
   ],
   "source": [
    "top_most_expensive_neighborhoods()"
   ]
  },
  {
   "cell_type": "code",
   "execution_count": 137,
   "metadata": {},
   "outputs": [
    {
     "data": {
      "application/vnd.plotly.v1+json": {
       "config": {
        "plotlyServerURL": "https://plot.ly"
       },
       "data": [
        {
         "alignmentgroup": "True",
         "hovertemplate": "neighborhood=%{x}<br>sale_price_sqr_foot=%{y}<extra></extra>",
         "legendgroup": "",
         "marker": {
          "color": "#636efa"
         },
         "name": "",
         "offsetgroup": "",
         "orientation": "v",
         "showlegend": false,
         "textposition": "auto",
         "type": "bar",
         "x": [
          "Westwood Park",
          "Bayview Heights",
          "Visitacion Valley",
          "Silver Terrace",
          "Merced Heights",
          "Inner Parkside",
          "Mission Terrace",
          "Bernal Heights ",
          "Anza Vista",
          "Excelsior"
         ],
         "xaxis": "x",
         "y": [
          687.0875745178322,
          590.7928388746803,
          301.46617997450267,
          170.2925485152069,
          788.8448175872469,
          519.3856038526768,
          523.4662013248023,
          576.7464881132383,
          373.38219782647707,
          388.7659270023075
         ],
         "yaxis": "y"
        }
       ],
       "layout": {
        "autosize": true,
        "barmode": "relative",
        "legend": {
         "tracegroupgap": 0
        },
        "template": {
         "data": {
          "bar": [
           {
            "error_x": {
             "color": "#2a3f5f"
            },
            "error_y": {
             "color": "#2a3f5f"
            },
            "marker": {
             "line": {
              "color": "#E5ECF6",
              "width": 0.5
             }
            },
            "type": "bar"
           }
          ],
          "barpolar": [
           {
            "marker": {
             "line": {
              "color": "#E5ECF6",
              "width": 0.5
             }
            },
            "type": "barpolar"
           }
          ],
          "carpet": [
           {
            "aaxis": {
             "endlinecolor": "#2a3f5f",
             "gridcolor": "white",
             "linecolor": "white",
             "minorgridcolor": "white",
             "startlinecolor": "#2a3f5f"
            },
            "baxis": {
             "endlinecolor": "#2a3f5f",
             "gridcolor": "white",
             "linecolor": "white",
             "minorgridcolor": "white",
             "startlinecolor": "#2a3f5f"
            },
            "type": "carpet"
           }
          ],
          "choropleth": [
           {
            "colorbar": {
             "outlinewidth": 0,
             "ticks": ""
            },
            "type": "choropleth"
           }
          ],
          "contour": [
           {
            "colorbar": {
             "outlinewidth": 0,
             "ticks": ""
            },
            "colorscale": [
             [
              0,
              "#0d0887"
             ],
             [
              0.1111111111111111,
              "#46039f"
             ],
             [
              0.2222222222222222,
              "#7201a8"
             ],
             [
              0.3333333333333333,
              "#9c179e"
             ],
             [
              0.4444444444444444,
              "#bd3786"
             ],
             [
              0.5555555555555556,
              "#d8576b"
             ],
             [
              0.6666666666666666,
              "#ed7953"
             ],
             [
              0.7777777777777778,
              "#fb9f3a"
             ],
             [
              0.8888888888888888,
              "#fdca26"
             ],
             [
              1,
              "#f0f921"
             ]
            ],
            "type": "contour"
           }
          ],
          "contourcarpet": [
           {
            "colorbar": {
             "outlinewidth": 0,
             "ticks": ""
            },
            "type": "contourcarpet"
           }
          ],
          "heatmap": [
           {
            "colorbar": {
             "outlinewidth": 0,
             "ticks": ""
            },
            "colorscale": [
             [
              0,
              "#0d0887"
             ],
             [
              0.1111111111111111,
              "#46039f"
             ],
             [
              0.2222222222222222,
              "#7201a8"
             ],
             [
              0.3333333333333333,
              "#9c179e"
             ],
             [
              0.4444444444444444,
              "#bd3786"
             ],
             [
              0.5555555555555556,
              "#d8576b"
             ],
             [
              0.6666666666666666,
              "#ed7953"
             ],
             [
              0.7777777777777778,
              "#fb9f3a"
             ],
             [
              0.8888888888888888,
              "#fdca26"
             ],
             [
              1,
              "#f0f921"
             ]
            ],
            "type": "heatmap"
           }
          ],
          "heatmapgl": [
           {
            "colorbar": {
             "outlinewidth": 0,
             "ticks": ""
            },
            "colorscale": [
             [
              0,
              "#0d0887"
             ],
             [
              0.1111111111111111,
              "#46039f"
             ],
             [
              0.2222222222222222,
              "#7201a8"
             ],
             [
              0.3333333333333333,
              "#9c179e"
             ],
             [
              0.4444444444444444,
              "#bd3786"
             ],
             [
              0.5555555555555556,
              "#d8576b"
             ],
             [
              0.6666666666666666,
              "#ed7953"
             ],
             [
              0.7777777777777778,
              "#fb9f3a"
             ],
             [
              0.8888888888888888,
              "#fdca26"
             ],
             [
              1,
              "#f0f921"
             ]
            ],
            "type": "heatmapgl"
           }
          ],
          "histogram": [
           {
            "marker": {
             "colorbar": {
              "outlinewidth": 0,
              "ticks": ""
             }
            },
            "type": "histogram"
           }
          ],
          "histogram2d": [
           {
            "colorbar": {
             "outlinewidth": 0,
             "ticks": ""
            },
            "colorscale": [
             [
              0,
              "#0d0887"
             ],
             [
              0.1111111111111111,
              "#46039f"
             ],
             [
              0.2222222222222222,
              "#7201a8"
             ],
             [
              0.3333333333333333,
              "#9c179e"
             ],
             [
              0.4444444444444444,
              "#bd3786"
             ],
             [
              0.5555555555555556,
              "#d8576b"
             ],
             [
              0.6666666666666666,
              "#ed7953"
             ],
             [
              0.7777777777777778,
              "#fb9f3a"
             ],
             [
              0.8888888888888888,
              "#fdca26"
             ],
             [
              1,
              "#f0f921"
             ]
            ],
            "type": "histogram2d"
           }
          ],
          "histogram2dcontour": [
           {
            "colorbar": {
             "outlinewidth": 0,
             "ticks": ""
            },
            "colorscale": [
             [
              0,
              "#0d0887"
             ],
             [
              0.1111111111111111,
              "#46039f"
             ],
             [
              0.2222222222222222,
              "#7201a8"
             ],
             [
              0.3333333333333333,
              "#9c179e"
             ],
             [
              0.4444444444444444,
              "#bd3786"
             ],
             [
              0.5555555555555556,
              "#d8576b"
             ],
             [
              0.6666666666666666,
              "#ed7953"
             ],
             [
              0.7777777777777778,
              "#fb9f3a"
             ],
             [
              0.8888888888888888,
              "#fdca26"
             ],
             [
              1,
              "#f0f921"
             ]
            ],
            "type": "histogram2dcontour"
           }
          ],
          "mesh3d": [
           {
            "colorbar": {
             "outlinewidth": 0,
             "ticks": ""
            },
            "type": "mesh3d"
           }
          ],
          "parcoords": [
           {
            "line": {
             "colorbar": {
              "outlinewidth": 0,
              "ticks": ""
             }
            },
            "type": "parcoords"
           }
          ],
          "pie": [
           {
            "automargin": true,
            "type": "pie"
           }
          ],
          "scatter": [
           {
            "marker": {
             "colorbar": {
              "outlinewidth": 0,
              "ticks": ""
             }
            },
            "type": "scatter"
           }
          ],
          "scatter3d": [
           {
            "line": {
             "colorbar": {
              "outlinewidth": 0,
              "ticks": ""
             }
            },
            "marker": {
             "colorbar": {
              "outlinewidth": 0,
              "ticks": ""
             }
            },
            "type": "scatter3d"
           }
          ],
          "scattercarpet": [
           {
            "marker": {
             "colorbar": {
              "outlinewidth": 0,
              "ticks": ""
             }
            },
            "type": "scattercarpet"
           }
          ],
          "scattergeo": [
           {
            "marker": {
             "colorbar": {
              "outlinewidth": 0,
              "ticks": ""
             }
            },
            "type": "scattergeo"
           }
          ],
          "scattergl": [
           {
            "marker": {
             "colorbar": {
              "outlinewidth": 0,
              "ticks": ""
             }
            },
            "type": "scattergl"
           }
          ],
          "scattermapbox": [
           {
            "marker": {
             "colorbar": {
              "outlinewidth": 0,
              "ticks": ""
             }
            },
            "type": "scattermapbox"
           }
          ],
          "scatterpolar": [
           {
            "marker": {
             "colorbar": {
              "outlinewidth": 0,
              "ticks": ""
             }
            },
            "type": "scatterpolar"
           }
          ],
          "scatterpolargl": [
           {
            "marker": {
             "colorbar": {
              "outlinewidth": 0,
              "ticks": ""
             }
            },
            "type": "scatterpolargl"
           }
          ],
          "scatterternary": [
           {
            "marker": {
             "colorbar": {
              "outlinewidth": 0,
              "ticks": ""
             }
            },
            "type": "scatterternary"
           }
          ],
          "surface": [
           {
            "colorbar": {
             "outlinewidth": 0,
             "ticks": ""
            },
            "colorscale": [
             [
              0,
              "#0d0887"
             ],
             [
              0.1111111111111111,
              "#46039f"
             ],
             [
              0.2222222222222222,
              "#7201a8"
             ],
             [
              0.3333333333333333,
              "#9c179e"
             ],
             [
              0.4444444444444444,
              "#bd3786"
             ],
             [
              0.5555555555555556,
              "#d8576b"
             ],
             [
              0.6666666666666666,
              "#ed7953"
             ],
             [
              0.7777777777777778,
              "#fb9f3a"
             ],
             [
              0.8888888888888888,
              "#fdca26"
             ],
             [
              1,
              "#f0f921"
             ]
            ],
            "type": "surface"
           }
          ],
          "table": [
           {
            "cells": {
             "fill": {
              "color": "#EBF0F8"
             },
             "line": {
              "color": "white"
             }
            },
            "header": {
             "fill": {
              "color": "#C8D4E3"
             },
             "line": {
              "color": "white"
             }
            },
            "type": "table"
           }
          ]
         },
         "layout": {
          "annotationdefaults": {
           "arrowcolor": "#2a3f5f",
           "arrowhead": 0,
           "arrowwidth": 1
          },
          "autotypenumbers": "strict",
          "coloraxis": {
           "colorbar": {
            "outlinewidth": 0,
            "ticks": ""
           }
          },
          "colorscale": {
           "diverging": [
            [
             0,
             "#8e0152"
            ],
            [
             0.1,
             "#c51b7d"
            ],
            [
             0.2,
             "#de77ae"
            ],
            [
             0.3,
             "#f1b6da"
            ],
            [
             0.4,
             "#fde0ef"
            ],
            [
             0.5,
             "#f7f7f7"
            ],
            [
             0.6,
             "#e6f5d0"
            ],
            [
             0.7,
             "#b8e186"
            ],
            [
             0.8,
             "#7fbc41"
            ],
            [
             0.9,
             "#4d9221"
            ],
            [
             1,
             "#276419"
            ]
           ],
           "sequential": [
            [
             0,
             "#0d0887"
            ],
            [
             0.1111111111111111,
             "#46039f"
            ],
            [
             0.2222222222222222,
             "#7201a8"
            ],
            [
             0.3333333333333333,
             "#9c179e"
            ],
            [
             0.4444444444444444,
             "#bd3786"
            ],
            [
             0.5555555555555556,
             "#d8576b"
            ],
            [
             0.6666666666666666,
             "#ed7953"
            ],
            [
             0.7777777777777778,
             "#fb9f3a"
            ],
            [
             0.8888888888888888,
             "#fdca26"
            ],
            [
             1,
             "#f0f921"
            ]
           ],
           "sequentialminus": [
            [
             0,
             "#0d0887"
            ],
            [
             0.1111111111111111,
             "#46039f"
            ],
            [
             0.2222222222222222,
             "#7201a8"
            ],
            [
             0.3333333333333333,
             "#9c179e"
            ],
            [
             0.4444444444444444,
             "#bd3786"
            ],
            [
             0.5555555555555556,
             "#d8576b"
            ],
            [
             0.6666666666666666,
             "#ed7953"
            ],
            [
             0.7777777777777778,
             "#fb9f3a"
            ],
            [
             0.8888888888888888,
             "#fdca26"
            ],
            [
             1,
             "#f0f921"
            ]
           ]
          },
          "colorway": [
           "#636efa",
           "#EF553B",
           "#00cc96",
           "#ab63fa",
           "#FFA15A",
           "#19d3f3",
           "#FF6692",
           "#B6E880",
           "#FF97FF",
           "#FECB52"
          ],
          "font": {
           "color": "#2a3f5f"
          },
          "geo": {
           "bgcolor": "white",
           "lakecolor": "white",
           "landcolor": "#E5ECF6",
           "showlakes": true,
           "showland": true,
           "subunitcolor": "white"
          },
          "hoverlabel": {
           "align": "left"
          },
          "hovermode": "closest",
          "mapbox": {
           "style": "light"
          },
          "paper_bgcolor": "white",
          "plot_bgcolor": "#E5ECF6",
          "polar": {
           "angularaxis": {
            "gridcolor": "white",
            "linecolor": "white",
            "ticks": ""
           },
           "bgcolor": "#E5ECF6",
           "radialaxis": {
            "gridcolor": "white",
            "linecolor": "white",
            "ticks": ""
           }
          },
          "scene": {
           "xaxis": {
            "backgroundcolor": "#E5ECF6",
            "gridcolor": "white",
            "gridwidth": 2,
            "linecolor": "white",
            "showbackground": true,
            "ticks": "",
            "zerolinecolor": "white"
           },
           "yaxis": {
            "backgroundcolor": "#E5ECF6",
            "gridcolor": "white",
            "gridwidth": 2,
            "linecolor": "white",
            "showbackground": true,
            "ticks": "",
            "zerolinecolor": "white"
           },
           "zaxis": {
            "backgroundcolor": "#E5ECF6",
            "gridcolor": "white",
            "gridwidth": 2,
            "linecolor": "white",
            "showbackground": true,
            "ticks": "",
            "zerolinecolor": "white"
           }
          },
          "shapedefaults": {
           "line": {
            "color": "#2a3f5f"
           }
          },
          "ternary": {
           "aaxis": {
            "gridcolor": "white",
            "linecolor": "white",
            "ticks": ""
           },
           "baxis": {
            "gridcolor": "white",
            "linecolor": "white",
            "ticks": ""
           },
           "bgcolor": "#E5ECF6",
           "caxis": {
            "gridcolor": "white",
            "linecolor": "white",
            "ticks": ""
           }
          },
          "title": {
           "x": 0.05
          },
          "xaxis": {
           "automargin": true,
           "gridcolor": "white",
           "linecolor": "white",
           "ticks": "",
           "title": {
            "standoff": 15
           },
           "zerolinecolor": "white",
           "zerolinewidth": 2
          },
          "yaxis": {
           "automargin": true,
           "gridcolor": "white",
           "linecolor": "white",
           "ticks": "",
           "title": {
            "standoff": 15
           },
           "zerolinecolor": "white",
           "zerolinewidth": 2
          }
         }
        },
        "title": {
         "text": "Top 10 Most Expensive Rent"
        },
        "xaxis": {
         "anchor": "y",
         "autorange": true,
         "domain": [
          0,
          1
         ],
         "range": [
          -0.5,
          9.5
         ],
         "title": {
          "text": "neighborhood"
         },
         "type": "category"
        },
        "yaxis": {
         "anchor": "x",
         "autorange": true,
         "domain": [
          0,
          1
         ],
         "range": [
          0,
          830.3629658813126
         ],
         "title": {
          "text": "sale_price_sqr_foot"
         },
         "type": "linear"
        }
       }
      },
      "image/png": "[encoded data removed]",
      "text/html": [
       "<div>                            <div id=\"adf6e08c-730a-42e5-b45b-48f4a9b9776c\" class=\"plotly-graph-div\" style=\"height:525px; width:100%;\"></div>            <script type=\"text/javascript\">                require([\"plotly\"], function(Plotly) {                    window.PLOTLYENV=window.PLOTLYENV || {};                                    if (document.getElementById(\"adf6e08c-730a-42e5-b45b-48f4a9b9776c\")) {                    Plotly.newPlot(                        \"adf6e08c-730a-42e5-b45b-48f4a9b9776c\",                        [{\"alignmentgroup\": \"True\", \"hovertemplate\": \"neighborhood=%{x}<br>sale_price_sqr_foot=%{y}<extra></extra>\", \"legendgroup\": \"\", \"marker\": {\"color\": \"#636efa\"}, \"name\": \"\", \"offsetgroup\": \"\", \"orientation\": \"v\", \"showlegend\": false, \"textposition\": \"auto\", \"type\": \"bar\", \"x\": [\"Westwood Park\", \"Bayview Heights\", \"Visitacion Valley\", \"Silver Terrace\", \"Merced Heights\", \"Inner Parkside\", \"Mission Terrace\", \"Bernal Heights \", \"Anza Vista\", \"Excelsior\"], \"xaxis\": \"x\", \"y\": [687.0875745178322, 590.7928388746803, 301.46617997450267, 170.2925485152069, 788.8448175872469, 519.3856038526768, 523.4662013248023, 576.7464881132383, 373.38219782647707, 388.7659270023075], \"yaxis\": \"y\"}],                        {\"barmode\": \"relative\", \"legend\": {\"tracegroupgap\": 0}, \"template\": {\"data\": {\"bar\": [{\"error_x\": {\"color\": \"#2a3f5f\"}, \"error_y\": {\"color\": \"#2a3f5f\"}, \"marker\": {\"line\": {\"color\": \"#E5ECF6\", \"width\": 0.5}}, \"type\": \"bar\"}], \"barpolar\": [{\"marker\": {\"line\": {\"color\": \"#E5ECF6\", \"width\": 0.5}}, \"type\": \"barpolar\"}], \"carpet\": [{\"aaxis\": {\"endlinecolor\": \"#2a3f5f\", \"gridcolor\": \"white\", \"linecolor\": \"white\", \"minorgridcolor\": \"white\", \"startlinecolor\": \"#2a3f5f\"}, \"baxis\": {\"endlinecolor\": \"#2a3f5f\", \"gridcolor\": \"white\", \"linecolor\": \"white\", \"minorgridcolor\": \"white\", \"startlinecolor\": \"#2a3f5f\"}, \"type\": \"carpet\"}], \"choropleth\": [{\"colorbar\": {\"outlinewidth\": 0, \"ticks\": \"\"}, \"type\": \"choropleth\"}], \"contour\": [{\"colorbar\": {\"outlinewidth\": 0, \"ticks\": \"\"}, \"colorscale\": [[0.0, \"#0d0887\"], [0.1111111111111111, \"#46039f\"], [0.2222222222222222, \"#7201a8\"], [0.3333333333333333, \"#9c179e\"], [0.4444444444444444, \"#bd3786\"], [0.5555555555555556, \"#d8576b\"], [0.6666666666666666, \"#ed7953\"], [0.7777777777777778, \"#fb9f3a\"], [0.8888888888888888, \"#fdca26\"], [1.0, \"#f0f921\"]], \"type\": \"contour\"}], \"contourcarpet\": [{\"colorbar\": {\"outlinewidth\": 0, \"ticks\": \"\"}, \"type\": \"contourcarpet\"}], \"heatmap\": [{\"colorbar\": {\"outlinewidth\": 0, \"ticks\": \"\"}, \"colorscale\": [[0.0, \"#0d0887\"], [0.1111111111111111, \"#46039f\"], [0.2222222222222222, \"#7201a8\"], [0.3333333333333333, \"#9c179e\"], [0.4444444444444444, \"#bd3786\"], [0.5555555555555556, \"#d8576b\"], [0.6666666666666666, \"#ed7953\"], [0.7777777777777778, \"#fb9f3a\"], [0.8888888888888888, \"#fdca26\"], [1.0, \"#f0f921\"]], \"type\": \"heatmap\"}], \"heatmapgl\": [{\"colorbar\": {\"outlinewidth\": 0, \"ticks\": \"\"}, \"colorscale\": [[0.0, \"#0d0887\"], [0.1111111111111111, \"#46039f\"], [0.2222222222222222, \"#7201a8\"], [0.3333333333333333, \"#9c179e\"], [0.4444444444444444, \"#bd3786\"], [0.5555555555555556, \"#d8576b\"], [0.6666666666666666, \"#ed7953\"], [0.7777777777777778, \"#fb9f3a\"], [0.8888888888888888, \"#fdca26\"], [1.0, \"#f0f921\"]], \"type\": \"heatmapgl\"}], \"histogram\": [{\"marker\": {\"colorbar\": {\"outlinewidth\": 0, \"ticks\": \"\"}}, \"type\": \"histogram\"}], \"histogram2d\": [{\"colorbar\": {\"outlinewidth\": 0, \"ticks\": \"\"}, \"colorscale\": [[0.0, \"#0d0887\"], [0.1111111111111111, \"#46039f\"], [0.2222222222222222, \"#7201a8\"], [0.3333333333333333, \"#9c179e\"], [0.4444444444444444, \"#bd3786\"], [0.5555555555555556, \"#d8576b\"], [0.6666666666666666, \"#ed7953\"], [0.7777777777777778, \"#fb9f3a\"], [0.8888888888888888, \"#fdca26\"], [1.0, \"#f0f921\"]], \"type\": \"histogram2d\"}], \"histogram2dcontour\": [{\"colorbar\": {\"outlinewidth\": 0, \"ticks\": \"\"}, \"colorscale\": [[0.0, \"#0d0887\"], [0.1111111111111111, \"#46039f\"], [0.2222222222222222, \"#7201a8\"], [0.3333333333333333, \"#9c179e\"], [0.4444444444444444, \"#bd3786\"], [0.5555555555555556, \"#d8576b\"], [0.6666666666666666, \"#ed7953\"], [0.7777777777777778, \"#fb9f3a\"], [0.8888888888888888, \"#fdca26\"], [1.0, \"#f0f921\"]], \"type\": \"histogram2dcontour\"}], \"mesh3d\": [{\"colorbar\": {\"outlinewidth\": 0, \"ticks\": \"\"}, \"type\": \"mesh3d\"}], \"parcoords\": [{\"line\": {\"colorbar\": {\"outlinewidth\": 0, \"ticks\": \"\"}}, \"type\": \"parcoords\"}], \"pie\": [{\"automargin\": true, \"type\": \"pie\"}], \"scatter\": [{\"marker\": {\"colorbar\": {\"outlinewidth\": 0, \"ticks\": \"\"}}, \"type\": \"scatter\"}], \"scatter3d\": [{\"line\": {\"colorbar\": {\"outlinewidth\": 0, \"ticks\": \"\"}}, \"marker\": {\"colorbar\": {\"outlinewidth\": 0, \"ticks\": \"\"}}, \"type\": \"scatter3d\"}], \"scattercarpet\": [{\"marker\": {\"colorbar\": {\"outlinewidth\": 0, \"ticks\": \"\"}}, \"type\": \"scattercarpet\"}], \"scattergeo\": [{\"marker\": {\"colorbar\": {\"outlinewidth\": 0, \"ticks\": \"\"}}, \"type\": \"scattergeo\"}], \"scattergl\": [{\"marker\": {\"colorbar\": {\"outlinewidth\": 0, \"ticks\": \"\"}}, \"type\": \"scattergl\"}], \"scattermapbox\": [{\"marker\": {\"colorbar\": {\"outlinewidth\": 0, \"ticks\": \"\"}}, \"type\": \"scattermapbox\"}], \"scatterpolar\": [{\"marker\": {\"colorbar\": {\"outlinewidth\": 0, \"ticks\": \"\"}}, \"type\": \"scatterpolar\"}], \"scatterpolargl\": [{\"marker\": {\"colorbar\": {\"outlinewidth\": 0, \"ticks\": \"\"}}, \"type\": \"scatterpolargl\"}], \"scatterternary\": [{\"marker\": {\"colorbar\": {\"outlinewidth\": 0, \"ticks\": \"\"}}, \"type\": \"scatterternary\"}], \"surface\": [{\"colorbar\": {\"outlinewidth\": 0, \"ticks\": \"\"}, \"colorscale\": [[0.0, \"#0d0887\"], [0.1111111111111111, \"#46039f\"], [0.2222222222222222, \"#7201a8\"], [0.3333333333333333, \"#9c179e\"], [0.4444444444444444, \"#bd3786\"], [0.5555555555555556, \"#d8576b\"], [0.6666666666666666, \"#ed7953\"], [0.7777777777777778, \"#fb9f3a\"], [0.8888888888888888, \"#fdca26\"], [1.0, \"#f0f921\"]], \"type\": \"surface\"}], \"table\": [{\"cells\": {\"fill\": {\"color\": \"#EBF0F8\"}, \"line\": {\"color\": \"white\"}}, \"header\": {\"fill\": {\"color\": \"#C8D4E3\"}, \"line\": {\"color\": \"white\"}}, \"type\": \"table\"}]}, \"layout\": {\"annotationdefaults\": {\"arrowcolor\": \"#2a3f5f\", \"arrowhead\": 0, \"arrowwidth\": 1}, \"autotypenumbers\": \"strict\", \"coloraxis\": {\"colorbar\": {\"outlinewidth\": 0, \"ticks\": \"\"}}, \"colorscale\": {\"diverging\": [[0, \"#8e0152\"], [0.1, \"#c51b7d\"], [0.2, \"#de77ae\"], [0.3, \"#f1b6da\"], [0.4, \"#fde0ef\"], [0.5, \"#f7f7f7\"], [0.6, \"#e6f5d0\"], [0.7, \"#b8e186\"], [0.8, \"#7fbc41\"], [0.9, \"#4d9221\"], [1, \"#276419\"]], \"sequential\": [[0.0, \"#0d0887\"], [0.1111111111111111, \"#46039f\"], [0.2222222222222222, \"#7201a8\"], [0.3333333333333333, \"#9c179e\"], [0.4444444444444444, \"#bd3786\"], [0.5555555555555556, \"#d8576b\"], [0.6666666666666666, \"#ed7953\"], [0.7777777777777778, \"#fb9f3a\"], [0.8888888888888888, \"#fdca26\"], [1.0, \"#f0f921\"]], \"sequentialminus\": [[0.0, \"#0d0887\"], [0.1111111111111111, \"#46039f\"], [0.2222222222222222, \"#7201a8\"], [0.3333333333333333, \"#9c179e\"], [0.4444444444444444, \"#bd3786\"], [0.5555555555555556, \"#d8576b\"], [0.6666666666666666, \"#ed7953\"], [0.7777777777777778, \"#fb9f3a\"], [0.8888888888888888, \"#fdca26\"], [1.0, \"#f0f921\"]]}, \"colorway\": [\"#636efa\", \"#EF553B\", \"#00cc96\", \"#ab63fa\", \"#FFA15A\", \"#19d3f3\", \"#FF6692\", \"#B6E880\", \"#FF97FF\", \"#FECB52\"], \"font\": {\"color\": \"#2a3f5f\"}, \"geo\": {\"bgcolor\": \"white\", \"lakecolor\": \"white\", \"landcolor\": \"#E5ECF6\", \"showlakes\": true, \"showland\": true, \"subunitcolor\": \"white\"}, \"hoverlabel\": {\"align\": \"left\"}, \"hovermode\": \"closest\", \"mapbox\": {\"style\": \"light\"}, \"paper_bgcolor\": \"white\", \"plot_bgcolor\": \"#E5ECF6\", \"polar\": {\"angularaxis\": {\"gridcolor\": \"white\", \"linecolor\": \"white\", \"ticks\": \"\"}, \"bgcolor\": \"#E5ECF6\", \"radialaxis\": {\"gridcolor\": \"white\", \"linecolor\": \"white\", \"ticks\": \"\"}}, \"scene\": {\"xaxis\": {\"backgroundcolor\": \"#E5ECF6\", \"gridcolor\": \"white\", \"gridwidth\": 2, \"linecolor\": \"white\", \"showbackground\": true, \"ticks\": \"\", \"zerolinecolor\": \"white\"}, \"yaxis\": {\"backgroundcolor\": \"#E5ECF6\", \"gridcolor\": \"white\", \"gridwidth\": 2, \"linecolor\": \"white\", \"showbackground\": true, \"ticks\": \"\", \"zerolinecolor\": \"white\"}, \"zaxis\": {\"backgroundcolor\": \"#E5ECF6\", \"gridcolor\": \"white\", \"gridwidth\": 2, \"linecolor\": \"white\", \"showbackground\": true, \"ticks\": \"\", \"zerolinecolor\": \"white\"}}, \"shapedefaults\": {\"line\": {\"color\": \"#2a3f5f\"}}, \"ternary\": {\"aaxis\": {\"gridcolor\": \"white\", \"linecolor\": \"white\", \"ticks\": \"\"}, \"baxis\": {\"gridcolor\": \"white\", \"linecolor\": \"white\", \"ticks\": \"\"}, \"bgcolor\": \"#E5ECF6\", \"caxis\": {\"gridcolor\": \"white\", \"linecolor\": \"white\", \"ticks\": \"\"}}, \"title\": {\"x\": 0.05}, \"xaxis\": {\"automargin\": true, \"gridcolor\": \"white\", \"linecolor\": \"white\", \"ticks\": \"\", \"title\": {\"standoff\": 15}, \"zerolinecolor\": \"white\", \"zerolinewidth\": 2}, \"yaxis\": {\"automargin\": true, \"gridcolor\": \"white\", \"linecolor\": \"white\", \"ticks\": \"\", \"title\": {\"standoff\": 15}, \"zerolinecolor\": \"white\", \"zerolinewidth\": 2}}}, \"title\": {\"text\": \"Top 10 Most Expensive Rent\"}, \"xaxis\": {\"anchor\": \"y\", \"domain\": [0.0, 1.0], \"title\": {\"text\": \"neighborhood\"}}, \"yaxis\": {\"anchor\": \"x\", \"domain\": [0.0, 1.0], \"title\": {\"text\": \"sale_price_sqr_foot\"}}},                        {\"responsive\": true}                    ).then(function(){\n",
       "                            \n",
       "var gd = document.getElementById('adf6e08c-730a-42e5-b45b-48f4a9b9776c');\n",
       "var x = new MutationObserver(function (mutations, observer) {{\n",
       "        var display = window.getComputedStyle(gd).display;\n",
       "        if (!display || display === 'none') {{\n",
       "            console.log([gd, 'removed!']);\n",
       "            Plotly.purge(gd);\n",
       "            observer.disconnect();\n",
       "        }}\n",
       "}});\n",
       "\n",
       "// Listen for the removal of the full notebook cells\n",
       "var notebookContainer = gd.closest('#notebook-container');\n",
       "if (notebookContainer) {{\n",
       "    x.observe(notebookContainer, {childList: true});\n",
       "}}\n",
       "\n",
       "// Listen for the clearing of the current output cell\n",
       "var outputEl = gd.closest('.output');\n",
       "if (outputEl) {{\n",
       "    x.observe(outputEl, {childList: true});\n",
       "}}\n",
       "\n",
       "                        })                };                });            </script>        </div>"
      ]
     },
     "metadata": {},
     "output_type": "display_data"
    }
   ],
   "source": [
    "most_expensive_neighborhoods_rent_sales()"
   ]
  },
  {
   "cell_type": "code",
   "execution_count": 138,
   "metadata": {},
   "outputs": [
    {
     "name": "stdout",
     "output_type": "stream",
     "text": [
      "Launching server at http://localhost:54022\n"
     ]
    },
    {
     "data": {
      "text/plain": [
       "<bokeh.server.server.Server at 0x1d878a68940>"
      ]
     },
     "execution_count": 138,
     "metadata": {},
     "output_type": "execute_result"
    }
   ],
   "source": [
    "neighborhood_map().show()"
   ]
  },
  {
   "cell_type": "code",
   "execution_count": 139,
   "metadata": {},
   "outputs": [
    {
     "data": {
      "application/vnd.plotly.v1+json": {
       "config": {
        "plotlyServerURL": "https://plot.ly"
       },
       "data": [
        {
         "dimensions": [
          {
           "label": "neighborhood",
           "values": [
            "Union Square District",
            "Merced Heights",
            "Miraloma Park",
            "Pacific Heights",
            "Westwood Park",
            "Telegraph Hill",
            "Presidio Heights",
            "Cow Hollow",
            "Potrero Hill",
            "South Beach"
           ]
          },
          {
           "label": "sale_price_sqr_foot",
           "values": [
            903.9932576720645,
            788.8448175872469,
            779.810842264425,
            689.5558168113663,
            687.0875745178322,
            676.5065775293255,
            675.3502120510033,
            665.9640415783227,
            662.0136128276529,
            650.1244791945729
           ]
          },
          {
           "label": "housing_units",
           "values": [
            377427.5,
            380348,
            375967.25,
            378401,
            382295,
            378401,
            378401,
            378401,
            378401,
            375805
           ]
          },
          {
           "label": "gross_rent",
           "values": [
            2555.1666666666665,
            3414,
            2155.25,
            2817.285714285714,
            3959,
            2817.285714285714,
            2817.285714285714,
            2817.285714285714,
            2817.285714285714,
            2099
           ]
          }
         ],
         "domain": {
          "x": [
           0,
           1
          ],
          "y": [
           0,
           1
          ]
         },
         "line": {
          "color": [
           903.9932576720645,
           788.8448175872469,
           779.810842264425,
           689.5558168113663,
           687.0875745178322,
           676.5065775293255,
           675.3502120510033,
           665.9640415783227,
           662.0136128276529,
           650.1244791945729
          ],
          "coloraxis": "coloraxis"
         },
         "name": "",
         "type": "parcats"
        }
       ],
       "layout": {
        "autosize": true,
        "coloraxis": {
         "colorbar": {
          "title": {
           "text": "sale_price_sqr_foot"
          }
         },
         "colorscale": [
          [
           0,
           "#000004"
          ],
          [
           0.1111111111111111,
           "#1b0c41"
          ],
          [
           0.2222222222222222,
           "#4a0c6b"
          ],
          [
           0.3333333333333333,
           "#781c6d"
          ],
          [
           0.4444444444444444,
           "#a52c60"
          ],
          [
           0.5555555555555556,
           "#cf4446"
          ],
          [
           0.6666666666666666,
           "#ed6925"
          ],
          [
           0.7777777777777778,
           "#fb9b06"
          ],
          [
           0.8888888888888888,
           "#f7d13d"
          ],
          [
           1,
           "#fcffa4"
          ]
         ]
        },
        "legend": {
         "tracegroupgap": 0
        },
        "margin": {
         "t": 60
        },
        "template": {
         "data": {
          "bar": [
           {
            "error_x": {
             "color": "#2a3f5f"
            },
            "error_y": {
             "color": "#2a3f5f"
            },
            "marker": {
             "line": {
              "color": "#E5ECF6",
              "width": 0.5
             }
            },
            "type": "bar"
           }
          ],
          "barpolar": [
           {
            "marker": {
             "line": {
              "color": "#E5ECF6",
              "width": 0.5
             }
            },
            "type": "barpolar"
           }
          ],
          "carpet": [
           {
            "aaxis": {
             "endlinecolor": "#2a3f5f",
             "gridcolor": "white",
             "linecolor": "white",
             "minorgridcolor": "white",
             "startlinecolor": "#2a3f5f"
            },
            "baxis": {
             "endlinecolor": "#2a3f5f",
             "gridcolor": "white",
             "linecolor": "white",
             "minorgridcolor": "white",
             "startlinecolor": "#2a3f5f"
            },
            "type": "carpet"
           }
          ],
          "choropleth": [
           {
            "colorbar": {
             "outlinewidth": 0,
             "ticks": ""
            },
            "type": "choropleth"
           }
          ],
          "contour": [
           {
            "colorbar": {
             "outlinewidth": 0,
             "ticks": ""
            },
            "colorscale": [
             [
              0,
              "#0d0887"
             ],
             [
              0.1111111111111111,
              "#46039f"
             ],
             [
              0.2222222222222222,
              "#7201a8"
             ],
             [
              0.3333333333333333,
              "#9c179e"
             ],
             [
              0.4444444444444444,
              "#bd3786"
             ],
             [
              0.5555555555555556,
              "#d8576b"
             ],
             [
              0.6666666666666666,
              "#ed7953"
             ],
             [
              0.7777777777777778,
              "#fb9f3a"
             ],
             [
              0.8888888888888888,
              "#fdca26"
             ],
             [
              1,
              "#f0f921"
             ]
            ],
            "type": "contour"
           }
          ],
          "contourcarpet": [
           {
            "colorbar": {
             "outlinewidth": 0,
             "ticks": ""
            },
            "type": "contourcarpet"
           }
          ],
          "heatmap": [
           {
            "colorbar": {
             "outlinewidth": 0,
             "ticks": ""
            },
            "colorscale": [
             [
              0,
              "#0d0887"
             ],
             [
              0.1111111111111111,
              "#46039f"
             ],
             [
              0.2222222222222222,
              "#7201a8"
             ],
             [
              0.3333333333333333,
              "#9c179e"
             ],
             [
              0.4444444444444444,
              "#bd3786"
             ],
             [
              0.5555555555555556,
              "#d8576b"
             ],
             [
              0.6666666666666666,
              "#ed7953"
             ],
             [
              0.7777777777777778,
              "#fb9f3a"
             ],
             [
              0.8888888888888888,
              "#fdca26"
             ],
             [
              1,
              "#f0f921"
             ]
            ],
            "type": "heatmap"
           }
          ],
          "heatmapgl": [
           {
            "colorbar": {
             "outlinewidth": 0,
             "ticks": ""
            },
            "colorscale": [
             [
              0,
              "#0d0887"
             ],
             [
              0.1111111111111111,
              "#46039f"
             ],
             [
              0.2222222222222222,
              "#7201a8"
             ],
             [
              0.3333333333333333,
              "#9c179e"
             ],
             [
              0.4444444444444444,
              "#bd3786"
             ],
             [
              0.5555555555555556,
              "#d8576b"
             ],
             [
              0.6666666666666666,
              "#ed7953"
             ],
             [
              0.7777777777777778,
              "#fb9f3a"
             ],
             [
              0.8888888888888888,
              "#fdca26"
             ],
             [
              1,
              "#f0f921"
             ]
            ],
            "type": "heatmapgl"
           }
          ],
          "histogram": [
           {
            "marker": {
             "colorbar": {
              "outlinewidth": 0,
              "ticks": ""
             }
            },
            "type": "histogram"
           }
          ],
          "histogram2d": [
           {
            "colorbar": {
             "outlinewidth": 0,
             "ticks": ""
            },
            "colorscale": [
             [
              0,
              "#0d0887"
             ],
             [
              0.1111111111111111,
              "#46039f"
             ],
             [
              0.2222222222222222,
              "#7201a8"
             ],
             [
              0.3333333333333333,
              "#9c179e"
             ],
             [
              0.4444444444444444,
              "#bd3786"
             ],
             [
              0.5555555555555556,
              "#d8576b"
             ],
             [
              0.6666666666666666,
              "#ed7953"
             ],
             [
              0.7777777777777778,
              "#fb9f3a"
             ],
             [
              0.8888888888888888,
              "#fdca26"
             ],
             [
              1,
              "#f0f921"
             ]
            ],
            "type": "histogram2d"
           }
          ],
          "histogram2dcontour": [
           {
            "colorbar": {
             "outlinewidth": 0,
             "ticks": ""
            },
            "colorscale": [
             [
              0,
              "#0d0887"
             ],
             [
              0.1111111111111111,
              "#46039f"
             ],
             [
              0.2222222222222222,
              "#7201a8"
             ],
             [
              0.3333333333333333,
              "#9c179e"
             ],
             [
              0.4444444444444444,
              "#bd3786"
             ],
             [
              0.5555555555555556,
              "#d8576b"
             ],
             [
              0.6666666666666666,
              "#ed7953"
             ],
             [
              0.7777777777777778,
              "#fb9f3a"
             ],
             [
              0.8888888888888888,
              "#fdca26"
             ],
             [
              1,
              "#f0f921"
             ]
            ],
            "type": "histogram2dcontour"
           }
          ],
          "mesh3d": [
           {
            "colorbar": {
             "outlinewidth": 0,
             "ticks": ""
            },
            "type": "mesh3d"
           }
          ],
          "parcoords": [
           {
            "line": {
             "colorbar": {
              "outlinewidth": 0,
              "ticks": ""
             }
            },
            "type": "parcoords"
           }
          ],
          "pie": [
           {
            "automargin": true,
            "type": "pie"
           }
          ],
          "scatter": [
           {
            "marker": {
             "colorbar": {
              "outlinewidth": 0,
              "ticks": ""
             }
            },
            "type": "scatter"
           }
          ],
          "scatter3d": [
           {
            "line": {
             "colorbar": {
              "outlinewidth": 0,
              "ticks": ""
             }
            },
            "marker": {
             "colorbar": {
              "outlinewidth": 0,
              "ticks": ""
             }
            },
            "type": "scatter3d"
           }
          ],
          "scattercarpet": [
           {
            "marker": {
             "colorbar": {
              "outlinewidth": 0,
              "ticks": ""
             }
            },
            "type": "scattercarpet"
           }
          ],
          "scattergeo": [
           {
            "marker": {
             "colorbar": {
              "outlinewidth": 0,
              "ticks": ""
             }
            },
            "type": "scattergeo"
           }
          ],
          "scattergl": [
           {
            "marker": {
             "colorbar": {
              "outlinewidth": 0,
              "ticks": ""
             }
            },
            "type": "scattergl"
           }
          ],
          "scattermapbox": [
           {
            "marker": {
             "colorbar": {
              "outlinewidth": 0,
              "ticks": ""
             }
            },
            "type": "scattermapbox"
           }
          ],
          "scatterpolar": [
           {
            "marker": {
             "colorbar": {
              "outlinewidth": 0,
              "ticks": ""
             }
            },
            "type": "scatterpolar"
           }
          ],
          "scatterpolargl": [
           {
            "marker": {
             "colorbar": {
              "outlinewidth": 0,
              "ticks": ""
             }
            },
            "type": "scatterpolargl"
           }
          ],
          "scatterternary": [
           {
            "marker": {
             "colorbar": {
              "outlinewidth": 0,
              "ticks": ""
             }
            },
            "type": "scatterternary"
           }
          ],
          "surface": [
           {
            "colorbar": {
             "outlinewidth": 0,
             "ticks": ""
            },
            "colorscale": [
             [
              0,
              "#0d0887"
             ],
             [
              0.1111111111111111,
              "#46039f"
             ],
             [
              0.2222222222222222,
              "#7201a8"
             ],
             [
              0.3333333333333333,
              "#9c179e"
             ],
             [
              0.4444444444444444,
              "#bd3786"
             ],
             [
              0.5555555555555556,
              "#d8576b"
             ],
             [
              0.6666666666666666,
              "#ed7953"
             ],
             [
              0.7777777777777778,
              "#fb9f3a"
             ],
             [
              0.8888888888888888,
              "#fdca26"
             ],
             [
              1,
              "#f0f921"
             ]
            ],
            "type": "surface"
           }
          ],
          "table": [
           {
            "cells": {
             "fill": {
              "color": "#EBF0F8"
             },
             "line": {
              "color": "white"
             }
            },
            "header": {
             "fill": {
              "color": "#C8D4E3"
             },
             "line": {
              "color": "white"
             }
            },
            "type": "table"
           }
          ]
         },
         "layout": {
          "annotationdefaults": {
           "arrowcolor": "#2a3f5f",
           "arrowhead": 0,
           "arrowwidth": 1
          },
          "autotypenumbers": "strict",
          "coloraxis": {
           "colorbar": {
            "outlinewidth": 0,
            "ticks": ""
           }
          },
          "colorscale": {
           "diverging": [
            [
             0,
             "#8e0152"
            ],
            [
             0.1,
             "#c51b7d"
            ],
            [
             0.2,
             "#de77ae"
            ],
            [
             0.3,
             "#f1b6da"
            ],
            [
             0.4,
             "#fde0ef"
            ],
            [
             0.5,
             "#f7f7f7"
            ],
            [
             0.6,
             "#e6f5d0"
            ],
            [
             0.7,
             "#b8e186"
            ],
            [
             0.8,
             "#7fbc41"
            ],
            [
             0.9,
             "#4d9221"
            ],
            [
             1,
             "#276419"
            ]
           ],
           "sequential": [
            [
             0,
             "#0d0887"
            ],
            [
             0.1111111111111111,
             "#46039f"
            ],
            [
             0.2222222222222222,
             "#7201a8"
            ],
            [
             0.3333333333333333,
             "#9c179e"
            ],
            [
             0.4444444444444444,
             "#bd3786"
            ],
            [
             0.5555555555555556,
             "#d8576b"
            ],
            [
             0.6666666666666666,
             "#ed7953"
            ],
            [
             0.7777777777777778,
             "#fb9f3a"
            ],
            [
             0.8888888888888888,
             "#fdca26"
            ],
            [
             1,
             "#f0f921"
            ]
           ],
           "sequentialminus": [
            [
             0,
             "#0d0887"
            ],
            [
             0.1111111111111111,
             "#46039f"
            ],
            [
             0.2222222222222222,
             "#7201a8"
            ],
            [
             0.3333333333333333,
             "#9c179e"
            ],
            [
             0.4444444444444444,
             "#bd3786"
            ],
            [
             0.5555555555555556,
             "#d8576b"
            ],
            [
             0.6666666666666666,
             "#ed7953"
            ],
            [
             0.7777777777777778,
             "#fb9f3a"
            ],
            [
             0.8888888888888888,
             "#fdca26"
            ],
            [
             1,
             "#f0f921"
            ]
           ]
          },
          "colorway": [
           "#636efa",
           "#EF553B",
           "#00cc96",
           "#ab63fa",
           "#FFA15A",
           "#19d3f3",
           "#FF6692",
           "#B6E880",
           "#FF97FF",
           "#FECB52"
          ],
          "font": {
           "color": "#2a3f5f"
          },
          "geo": {
           "bgcolor": "white",
           "lakecolor": "white",
           "landcolor": "#E5ECF6",
           "showlakes": true,
           "showland": true,
           "subunitcolor": "white"
          },
          "hoverlabel": {
           "align": "left"
          },
          "hovermode": "closest",
          "mapbox": {
           "style": "light"
          },
          "paper_bgcolor": "white",
          "plot_bgcolor": "#E5ECF6",
          "polar": {
           "angularaxis": {
            "gridcolor": "white",
            "linecolor": "white",
            "ticks": ""
           },
           "bgcolor": "#E5ECF6",
           "radialaxis": {
            "gridcolor": "white",
            "linecolor": "white",
            "ticks": ""
           }
          },
          "scene": {
           "xaxis": {
            "backgroundcolor": "#E5ECF6",
            "gridcolor": "white",
            "gridwidth": 2,
            "linecolor": "white",
            "showbackground": true,
            "ticks": "",
            "zerolinecolor": "white"
           },
           "yaxis": {
            "backgroundcolor": "#E5ECF6",
            "gridcolor": "white",
            "gridwidth": 2,
            "linecolor": "white",
            "showbackground": true,
            "ticks": "",
            "zerolinecolor": "white"
           },
           "zaxis": {
            "backgroundcolor": "#E5ECF6",
            "gridcolor": "white",
            "gridwidth": 2,
            "linecolor": "white",
            "showbackground": true,
            "ticks": "",
            "zerolinecolor": "white"
           }
          },
          "shapedefaults": {
           "line": {
            "color": "#2a3f5f"
           }
          },
          "ternary": {
           "aaxis": {
            "gridcolor": "white",
            "linecolor": "white",
            "ticks": ""
           },
           "baxis": {
            "gridcolor": "white",
            "linecolor": "white",
            "ticks": ""
           },
           "bgcolor": "#E5ECF6",
           "caxis": {
            "gridcolor": "white",
            "linecolor": "white",
            "ticks": ""
           }
          },
          "title": {
           "x": 0.05
          },
          "xaxis": {
           "automargin": true,
           "gridcolor": "white",
           "linecolor": "white",
           "ticks": "",
           "title": {
            "standoff": 15
           },
           "zerolinecolor": "white",
           "zerolinewidth": 2
          },
          "yaxis": {
           "automargin": true,
           "gridcolor": "white",
           "linecolor": "white",
           "ticks": "",
           "title": {
            "standoff": 15
           },
           "zerolinecolor": "white",
           "zerolinewidth": 2
          }
         }
        }
       }
      },
      "image/png": "[encoded data removed]",
      "text/html": [
       "<div>                            <div id=\"b9efe224-1cb7-46f1-b48b-0ee4c08c0334\" class=\"plotly-graph-div\" style=\"height:525px; width:100%;\"></div>            <script type=\"text/javascript\">                require([\"plotly\"], function(Plotly) {                    window.PLOTLYENV=window.PLOTLYENV || {};                                    if (document.getElementById(\"b9efe224-1cb7-46f1-b48b-0ee4c08c0334\")) {                    Plotly.newPlot(                        \"b9efe224-1cb7-46f1-b48b-0ee4c08c0334\",                        [{\"dimensions\": [{\"label\": \"neighborhood\", \"values\": [\"Union Square District\", \"Merced Heights\", \"Miraloma Park\", \"Pacific Heights\", \"Westwood Park\", \"Telegraph Hill\", \"Presidio Heights\", \"Cow Hollow\", \"Potrero Hill\", \"South Beach\"]}, {\"label\": \"sale_price_sqr_foot\", \"values\": [903.9932576720645, 788.8448175872469, 779.810842264425, 689.5558168113663, 687.0875745178322, 676.5065775293255, 675.3502120510033, 665.9640415783227, 662.0136128276529, 650.1244791945729]}, {\"label\": \"housing_units\", \"values\": [377427.5, 380348.0, 375967.25, 378401.0, 382295.0, 378401.0, 378401.0, 378401.0, 378401.0, 375805.0]}, {\"label\": \"gross_rent\", \"values\": [2555.1666666666665, 3414.0, 2155.25, 2817.285714285714, 3959.0, 2817.285714285714, 2817.285714285714, 2817.285714285714, 2817.285714285714, 2099.0]}], \"domain\": {\"x\": [0.0, 1.0], \"y\": [0.0, 1.0]}, \"line\": {\"color\": [903.9932576720645, 788.8448175872469, 779.810842264425, 689.5558168113663, 687.0875745178322, 676.5065775293255, 675.3502120510033, 665.9640415783227, 662.0136128276529, 650.1244791945729], \"coloraxis\": \"coloraxis\"}, \"name\": \"\", \"type\": \"parcats\"}],                        {\"coloraxis\": {\"colorbar\": {\"title\": {\"text\": \"sale_price_sqr_foot\"}}, \"colorscale\": [[0.0, \"#000004\"], [0.1111111111111111, \"#1b0c41\"], [0.2222222222222222, \"#4a0c6b\"], [0.3333333333333333, \"#781c6d\"], [0.4444444444444444, \"#a52c60\"], [0.5555555555555556, \"#cf4446\"], [0.6666666666666666, \"#ed6925\"], [0.7777777777777778, \"#fb9b06\"], [0.8888888888888888, \"#f7d13d\"], [1.0, \"#fcffa4\"]]}, \"legend\": {\"tracegroupgap\": 0}, \"margin\": {\"t\": 60}, \"template\": {\"data\": {\"bar\": [{\"error_x\": {\"color\": \"#2a3f5f\"}, \"error_y\": {\"color\": \"#2a3f5f\"}, \"marker\": {\"line\": {\"color\": \"#E5ECF6\", \"width\": 0.5}}, \"type\": \"bar\"}], \"barpolar\": [{\"marker\": {\"line\": {\"color\": \"#E5ECF6\", \"width\": 0.5}}, \"type\": \"barpolar\"}], \"carpet\": [{\"aaxis\": {\"endlinecolor\": \"#2a3f5f\", \"gridcolor\": \"white\", \"linecolor\": \"white\", \"minorgridcolor\": \"white\", \"startlinecolor\": \"#2a3f5f\"}, \"baxis\": {\"endlinecolor\": \"#2a3f5f\", \"gridcolor\": \"white\", \"linecolor\": \"white\", \"minorgridcolor\": \"white\", \"startlinecolor\": \"#2a3f5f\"}, \"type\": \"carpet\"}], \"choropleth\": [{\"colorbar\": {\"outlinewidth\": 0, \"ticks\": \"\"}, \"type\": \"choropleth\"}], \"contour\": [{\"colorbar\": {\"outlinewidth\": 0, \"ticks\": \"\"}, \"colorscale\": [[0.0, \"#0d0887\"], [0.1111111111111111, \"#46039f\"], [0.2222222222222222, \"#7201a8\"], [0.3333333333333333, \"#9c179e\"], [0.4444444444444444, \"#bd3786\"], [0.5555555555555556, \"#d8576b\"], [0.6666666666666666, \"#ed7953\"], [0.7777777777777778, \"#fb9f3a\"], [0.8888888888888888, \"#fdca26\"], [1.0, \"#f0f921\"]], \"type\": \"contour\"}], \"contourcarpet\": [{\"colorbar\": {\"outlinewidth\": 0, \"ticks\": \"\"}, \"type\": \"contourcarpet\"}], \"heatmap\": [{\"colorbar\": {\"outlinewidth\": 0, \"ticks\": \"\"}, \"colorscale\": [[0.0, \"#0d0887\"], [0.1111111111111111, \"#46039f\"], [0.2222222222222222, \"#7201a8\"], [0.3333333333333333, \"#9c179e\"], [0.4444444444444444, \"#bd3786\"], [0.5555555555555556, \"#d8576b\"], [0.6666666666666666, \"#ed7953\"], [0.7777777777777778, \"#fb9f3a\"], [0.8888888888888888, \"#fdca26\"], [1.0, \"#f0f921\"]], \"type\": \"heatmap\"}], \"heatmapgl\": [{\"colorbar\": {\"outlinewidth\": 0, \"ticks\": \"\"}, \"colorscale\": [[0.0, \"#0d0887\"], [0.1111111111111111, \"#46039f\"], [0.2222222222222222, \"#7201a8\"], [0.3333333333333333, \"#9c179e\"], [0.4444444444444444, \"#bd3786\"], [0.5555555555555556, \"#d8576b\"], [0.6666666666666666, \"#ed7953\"], [0.7777777777777778, \"#fb9f3a\"], [0.8888888888888888, \"#fdca26\"], [1.0, \"#f0f921\"]], \"type\": \"heatmapgl\"}], \"histogram\": [{\"marker\": {\"colorbar\": {\"outlinewidth\": 0, \"ticks\": \"\"}}, \"type\": \"histogram\"}], \"histogram2d\": [{\"colorbar\": {\"outlinewidth\": 0, \"ticks\": \"\"}, \"colorscale\": [[0.0, \"#0d0887\"], [0.1111111111111111, \"#46039f\"], [0.2222222222222222, \"#7201a8\"], [0.3333333333333333, \"#9c179e\"], [0.4444444444444444, \"#bd3786\"], [0.5555555555555556, \"#d8576b\"], [0.6666666666666666, \"#ed7953\"], [0.7777777777777778, \"#fb9f3a\"], [0.8888888888888888, \"#fdca26\"], [1.0, \"#f0f921\"]], \"type\": \"histogram2d\"}], \"histogram2dcontour\": [{\"colorbar\": {\"outlinewidth\": 0, \"ticks\": \"\"}, \"colorscale\": [[0.0, \"#0d0887\"], [0.1111111111111111, \"#46039f\"], [0.2222222222222222, \"#7201a8\"], [0.3333333333333333, \"#9c179e\"], [0.4444444444444444, \"#bd3786\"], [0.5555555555555556, \"#d8576b\"], [0.6666666666666666, \"#ed7953\"], [0.7777777777777778, \"#fb9f3a\"], [0.8888888888888888, \"#fdca26\"], [1.0, \"#f0f921\"]], \"type\": \"histogram2dcontour\"}], \"mesh3d\": [{\"colorbar\": {\"outlinewidth\": 0, \"ticks\": \"\"}, \"type\": \"mesh3d\"}], \"parcoords\": [{\"line\": {\"colorbar\": {\"outlinewidth\": 0, \"ticks\": \"\"}}, \"type\": \"parcoords\"}], \"pie\": [{\"automargin\": true, \"type\": \"pie\"}], \"scatter\": [{\"marker\": {\"colorbar\": {\"outlinewidth\": 0, \"ticks\": \"\"}}, \"type\": \"scatter\"}], \"scatter3d\": [{\"line\": {\"colorbar\": {\"outlinewidth\": 0, \"ticks\": \"\"}}, \"marker\": {\"colorbar\": {\"outlinewidth\": 0, \"ticks\": \"\"}}, \"type\": \"scatter3d\"}], \"scattercarpet\": [{\"marker\": {\"colorbar\": {\"outlinewidth\": 0, \"ticks\": \"\"}}, \"type\": \"scattercarpet\"}], \"scattergeo\": [{\"marker\": {\"colorbar\": {\"outlinewidth\": 0, \"ticks\": \"\"}}, \"type\": \"scattergeo\"}], \"scattergl\": [{\"marker\": {\"colorbar\": {\"outlinewidth\": 0, \"ticks\": \"\"}}, \"type\": \"scattergl\"}], \"scattermapbox\": [{\"marker\": {\"colorbar\": {\"outlinewidth\": 0, \"ticks\": \"\"}}, \"type\": \"scattermapbox\"}], \"scatterpolar\": [{\"marker\": {\"colorbar\": {\"outlinewidth\": 0, \"ticks\": \"\"}}, \"type\": \"scatterpolar\"}], \"scatterpolargl\": [{\"marker\": {\"colorbar\": {\"outlinewidth\": 0, \"ticks\": \"\"}}, \"type\": \"scatterpolargl\"}], \"scatterternary\": [{\"marker\": {\"colorbar\": {\"outlinewidth\": 0, \"ticks\": \"\"}}, \"type\": \"scatterternary\"}], \"surface\": [{\"colorbar\": {\"outlinewidth\": 0, \"ticks\": \"\"}, \"colorscale\": [[0.0, \"#0d0887\"], [0.1111111111111111, \"#46039f\"], [0.2222222222222222, \"#7201a8\"], [0.3333333333333333, \"#9c179e\"], [0.4444444444444444, \"#bd3786\"], [0.5555555555555556, \"#d8576b\"], [0.6666666666666666, \"#ed7953\"], [0.7777777777777778, \"#fb9f3a\"], [0.8888888888888888, \"#fdca26\"], [1.0, \"#f0f921\"]], \"type\": \"surface\"}], \"table\": [{\"cells\": {\"fill\": {\"color\": \"#EBF0F8\"}, \"line\": {\"color\": \"white\"}}, \"header\": {\"fill\": {\"color\": \"#C8D4E3\"}, \"line\": {\"color\": \"white\"}}, \"type\": \"table\"}]}, \"layout\": {\"annotationdefaults\": {\"arrowcolor\": \"#2a3f5f\", \"arrowhead\": 0, \"arrowwidth\": 1}, \"autotypenumbers\": \"strict\", \"coloraxis\": {\"colorbar\": {\"outlinewidth\": 0, \"ticks\": \"\"}}, \"colorscale\": {\"diverging\": [[0, \"#8e0152\"], [0.1, \"#c51b7d\"], [0.2, \"#de77ae\"], [0.3, \"#f1b6da\"], [0.4, \"#fde0ef\"], [0.5, \"#f7f7f7\"], [0.6, \"#e6f5d0\"], [0.7, \"#b8e186\"], [0.8, \"#7fbc41\"], [0.9, \"#4d9221\"], [1, \"#276419\"]], \"sequential\": [[0.0, \"#0d0887\"], [0.1111111111111111, \"#46039f\"], [0.2222222222222222, \"#7201a8\"], [0.3333333333333333, \"#9c179e\"], [0.4444444444444444, \"#bd3786\"], [0.5555555555555556, \"#d8576b\"], [0.6666666666666666, \"#ed7953\"], [0.7777777777777778, \"#fb9f3a\"], [0.8888888888888888, \"#fdca26\"], [1.0, \"#f0f921\"]], \"sequentialminus\": [[0.0, \"#0d0887\"], [0.1111111111111111, \"#46039f\"], [0.2222222222222222, \"#7201a8\"], [0.3333333333333333, \"#9c179e\"], [0.4444444444444444, \"#bd3786\"], [0.5555555555555556, \"#d8576b\"], [0.6666666666666666, \"#ed7953\"], [0.7777777777777778, \"#fb9f3a\"], [0.8888888888888888, \"#fdca26\"], [1.0, \"#f0f921\"]]}, \"colorway\": [\"#636efa\", \"#EF553B\", \"#00cc96\", \"#ab63fa\", \"#FFA15A\", \"#19d3f3\", \"#FF6692\", \"#B6E880\", \"#FF97FF\", \"#FECB52\"], \"font\": {\"color\": \"#2a3f5f\"}, \"geo\": {\"bgcolor\": \"white\", \"lakecolor\": \"white\", \"landcolor\": \"#E5ECF6\", \"showlakes\": true, \"showland\": true, \"subunitcolor\": \"white\"}, \"hoverlabel\": {\"align\": \"left\"}, \"hovermode\": \"closest\", \"mapbox\": {\"style\": \"light\"}, \"paper_bgcolor\": \"white\", \"plot_bgcolor\": \"#E5ECF6\", \"polar\": {\"angularaxis\": {\"gridcolor\": \"white\", \"linecolor\": \"white\", \"ticks\": \"\"}, \"bgcolor\": \"#E5ECF6\", \"radialaxis\": {\"gridcolor\": \"white\", \"linecolor\": \"white\", \"ticks\": \"\"}}, \"scene\": {\"xaxis\": {\"backgroundcolor\": \"#E5ECF6\", \"gridcolor\": \"white\", \"gridwidth\": 2, \"linecolor\": \"white\", \"showbackground\": true, \"ticks\": \"\", \"zerolinecolor\": \"white\"}, \"yaxis\": {\"backgroundcolor\": \"#E5ECF6\", \"gridcolor\": \"white\", \"gridwidth\": 2, \"linecolor\": \"white\", \"showbackground\": true, \"ticks\": \"\", \"zerolinecolor\": \"white\"}, \"zaxis\": {\"backgroundcolor\": \"#E5ECF6\", \"gridcolor\": \"white\", \"gridwidth\": 2, \"linecolor\": \"white\", \"showbackground\": true, \"ticks\": \"\", \"zerolinecolor\": \"white\"}}, \"shapedefaults\": {\"line\": {\"color\": \"#2a3f5f\"}}, \"ternary\": {\"aaxis\": {\"gridcolor\": \"white\", \"linecolor\": \"white\", \"ticks\": \"\"}, \"baxis\": {\"gridcolor\": \"white\", \"linecolor\": \"white\", \"ticks\": \"\"}, \"bgcolor\": \"#E5ECF6\", \"caxis\": {\"gridcolor\": \"white\", \"linecolor\": \"white\", \"ticks\": \"\"}}, \"title\": {\"x\": 0.05}, \"xaxis\": {\"automargin\": true, \"gridcolor\": \"white\", \"linecolor\": \"white\", \"ticks\": \"\", \"title\": {\"standoff\": 15}, \"zerolinecolor\": \"white\", \"zerolinewidth\": 2}, \"yaxis\": {\"automargin\": true, \"gridcolor\": \"white\", \"linecolor\": \"white\", \"ticks\": \"\", \"title\": {\"standoff\": 15}, \"zerolinecolor\": \"white\", \"zerolinewidth\": 2}}}},                        {\"responsive\": true}                    ).then(function(){\n",
       "                            \n",
       "var gd = document.getElementById('b9efe224-1cb7-46f1-b48b-0ee4c08c0334');\n",
       "var x = new MutationObserver(function (mutations, observer) {{\n",
       "        var display = window.getComputedStyle(gd).display;\n",
       "        if (!display || display === 'none') {{\n",
       "            console.log([gd, 'removed!']);\n",
       "            Plotly.purge(gd);\n",
       "            observer.disconnect();\n",
       "        }}\n",
       "}});\n",
       "\n",
       "// Listen for the removal of the full notebook cells\n",
       "var notebookContainer = gd.closest('#notebook-container');\n",
       "if (notebookContainer) {{\n",
       "    x.observe(notebookContainer, {childList: true});\n",
       "}}\n",
       "\n",
       "// Listen for the clearing of the current output cell\n",
       "var outputEl = gd.closest('.output');\n",
       "if (outputEl) {{\n",
       "    x.observe(outputEl, {childList: true});\n",
       "}}\n",
       "\n",
       "                        })                };                });            </script>        </div>"
      ]
     },
     "metadata": {},
     "output_type": "display_data"
    }
   ],
   "source": [
    "parallel_categories()"
   ]
  },
  {
   "cell_type": "code",
   "execution_count": 140,
   "metadata": {},
   "outputs": [
    {
     "data": {
      "application/vnd.plotly.v1+json": {
       "config": {
        "plotlyServerURL": "https://plot.ly"
       },
       "data": [
        {
         "dimensions": [
          {
           "label": "sale_price_sqr_foot",
           "values": [
            903.9932576720645,
            788.8448175872469,
            779.810842264425,
            689.5558168113663,
            687.0875745178322,
            676.5065775293255,
            675.3502120510033,
            665.9640415783227,
            662.0136128276529,
            650.1244791945729
           ]
          },
          {
           "label": "housing_units",
           "values": [
            377427.5,
            380348,
            375967.25,
            378401,
            382295,
            378401,
            378401,
            378401,
            378401,
            375805
           ]
          },
          {
           "label": "gross_rent",
           "values": [
            2555.1666666666665,
            3414,
            2155.25,
            2817.285714285714,
            3959,
            2817.285714285714,
            2817.285714285714,
            2817.285714285714,
            2817.285714285714,
            2099
           ]
          }
         ],
         "domain": {
          "x": [
           0,
           1
          ],
          "y": [
           0,
           1
          ]
         },
         "line": {
          "color": [
           903.9932576720645,
           788.8448175872469,
           779.810842264425,
           689.5558168113663,
           687.0875745178322,
           676.5065775293255,
           675.3502120510033,
           665.9640415783227,
           662.0136128276529,
           650.1244791945729
          ],
          "coloraxis": "coloraxis"
         },
         "name": "",
         "type": "parcoords"
        }
       ],
       "layout": {
        "autosize": true,
        "coloraxis": {
         "colorbar": {
          "title": {
           "text": "sale_price_sqr_foot"
          }
         },
         "colorscale": [
          [
           0,
           "#0d0887"
          ],
          [
           0.1111111111111111,
           "#46039f"
          ],
          [
           0.2222222222222222,
           "#7201a8"
          ],
          [
           0.3333333333333333,
           "#9c179e"
          ],
          [
           0.4444444444444444,
           "#bd3786"
          ],
          [
           0.5555555555555556,
           "#d8576b"
          ],
          [
           0.6666666666666666,
           "#ed7953"
          ],
          [
           0.7777777777777778,
           "#fb9f3a"
          ],
          [
           0.8888888888888888,
           "#fdca26"
          ],
          [
           1,
           "#f0f921"
          ]
         ]
        },
        "legend": {
         "tracegroupgap": 0
        },
        "margin": {
         "t": 60
        },
        "template": {
         "data": {
          "bar": [
           {
            "error_x": {
             "color": "#2a3f5f"
            },
            "error_y": {
             "color": "#2a3f5f"
            },
            "marker": {
             "line": {
              "color": "#E5ECF6",
              "width": 0.5
             }
            },
            "type": "bar"
           }
          ],
          "barpolar": [
           {
            "marker": {
             "line": {
              "color": "#E5ECF6",
              "width": 0.5
             }
            },
            "type": "barpolar"
           }
          ],
          "carpet": [
           {
            "aaxis": {
             "endlinecolor": "#2a3f5f",
             "gridcolor": "white",
             "linecolor": "white",
             "minorgridcolor": "white",
             "startlinecolor": "#2a3f5f"
            },
            "baxis": {
             "endlinecolor": "#2a3f5f",
             "gridcolor": "white",
             "linecolor": "white",
             "minorgridcolor": "white",
             "startlinecolor": "#2a3f5f"
            },
            "type": "carpet"
           }
          ],
          "choropleth": [
           {
            "colorbar": {
             "outlinewidth": 0,
             "ticks": ""
            },
            "type": "choropleth"
           }
          ],
          "contour": [
           {
            "colorbar": {
             "outlinewidth": 0,
             "ticks": ""
            },
            "colorscale": [
             [
              0,
              "#0d0887"
             ],
             [
              0.1111111111111111,
              "#46039f"
             ],
             [
              0.2222222222222222,
              "#7201a8"
             ],
             [
              0.3333333333333333,
              "#9c179e"
             ],
             [
              0.4444444444444444,
              "#bd3786"
             ],
             [
              0.5555555555555556,
              "#d8576b"
             ],
             [
              0.6666666666666666,
              "#ed7953"
             ],
             [
              0.7777777777777778,
              "#fb9f3a"
             ],
             [
              0.8888888888888888,
              "#fdca26"
             ],
             [
              1,
              "#f0f921"
             ]
            ],
            "type": "contour"
           }
          ],
          "contourcarpet": [
           {
            "colorbar": {
             "outlinewidth": 0,
             "ticks": ""
            },
            "type": "contourcarpet"
           }
          ],
          "heatmap": [
           {
            "colorbar": {
             "outlinewidth": 0,
             "ticks": ""
            },
            "colorscale": [
             [
              0,
              "#0d0887"
             ],
             [
              0.1111111111111111,
              "#46039f"
             ],
             [
              0.2222222222222222,
              "#7201a8"
             ],
             [
              0.3333333333333333,
              "#9c179e"
             ],
             [
              0.4444444444444444,
              "#bd3786"
             ],
             [
              0.5555555555555556,
              "#d8576b"
             ],
             [
              0.6666666666666666,
              "#ed7953"
             ],
             [
              0.7777777777777778,
              "#fb9f3a"
             ],
             [
              0.8888888888888888,
              "#fdca26"
             ],
             [
              1,
              "#f0f921"
             ]
            ],
            "type": "heatmap"
           }
          ],
          "heatmapgl": [
           {
            "colorbar": {
             "outlinewidth": 0,
             "ticks": ""
            },
            "colorscale": [
             [
              0,
              "#0d0887"
             ],
             [
              0.1111111111111111,
              "#46039f"
             ],
             [
              0.2222222222222222,
              "#7201a8"
             ],
             [
              0.3333333333333333,
              "#9c179e"
             ],
             [
              0.4444444444444444,
              "#bd3786"
             ],
             [
              0.5555555555555556,
              "#d8576b"
             ],
             [
              0.6666666666666666,
              "#ed7953"
             ],
             [
              0.7777777777777778,
              "#fb9f3a"
             ],
             [
              0.8888888888888888,
              "#fdca26"
             ],
             [
              1,
              "#f0f921"
             ]
            ],
            "type": "heatmapgl"
           }
          ],
          "histogram": [
           {
            "marker": {
             "colorbar": {
              "outlinewidth": 0,
              "ticks": ""
             }
            },
            "type": "histogram"
           }
          ],
          "histogram2d": [
           {
            "colorbar": {
             "outlinewidth": 0,
             "ticks": ""
            },
            "colorscale": [
             [
              0,
              "#0d0887"
             ],
             [
              0.1111111111111111,
              "#46039f"
             ],
             [
              0.2222222222222222,
              "#7201a8"
             ],
             [
              0.3333333333333333,
              "#9c179e"
             ],
             [
              0.4444444444444444,
              "#bd3786"
             ],
             [
              0.5555555555555556,
              "#d8576b"
             ],
             [
              0.6666666666666666,
              "#ed7953"
             ],
             [
              0.7777777777777778,
              "#fb9f3a"
             ],
             [
              0.8888888888888888,
              "#fdca26"
             ],
             [
              1,
              "#f0f921"
             ]
            ],
            "type": "histogram2d"
           }
          ],
          "histogram2dcontour": [
           {
            "colorbar": {
             "outlinewidth": 0,
             "ticks": ""
            },
            "colorscale": [
             [
              0,
              "#0d0887"
             ],
             [
              0.1111111111111111,
              "#46039f"
             ],
             [
              0.2222222222222222,
              "#7201a8"
             ],
             [
              0.3333333333333333,
              "#9c179e"
             ],
             [
              0.4444444444444444,
              "#bd3786"
             ],
             [
              0.5555555555555556,
              "#d8576b"
             ],
             [
              0.6666666666666666,
              "#ed7953"
             ],
             [
              0.7777777777777778,
              "#fb9f3a"
             ],
             [
              0.8888888888888888,
              "#fdca26"
             ],
             [
              1,
              "#f0f921"
             ]
            ],
            "type": "histogram2dcontour"
           }
          ],
          "mesh3d": [
           {
            "colorbar": {
             "outlinewidth": 0,
             "ticks": ""
            },
            "type": "mesh3d"
           }
          ],
          "parcoords": [
           {
            "line": {
             "colorbar": {
              "outlinewidth": 0,
              "ticks": ""
             }
            },
            "type": "parcoords"
           }
          ],
          "pie": [
           {
            "automargin": true,
            "type": "pie"
           }
          ],
          "scatter": [
           {
            "marker": {
             "colorbar": {
              "outlinewidth": 0,
              "ticks": ""
             }
            },
            "type": "scatter"
           }
          ],
          "scatter3d": [
           {
            "line": {
             "colorbar": {
              "outlinewidth": 0,
              "ticks": ""
             }
            },
            "marker": {
             "colorbar": {
              "outlinewidth": 0,
              "ticks": ""
             }
            },
            "type": "scatter3d"
           }
          ],
          "scattercarpet": [
           {
            "marker": {
             "colorbar": {
              "outlinewidth": 0,
              "ticks": ""
             }
            },
            "type": "scattercarpet"
           }
          ],
          "scattergeo": [
           {
            "marker": {
             "colorbar": {
              "outlinewidth": 0,
              "ticks": ""
             }
            },
            "type": "scattergeo"
           }
          ],
          "scattergl": [
           {
            "marker": {
             "colorbar": {
              "outlinewidth": 0,
              "ticks": ""
             }
            },
            "type": "scattergl"
           }
          ],
          "scattermapbox": [
           {
            "marker": {
             "colorbar": {
              "outlinewidth": 0,
              "ticks": ""
             }
            },
            "type": "scattermapbox"
           }
          ],
          "scatterpolar": [
           {
            "marker": {
             "colorbar": {
              "outlinewidth": 0,
              "ticks": ""
             }
            },
            "type": "scatterpolar"
           }
          ],
          "scatterpolargl": [
           {
            "marker": {
             "colorbar": {
              "outlinewidth": 0,
              "ticks": ""
             }
            },
            "type": "scatterpolargl"
           }
          ],
          "scatterternary": [
           {
            "marker": {
             "colorbar": {
              "outlinewidth": 0,
              "ticks": ""
             }
            },
            "type": "scatterternary"
           }
          ],
          "surface": [
           {
            "colorbar": {
             "outlinewidth": 0,
             "ticks": ""
            },
            "colorscale": [
             [
              0,
              "#0d0887"
             ],
             [
              0.1111111111111111,
              "#46039f"
             ],
             [
              0.2222222222222222,
              "#7201a8"
             ],
             [
              0.3333333333333333,
              "#9c179e"
             ],
             [
              0.4444444444444444,
              "#bd3786"
             ],
             [
              0.5555555555555556,
              "#d8576b"
             ],
             [
              0.6666666666666666,
              "#ed7953"
             ],
             [
              0.7777777777777778,
              "#fb9f3a"
             ],
             [
              0.8888888888888888,
              "#fdca26"
             ],
             [
              1,
              "#f0f921"
             ]
            ],
            "type": "surface"
           }
          ],
          "table": [
           {
            "cells": {
             "fill": {
              "color": "#EBF0F8"
             },
             "line": {
              "color": "white"
             }
            },
            "header": {
             "fill": {
              "color": "#C8D4E3"
             },
             "line": {
              "color": "white"
             }
            },
            "type": "table"
           }
          ]
         },
         "layout": {
          "annotationdefaults": {
           "arrowcolor": "#2a3f5f",
           "arrowhead": 0,
           "arrowwidth": 1
          },
          "autotypenumbers": "strict",
          "coloraxis": {
           "colorbar": {
            "outlinewidth": 0,
            "ticks": ""
           }
          },
          "colorscale": {
           "diverging": [
            [
             0,
             "#8e0152"
            ],
            [
             0.1,
             "#c51b7d"
            ],
            [
             0.2,
             "#de77ae"
            ],
            [
             0.3,
             "#f1b6da"
            ],
            [
             0.4,
             "#fde0ef"
            ],
            [
             0.5,
             "#f7f7f7"
            ],
            [
             0.6,
             "#e6f5d0"
            ],
            [
             0.7,
             "#b8e186"
            ],
            [
             0.8,
             "#7fbc41"
            ],
            [
             0.9,
             "#4d9221"
            ],
            [
             1,
             "#276419"
            ]
           ],
           "sequential": [
            [
             0,
             "#0d0887"
            ],
            [
             0.1111111111111111,
             "#46039f"
            ],
            [
             0.2222222222222222,
             "#7201a8"
            ],
            [
             0.3333333333333333,
             "#9c179e"
            ],
            [
             0.4444444444444444,
             "#bd3786"
            ],
            [
             0.5555555555555556,
             "#d8576b"
            ],
            [
             0.6666666666666666,
             "#ed7953"
            ],
            [
             0.7777777777777778,
             "#fb9f3a"
            ],
            [
             0.8888888888888888,
             "#fdca26"
            ],
            [
             1,
             "#f0f921"
            ]
           ],
           "sequentialminus": [
            [
             0,
             "#0d0887"
            ],
            [
             0.1111111111111111,
             "#46039f"
            ],
            [
             0.2222222222222222,
             "#7201a8"
            ],
            [
             0.3333333333333333,
             "#9c179e"
            ],
            [
             0.4444444444444444,
             "#bd3786"
            ],
            [
             0.5555555555555556,
             "#d8576b"
            ],
            [
             0.6666666666666666,
             "#ed7953"
            ],
            [
             0.7777777777777778,
             "#fb9f3a"
            ],
            [
             0.8888888888888888,
             "#fdca26"
            ],
            [
             1,
             "#f0f921"
            ]
           ]
          },
          "colorway": [
           "#636efa",
           "#EF553B",
           "#00cc96",
           "#ab63fa",
           "#FFA15A",
           "#19d3f3",
           "#FF6692",
           "#B6E880",
           "#FF97FF",
           "#FECB52"
          ],
          "font": {
           "color": "#2a3f5f"
          },
          "geo": {
           "bgcolor": "white",
           "lakecolor": "white",
           "landcolor": "#E5ECF6",
           "showlakes": true,
           "showland": true,
           "subunitcolor": "white"
          },
          "hoverlabel": {
           "align": "left"
          },
          "hovermode": "closest",
          "mapbox": {
           "style": "light"
          },
          "paper_bgcolor": "white",
          "plot_bgcolor": "#E5ECF6",
          "polar": {
           "angularaxis": {
            "gridcolor": "white",
            "linecolor": "white",
            "ticks": ""
           },
           "bgcolor": "#E5ECF6",
           "radialaxis": {
            "gridcolor": "white",
            "linecolor": "white",
            "ticks": ""
           }
          },
          "scene": {
           "xaxis": {
            "backgroundcolor": "#E5ECF6",
            "gridcolor": "white",
            "gridwidth": 2,
            "linecolor": "white",
            "showbackground": true,
            "ticks": "",
            "zerolinecolor": "white"
           },
           "yaxis": {
            "backgroundcolor": "#E5ECF6",
            "gridcolor": "white",
            "gridwidth": 2,
            "linecolor": "white",
            "showbackground": true,
            "ticks": "",
            "zerolinecolor": "white"
           },
           "zaxis": {
            "backgroundcolor": "#E5ECF6",
            "gridcolor": "white",
            "gridwidth": 2,
            "linecolor": "white",
            "showbackground": true,
            "ticks": "",
            "zerolinecolor": "white"
           }
          },
          "shapedefaults": {
           "line": {
            "color": "#2a3f5f"
           }
          },
          "ternary": {
           "aaxis": {
            "gridcolor": "white",
            "linecolor": "white",
            "ticks": ""
           },
           "baxis": {
            "gridcolor": "white",
            "linecolor": "white",
            "ticks": ""
           },
           "bgcolor": "#E5ECF6",
           "caxis": {
            "gridcolor": "white",
            "linecolor": "white",
            "ticks": ""
           }
          },
          "title": {
           "x": 0.05
          },
          "xaxis": {
           "automargin": true,
           "gridcolor": "white",
           "linecolor": "white",
           "ticks": "",
           "title": {
            "standoff": 15
           },
           "zerolinecolor": "white",
           "zerolinewidth": 2
          },
          "yaxis": {
           "automargin": true,
           "gridcolor": "white",
           "linecolor": "white",
           "ticks": "",
           "title": {
            "standoff": 15
           },
           "zerolinecolor": "white",
           "zerolinewidth": 2
          }
         }
        }
       }
      },
      "image/png": "[encoded data removed]",
      "text/html": [
       "<div>                            <div id=\"bae8de55-aeee-4099-b142-e6ca9b40325d\" class=\"plotly-graph-div\" style=\"height:525px; width:100%;\"></div>            <script type=\"text/javascript\">                require([\"plotly\"], function(Plotly) {                    window.PLOTLYENV=window.PLOTLYENV || {};                                    if (document.getElementById(\"bae8de55-aeee-4099-b142-e6ca9b40325d\")) {                    Plotly.newPlot(                        \"bae8de55-aeee-4099-b142-e6ca9b40325d\",                        [{\"dimensions\": [{\"label\": \"sale_price_sqr_foot\", \"values\": [903.9932576720645, 788.8448175872469, 779.810842264425, 689.5558168113663, 687.0875745178322, 676.5065775293255, 675.3502120510033, 665.9640415783227, 662.0136128276529, 650.1244791945729]}, {\"label\": \"housing_units\", \"values\": [377427.5, 380348.0, 375967.25, 378401.0, 382295.0, 378401.0, 378401.0, 378401.0, 378401.0, 375805.0]}, {\"label\": \"gross_rent\", \"values\": [2555.1666666666665, 3414.0, 2155.25, 2817.285714285714, 3959.0, 2817.285714285714, 2817.285714285714, 2817.285714285714, 2817.285714285714, 2099.0]}], \"domain\": {\"x\": [0.0, 1.0], \"y\": [0.0, 1.0]}, \"line\": {\"color\": [903.9932576720645, 788.8448175872469, 779.810842264425, 689.5558168113663, 687.0875745178322, 676.5065775293255, 675.3502120510033, 665.9640415783227, 662.0136128276529, 650.1244791945729], \"coloraxis\": \"coloraxis\"}, \"name\": \"\", \"type\": \"parcoords\"}],                        {\"coloraxis\": {\"colorbar\": {\"title\": {\"text\": \"sale_price_sqr_foot\"}}, \"colorscale\": [[0.0, \"#0d0887\"], [0.1111111111111111, \"#46039f\"], [0.2222222222222222, \"#7201a8\"], [0.3333333333333333, \"#9c179e\"], [0.4444444444444444, \"#bd3786\"], [0.5555555555555556, \"#d8576b\"], [0.6666666666666666, \"#ed7953\"], [0.7777777777777778, \"#fb9f3a\"], [0.8888888888888888, \"#fdca26\"], [1.0, \"#f0f921\"]]}, \"legend\": {\"tracegroupgap\": 0}, \"margin\": {\"t\": 60}, \"template\": {\"data\": {\"bar\": [{\"error_x\": {\"color\": \"#2a3f5f\"}, \"error_y\": {\"color\": \"#2a3f5f\"}, \"marker\": {\"line\": {\"color\": \"#E5ECF6\", \"width\": 0.5}}, \"type\": \"bar\"}], \"barpolar\": [{\"marker\": {\"line\": {\"color\": \"#E5ECF6\", \"width\": 0.5}}, \"type\": \"barpolar\"}], \"carpet\": [{\"aaxis\": {\"endlinecolor\": \"#2a3f5f\", \"gridcolor\": \"white\", \"linecolor\": \"white\", \"minorgridcolor\": \"white\", \"startlinecolor\": \"#2a3f5f\"}, \"baxis\": {\"endlinecolor\": \"#2a3f5f\", \"gridcolor\": \"white\", \"linecolor\": \"white\", \"minorgridcolor\": \"white\", \"startlinecolor\": \"#2a3f5f\"}, \"type\": \"carpet\"}], \"choropleth\": [{\"colorbar\": {\"outlinewidth\": 0, \"ticks\": \"\"}, \"type\": \"choropleth\"}], \"contour\": [{\"colorbar\": {\"outlinewidth\": 0, \"ticks\": \"\"}, \"colorscale\": [[0.0, \"#0d0887\"], [0.1111111111111111, \"#46039f\"], [0.2222222222222222, \"#7201a8\"], [0.3333333333333333, \"#9c179e\"], [0.4444444444444444, \"#bd3786\"], [0.5555555555555556, \"#d8576b\"], [0.6666666666666666, \"#ed7953\"], [0.7777777777777778, \"#fb9f3a\"], [0.8888888888888888, \"#fdca26\"], [1.0, \"#f0f921\"]], \"type\": \"contour\"}], \"contourcarpet\": [{\"colorbar\": {\"outlinewidth\": 0, \"ticks\": \"\"}, \"type\": \"contourcarpet\"}], \"heatmap\": [{\"colorbar\": {\"outlinewidth\": 0, \"ticks\": \"\"}, \"colorscale\": [[0.0, \"#0d0887\"], [0.1111111111111111, \"#46039f\"], [0.2222222222222222, \"#7201a8\"], [0.3333333333333333, \"#9c179e\"], [0.4444444444444444, \"#bd3786\"], [0.5555555555555556, \"#d8576b\"], [0.6666666666666666, \"#ed7953\"], [0.7777777777777778, \"#fb9f3a\"], [0.8888888888888888, \"#fdca26\"], [1.0, \"#f0f921\"]], \"type\": \"heatmap\"}], \"heatmapgl\": [{\"colorbar\": {\"outlinewidth\": 0, \"ticks\": \"\"}, \"colorscale\": [[0.0, \"#0d0887\"], [0.1111111111111111, \"#46039f\"], [0.2222222222222222, \"#7201a8\"], [0.3333333333333333, \"#9c179e\"], [0.4444444444444444, \"#bd3786\"], [0.5555555555555556, \"#d8576b\"], [0.6666666666666666, \"#ed7953\"], [0.7777777777777778, \"#fb9f3a\"], [0.8888888888888888, \"#fdca26\"], [1.0, \"#f0f921\"]], \"type\": \"heatmapgl\"}], \"histogram\": [{\"marker\": {\"colorbar\": {\"outlinewidth\": 0, \"ticks\": \"\"}}, \"type\": \"histogram\"}], \"histogram2d\": [{\"colorbar\": {\"outlinewidth\": 0, \"ticks\": \"\"}, \"colorscale\": [[0.0, \"#0d0887\"], [0.1111111111111111, \"#46039f\"], [0.2222222222222222, \"#7201a8\"], [0.3333333333333333, \"#9c179e\"], [0.4444444444444444, \"#bd3786\"], [0.5555555555555556, \"#d8576b\"], [0.6666666666666666, \"#ed7953\"], [0.7777777777777778, \"#fb9f3a\"], [0.8888888888888888, \"#fdca26\"], [1.0, \"#f0f921\"]], \"type\": \"histogram2d\"}], \"histogram2dcontour\": [{\"colorbar\": {\"outlinewidth\": 0, \"ticks\": \"\"}, \"colorscale\": [[0.0, \"#0d0887\"], [0.1111111111111111, \"#46039f\"], [0.2222222222222222, \"#7201a8\"], [0.3333333333333333, \"#9c179e\"], [0.4444444444444444, \"#bd3786\"], [0.5555555555555556, \"#d8576b\"], [0.6666666666666666, \"#ed7953\"], [0.7777777777777778, \"#fb9f3a\"], [0.8888888888888888, \"#fdca26\"], [1.0, \"#f0f921\"]], \"type\": \"histogram2dcontour\"}], \"mesh3d\": [{\"colorbar\": {\"outlinewidth\": 0, \"ticks\": \"\"}, \"type\": \"mesh3d\"}], \"parcoords\": [{\"line\": {\"colorbar\": {\"outlinewidth\": 0, \"ticks\": \"\"}}, \"type\": \"parcoords\"}], \"pie\": [{\"automargin\": true, \"type\": \"pie\"}], \"scatter\": [{\"marker\": {\"colorbar\": {\"outlinewidth\": 0, \"ticks\": \"\"}}, \"type\": \"scatter\"}], \"scatter3d\": [{\"line\": {\"colorbar\": {\"outlinewidth\": 0, \"ticks\": \"\"}}, \"marker\": {\"colorbar\": {\"outlinewidth\": 0, \"ticks\": \"\"}}, \"type\": \"scatter3d\"}], \"scattercarpet\": [{\"marker\": {\"colorbar\": {\"outlinewidth\": 0, \"ticks\": \"\"}}, \"type\": \"scattercarpet\"}], \"scattergeo\": [{\"marker\": {\"colorbar\": {\"outlinewidth\": 0, \"ticks\": \"\"}}, \"type\": \"scattergeo\"}], \"scattergl\": [{\"marker\": {\"colorbar\": {\"outlinewidth\": 0, \"ticks\": \"\"}}, \"type\": \"scattergl\"}], \"scattermapbox\": [{\"marker\": {\"colorbar\": {\"outlinewidth\": 0, \"ticks\": \"\"}}, \"type\": \"scattermapbox\"}], \"scatterpolar\": [{\"marker\": {\"colorbar\": {\"outlinewidth\": 0, \"ticks\": \"\"}}, \"type\": \"scatterpolar\"}], \"scatterpolargl\": [{\"marker\": {\"colorbar\": {\"outlinewidth\": 0, \"ticks\": \"\"}}, \"type\": \"scatterpolargl\"}], \"scatterternary\": [{\"marker\": {\"colorbar\": {\"outlinewidth\": 0, \"ticks\": \"\"}}, \"type\": \"scatterternary\"}], \"surface\": [{\"colorbar\": {\"outlinewidth\": 0, \"ticks\": \"\"}, \"colorscale\": [[0.0, \"#0d0887\"], [0.1111111111111111, \"#46039f\"], [0.2222222222222222, \"#7201a8\"], [0.3333333333333333, \"#9c179e\"], [0.4444444444444444, \"#bd3786\"], [0.5555555555555556, \"#d8576b\"], [0.6666666666666666, \"#ed7953\"], [0.7777777777777778, \"#fb9f3a\"], [0.8888888888888888, \"#fdca26\"], [1.0, \"#f0f921\"]], \"type\": \"surface\"}], \"table\": [{\"cells\": {\"fill\": {\"color\": \"#EBF0F8\"}, \"line\": {\"color\": \"white\"}}, \"header\": {\"fill\": {\"color\": \"#C8D4E3\"}, \"line\": {\"color\": \"white\"}}, \"type\": \"table\"}]}, \"layout\": {\"annotationdefaults\": {\"arrowcolor\": \"#2a3f5f\", \"arrowhead\": 0, \"arrowwidth\": 1}, \"autotypenumbers\": \"strict\", \"coloraxis\": {\"colorbar\": {\"outlinewidth\": 0, \"ticks\": \"\"}}, \"colorscale\": {\"diverging\": [[0, \"#8e0152\"], [0.1, \"#c51b7d\"], [0.2, \"#de77ae\"], [0.3, \"#f1b6da\"], [0.4, \"#fde0ef\"], [0.5, \"#f7f7f7\"], [0.6, \"#e6f5d0\"], [0.7, \"#b8e186\"], [0.8, \"#7fbc41\"], [0.9, \"#4d9221\"], [1, \"#276419\"]], \"sequential\": [[0.0, \"#0d0887\"], [0.1111111111111111, \"#46039f\"], [0.2222222222222222, \"#7201a8\"], [0.3333333333333333, \"#9c179e\"], [0.4444444444444444, \"#bd3786\"], [0.5555555555555556, \"#d8576b\"], [0.6666666666666666, \"#ed7953\"], [0.7777777777777778, \"#fb9f3a\"], [0.8888888888888888, \"#fdca26\"], [1.0, \"#f0f921\"]], \"sequentialminus\": [[0.0, \"#0d0887\"], [0.1111111111111111, \"#46039f\"], [0.2222222222222222, \"#7201a8\"], [0.3333333333333333, \"#9c179e\"], [0.4444444444444444, \"#bd3786\"], [0.5555555555555556, \"#d8576b\"], [0.6666666666666666, \"#ed7953\"], [0.7777777777777778, \"#fb9f3a\"], [0.8888888888888888, \"#fdca26\"], [1.0, \"#f0f921\"]]}, \"colorway\": [\"#636efa\", \"#EF553B\", \"#00cc96\", \"#ab63fa\", \"#FFA15A\", \"#19d3f3\", \"#FF6692\", \"#B6E880\", \"#FF97FF\", \"#FECB52\"], \"font\": {\"color\": \"#2a3f5f\"}, \"geo\": {\"bgcolor\": \"white\", \"lakecolor\": \"white\", \"landcolor\": \"#E5ECF6\", \"showlakes\": true, \"showland\": true, \"subunitcolor\": \"white\"}, \"hoverlabel\": {\"align\": \"left\"}, \"hovermode\": \"closest\", \"mapbox\": {\"style\": \"light\"}, \"paper_bgcolor\": \"white\", \"plot_bgcolor\": \"#E5ECF6\", \"polar\": {\"angularaxis\": {\"gridcolor\": \"white\", \"linecolor\": \"white\", \"ticks\": \"\"}, \"bgcolor\": \"#E5ECF6\", \"radialaxis\": {\"gridcolor\": \"white\", \"linecolor\": \"white\", \"ticks\": \"\"}}, \"scene\": {\"xaxis\": {\"backgroundcolor\": \"#E5ECF6\", \"gridcolor\": \"white\", \"gridwidth\": 2, \"linecolor\": \"white\", \"showbackground\": true, \"ticks\": \"\", \"zerolinecolor\": \"white\"}, \"yaxis\": {\"backgroundcolor\": \"#E5ECF6\", \"gridcolor\": \"white\", \"gridwidth\": 2, \"linecolor\": \"white\", \"showbackground\": true, \"ticks\": \"\", \"zerolinecolor\": \"white\"}, \"zaxis\": {\"backgroundcolor\": \"#E5ECF6\", \"gridcolor\": \"white\", \"gridwidth\": 2, \"linecolor\": \"white\", \"showbackground\": true, \"ticks\": \"\", \"zerolinecolor\": \"white\"}}, \"shapedefaults\": {\"line\": {\"color\": \"#2a3f5f\"}}, \"ternary\": {\"aaxis\": {\"gridcolor\": \"white\", \"linecolor\": \"white\", \"ticks\": \"\"}, \"baxis\": {\"gridcolor\": \"white\", \"linecolor\": \"white\", \"ticks\": \"\"}, \"bgcolor\": \"#E5ECF6\", \"caxis\": {\"gridcolor\": \"white\", \"linecolor\": \"white\", \"ticks\": \"\"}}, \"title\": {\"x\": 0.05}, \"xaxis\": {\"automargin\": true, \"gridcolor\": \"white\", \"linecolor\": \"white\", \"ticks\": \"\", \"title\": {\"standoff\": 15}, \"zerolinecolor\": \"white\", \"zerolinewidth\": 2}, \"yaxis\": {\"automargin\": true, \"gridcolor\": \"white\", \"linecolor\": \"white\", \"ticks\": \"\", \"title\": {\"standoff\": 15}, \"zerolinecolor\": \"white\", \"zerolinewidth\": 2}}}},                        {\"responsive\": true}                    ).then(function(){\n",
       "                            \n",
       "var gd = document.getElementById('bae8de55-aeee-4099-b142-e6ca9b40325d');\n",
       "var x = new MutationObserver(function (mutations, observer) {{\n",
       "        var display = window.getComputedStyle(gd).display;\n",
       "        if (!display || display === 'none') {{\n",
       "            console.log([gd, 'removed!']);\n",
       "            Plotly.purge(gd);\n",
       "            observer.disconnect();\n",
       "        }}\n",
       "}});\n",
       "\n",
       "// Listen for the removal of the full notebook cells\n",
       "var notebookContainer = gd.closest('#notebook-container');\n",
       "if (notebookContainer) {{\n",
       "    x.observe(notebookContainer, {childList: true});\n",
       "}}\n",
       "\n",
       "// Listen for the clearing of the current output cell\n",
       "var outputEl = gd.closest('.output');\n",
       "if (outputEl) {{\n",
       "    x.observe(outputEl, {childList: true});\n",
       "}}\n",
       "\n",
       "                        })                };                });            </script>        </div>"
      ]
     },
     "metadata": {},
     "output_type": "display_data"
    }
   ],
   "source": [
    "parallel_coordinates()"
   ]
  },
  {
   "cell_type": "code",
   "execution_count": 165,
   "metadata": {},
   "outputs": [
    {
     "ename": "ValueError",
     "evalue": "Value of 'path_0' is not the name of a column in 'data_frame'. Expected one of ['sale_price_sqr_foot', 'housing_units', 'gross_rent'] but received: neighborhood",
     "output_type": "error",
     "traceback": [
      "\u001b[1;31m---------------------------------------------------------------------------\u001b[0m",
      "\u001b[1;31mValueError\u001b[0m                                Traceback (most recent call last)",
      "\u001b[1;32m<ipython-input-165-21583194b77f>\u001b[0m in \u001b[0;36m<module>\u001b[1;34m\u001b[0m\n\u001b[1;32m----> 1\u001b[1;33m \u001b[0msunburst\u001b[0m\u001b[1;33m(\u001b[0m\u001b[1;33m)\u001b[0m\u001b[1;33m\u001b[0m\u001b[1;33m\u001b[0m\u001b[0m\n\u001b[0m",
      "\u001b[1;32m<ipython-input-164-fd1ddf0b5c29>\u001b[0m in \u001b[0;36msunburst\u001b[1;34m()\u001b[0m\n\u001b[0;32m    157\u001b[0m     \u001b[1;34m\"\"\"Sunburst Plot.\"\"\"\u001b[0m\u001b[1;33m\u001b[0m\u001b[1;33m\u001b[0m\u001b[0m\n\u001b[0;32m    158\u001b[0m \u001b[1;33m\u001b[0m\u001b[0m\n\u001b[1;32m--> 159\u001b[1;33m     px.sunburst(\n\u001b[0m\u001b[0;32m    160\u001b[0m        \u001b[0msf_data_new\u001b[0m\u001b[1;33m,\u001b[0m \u001b[0mpath\u001b[0m\u001b[1;33m=\u001b[0m\u001b[1;33m[\u001b[0m\u001b[1;34m'neighborhood'\u001b[0m\u001b[1;33m,\u001b[0m \u001b[1;34m'housing_units'\u001b[0m\u001b[1;33m]\u001b[0m\u001b[1;33m,\u001b[0m\u001b[1;33m\u001b[0m\u001b[1;33m\u001b[0m\u001b[0m\n\u001b[0;32m    161\u001b[0m         \u001b[0mvalues\u001b[0m\u001b[1;33m=\u001b[0m\u001b[1;34m'sale_price_sqr_foot'\u001b[0m\u001b[1;33m,\u001b[0m\u001b[1;33m\u001b[0m\u001b[1;33m\u001b[0m\u001b[0m\n",
      "\u001b[1;32m~\\anaconda3\\lib\\site-packages\\plotly\\express\\_chart_types.py\u001b[0m in \u001b[0;36msunburst\u001b[1;34m(data_frame, names, values, parents, path, ids, color, color_continuous_scale, range_color, color_continuous_midpoint, color_discrete_sequence, color_discrete_map, hover_name, hover_data, custom_data, labels, title, template, width, height, branchvalues, maxdepth)\u001b[0m\n\u001b[0;32m   1412\u001b[0m     \u001b[1;32mif\u001b[0m \u001b[0mpath\u001b[0m \u001b[1;32mis\u001b[0m \u001b[1;32mnot\u001b[0m \u001b[1;32mNone\u001b[0m \u001b[1;32mand\u001b[0m \u001b[0mbranchvalues\u001b[0m \u001b[1;32mis\u001b[0m \u001b[1;32mNone\u001b[0m\u001b[1;33m:\u001b[0m\u001b[1;33m\u001b[0m\u001b[1;33m\u001b[0m\u001b[0m\n\u001b[0;32m   1413\u001b[0m         \u001b[0mbranchvalues\u001b[0m \u001b[1;33m=\u001b[0m \u001b[1;34m\"total\"\u001b[0m\u001b[1;33m\u001b[0m\u001b[1;33m\u001b[0m\u001b[0m\n\u001b[1;32m-> 1414\u001b[1;33m     return make_figure(\n\u001b[0m\u001b[0;32m   1415\u001b[0m         \u001b[0margs\u001b[0m\u001b[1;33m=\u001b[0m\u001b[0mlocals\u001b[0m\u001b[1;33m(\u001b[0m\u001b[1;33m)\u001b[0m\u001b[1;33m,\u001b[0m\u001b[1;33m\u001b[0m\u001b[1;33m\u001b[0m\u001b[0m\n\u001b[0;32m   1416\u001b[0m         \u001b[0mconstructor\u001b[0m\u001b[1;33m=\u001b[0m\u001b[0mgo\u001b[0m\u001b[1;33m.\u001b[0m\u001b[0mSunburst\u001b[0m\u001b[1;33m,\u001b[0m\u001b[1;33m\u001b[0m\u001b[1;33m\u001b[0m\u001b[0m\n",
      "\u001b[1;32m~\\anaconda3\\lib\\site-packages\\plotly\\express\\_core.py\u001b[0m in \u001b[0;36mmake_figure\u001b[1;34m(args, constructor, trace_patch, layout_patch)\u001b[0m\n\u001b[0;32m   1859\u001b[0m     \u001b[0mapply_default_cascade\u001b[0m\u001b[1;33m(\u001b[0m\u001b[0margs\u001b[0m\u001b[1;33m)\u001b[0m\u001b[1;33m\u001b[0m\u001b[1;33m\u001b[0m\u001b[0m\n\u001b[0;32m   1860\u001b[0m \u001b[1;33m\u001b[0m\u001b[0m\n\u001b[1;32m-> 1861\u001b[1;33m     \u001b[0margs\u001b[0m \u001b[1;33m=\u001b[0m \u001b[0mbuild_dataframe\u001b[0m\u001b[1;33m(\u001b[0m\u001b[0margs\u001b[0m\u001b[1;33m,\u001b[0m \u001b[0mconstructor\u001b[0m\u001b[1;33m)\u001b[0m\u001b[1;33m\u001b[0m\u001b[1;33m\u001b[0m\u001b[0m\n\u001b[0m\u001b[0;32m   1862\u001b[0m     \u001b[1;32mif\u001b[0m \u001b[0mconstructor\u001b[0m \u001b[1;32min\u001b[0m \u001b[1;33m[\u001b[0m\u001b[0mgo\u001b[0m\u001b[1;33m.\u001b[0m\u001b[0mTreemap\u001b[0m\u001b[1;33m,\u001b[0m \u001b[0mgo\u001b[0m\u001b[1;33m.\u001b[0m\u001b[0mSunburst\u001b[0m\u001b[1;33m]\u001b[0m \u001b[1;32mand\u001b[0m \u001b[0margs\u001b[0m\u001b[1;33m[\u001b[0m\u001b[1;34m\"path\"\u001b[0m\u001b[1;33m]\u001b[0m \u001b[1;32mis\u001b[0m \u001b[1;32mnot\u001b[0m \u001b[1;32mNone\u001b[0m\u001b[1;33m:\u001b[0m\u001b[1;33m\u001b[0m\u001b[1;33m\u001b[0m\u001b[0m\n\u001b[0;32m   1863\u001b[0m         \u001b[0margs\u001b[0m \u001b[1;33m=\u001b[0m \u001b[0mprocess_dataframe_hierarchy\u001b[0m\u001b[1;33m(\u001b[0m\u001b[0margs\u001b[0m\u001b[1;33m)\u001b[0m\u001b[1;33m\u001b[0m\u001b[1;33m\u001b[0m\u001b[0m\n",
      "\u001b[1;32m~\\anaconda3\\lib\\site-packages\\plotly\\express\\_core.py\u001b[0m in \u001b[0;36mbuild_dataframe\u001b[1;34m(args, constructor)\u001b[0m\n\u001b[0;32m   1375\u001b[0m     \u001b[1;31m# now that things have been prepped, we do the systematic rewriting of `args`\u001b[0m\u001b[1;33m\u001b[0m\u001b[1;33m\u001b[0m\u001b[1;33m\u001b[0m\u001b[0m\n\u001b[0;32m   1376\u001b[0m \u001b[1;33m\u001b[0m\u001b[0m\n\u001b[1;32m-> 1377\u001b[1;33m     df_output, wide_id_vars = process_args_into_dataframe(\n\u001b[0m\u001b[0;32m   1378\u001b[0m         \u001b[0margs\u001b[0m\u001b[1;33m,\u001b[0m \u001b[0mwide_mode\u001b[0m\u001b[1;33m,\u001b[0m \u001b[0mvar_name\u001b[0m\u001b[1;33m,\u001b[0m \u001b[0mvalue_name\u001b[0m\u001b[1;33m\u001b[0m\u001b[1;33m\u001b[0m\u001b[0m\n\u001b[0;32m   1379\u001b[0m     )\n",
      "\u001b[1;32m~\\anaconda3\\lib\\site-packages\\plotly\\express\\_core.py\u001b[0m in \u001b[0;36mprocess_args_into_dataframe\u001b[1;34m(args, wide_mode, var_name, value_name)\u001b[0m\n\u001b[0;32m   1181\u001b[0m                         \u001b[1;32mif\u001b[0m \u001b[0margument\u001b[0m \u001b[1;33m==\u001b[0m \u001b[1;34m\"index\"\u001b[0m\u001b[1;33m:\u001b[0m\u001b[1;33m\u001b[0m\u001b[1;33m\u001b[0m\u001b[0m\n\u001b[0;32m   1182\u001b[0m                             \u001b[0merr_msg\u001b[0m \u001b[1;33m+=\u001b[0m \u001b[1;34m\"\\n To use the index, pass it in directly as `df.index`.\"\u001b[0m\u001b[1;33m\u001b[0m\u001b[1;33m\u001b[0m\u001b[0m\n\u001b[1;32m-> 1183\u001b[1;33m                         \u001b[1;32mraise\u001b[0m \u001b[0mValueError\u001b[0m\u001b[1;33m(\u001b[0m\u001b[0merr_msg\u001b[0m\u001b[1;33m)\u001b[0m\u001b[1;33m\u001b[0m\u001b[1;33m\u001b[0m\u001b[0m\n\u001b[0m\u001b[0;32m   1184\u001b[0m                 \u001b[1;32melif\u001b[0m \u001b[0mlength\u001b[0m \u001b[1;32mand\u001b[0m \u001b[0mlen\u001b[0m\u001b[1;33m(\u001b[0m\u001b[0mdf_input\u001b[0m\u001b[1;33m[\u001b[0m\u001b[0margument\u001b[0m\u001b[1;33m]\u001b[0m\u001b[1;33m)\u001b[0m \u001b[1;33m!=\u001b[0m \u001b[0mlength\u001b[0m\u001b[1;33m:\u001b[0m\u001b[1;33m\u001b[0m\u001b[1;33m\u001b[0m\u001b[0m\n\u001b[0;32m   1185\u001b[0m                     raise ValueError(\n",
      "\u001b[1;31mValueError\u001b[0m: Value of 'path_0' is not the name of a column in 'data_frame'. Expected one of ['sale_price_sqr_foot', 'housing_units', 'gross_rent'] but received: neighborhood"
     ]
    }
   ],
   "source": [
    "sunburst()"
   ]
  },
  {
   "cell_type": "code",
   "execution_count": null,
   "metadata": {},
   "outputs": [],
   "source": []
  }
 ],
 "metadata": {
  "file_extension": ".py",
  "kernelspec": {
   "display_name": "Python 3",
   "language": "python",
   "name": "python3"
  },
  "language_info": {
   "codemirror_mode": {
    "name": "ipython",
    "version": 3
   },
   "file_extension": ".py",
   "mimetype": "text/x-python",
   "name": "python",
   "nbconvert_exporter": "python",
   "pygments_lexer": "ipython3",
   "version": "3.8.5"
  },
  "mimetype": "text/x-python",
  "name": "python",
  "npconvert_exporter": "python",
  "pygments_lexer": "ipython3",
  "version": 3
 },
 "nbformat": 4,
 "nbformat_minor": 4
}
